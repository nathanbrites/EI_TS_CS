{
  "cells": [
    {
      "cell_type": "markdown",
      "metadata": {
        "id": "1XRB3MylS6E4"
      },
      "source": [
        "# Import"
      ]
    },
    {
      "cell_type": "code",
      "execution_count": 1,
      "metadata": {
        "colab": {
          "base_uri": "https://localhost:8080/"
        },
        "id": "LxgCfUwVS6Fb",
        "outputId": "a8698b52-6032-47d7-824e-f61eee4e0ac9"
      },
      "outputs": [
        {
          "output_type": "stream",
          "name": "stdout",
          "text": [
            "cuda\n"
          ]
        }
      ],
      "source": [
        "import os\n",
        "import numpy as np\n",
        "import pandas as pd\n",
        "from statsmodels.graphics.tsaplots import plot_acf, plot_pacf\n",
        "from statsmodels.tsa.stattools import adfuller\n",
        "from sklearn.metrics import mean_squared_error\n",
        "from sklearn.preprocessing import MinMaxScaler\n",
        "from torch.utils.data import TensorDataset, DataLoader\n",
        "import torch\n",
        "import torch.nn as nn\n",
        "import torch.optim as optim\n",
        "import torch.utils.data as data_utils\n",
        "from typing import Tuple, List\n",
        "\n",
        "device = torch.device('cuda' if torch.cuda.is_available() else 'cpu')\n",
        "print(device)"
      ]
    },
    {
      "cell_type": "code",
      "execution_count": 3,
      "metadata": {
        "id": "FbTLbWmsS6Fq"
      },
      "outputs": [],
      "source": [
        "df = pd.read_csv(\"data/bilan-electrique.csv\")"
      ]
    },
    {
      "cell_type": "code",
      "execution_count": 4,
      "metadata": {
        "id": "grp-YDuSSHSB",
        "outputId": "77781779-d564-4145-f386-0c547c3a589b",
        "colab": {
          "base_uri": "https://localhost:8080/",
          "height": 490
        }
      },
      "outputs": [
        {
          "output_type": "execute_result",
          "data": {
            "text/plain": [
              "   Unnamed: 0                    datasetid  \\\n",
              "0           0  bilan-electrique-demi-heure   \n",
              "1           1  bilan-electrique-demi-heure   \n",
              "2           2  bilan-electrique-demi-heure   \n",
              "3           3  bilan-electrique-demi-heure   \n",
              "4           4  bilan-electrique-demi-heure   \n",
              "\n",
              "                                   recordid          record_timestamp  \\\n",
              "0  469e9a182b7876ef60a589d1c5e96c7b126e3d5d  2023-05-23T01:00:01.072Z   \n",
              "1  aea7a5ab2946b8ee22696513a55df582ab4cc88e  2023-05-23T01:00:01.072Z   \n",
              "2  82a5950691826f564c0478fac263d680d13d9f52  2023-05-23T01:00:01.072Z   \n",
              "3  4efcda9b8c74f09c20d2587aff2ba39fe2c631f5  2023-05-23T01:00:01.072Z   \n",
              "4  623033632a70179a7876b3f6c4976e657b8b31de  2023-05-23T01:00:01.072Z   \n",
              "\n",
              "   injection_rte        pertes  consommation_hta  soutirage_rte  \\\n",
              "0   3.227413e+10  2.247576e+09      1.002737e+10   1.638638e+09   \n",
              "1   3.267876e+10  2.269769e+09      1.014904e+10   1.774022e+09   \n",
              "2   3.322081e+10  2.306844e+09      1.027547e+10   1.710208e+09   \n",
              "3   3.167001e+10  2.154198e+09      1.037604e+10   1.604080e+09   \n",
              "4   3.144377e+10  2.130123e+09      1.038117e+10   1.668876e+09   \n",
              "\n",
              "   production_profilee_photovoltaique  temperature_normale_lissee  ...  \\\n",
              "0                              4331.0                        15.2  ...   \n",
              "1                              4748.0                        15.2  ...   \n",
              "2                              2858.0                        15.3  ...   \n",
              "3                              4413.0                        15.4  ...   \n",
              "4                              9740.0                        15.6  ...   \n",
              "\n",
              "   consommation_profilee  production_profilee_aut  consommation_totale  mois  \\\n",
              "0           1.996788e+10                1724126.0         3.339388e+10     5   \n",
              "1           2.008523e+10                1724126.0         3.375851e+10     5   \n",
              "2           2.033158e+10                1724126.0         3.426999e+10     5   \n",
              "3           1.861184e+10                1724126.0         3.279717e+10     5   \n",
              "4           1.836745e+10                1724126.0         3.253997e+10     5   \n",
              "\n",
              "   consommation_profilee_ent_hta  pseudo_rayonnement  \\\n",
              "0                      7527228.0                  40   \n",
              "1                      7761054.0                  40   \n",
              "2                      7963496.0                  37   \n",
              "3                      8238396.0                  35   \n",
              "4                      7857570.0                  32   \n",
              "\n",
              "   soutirage_vers_autres_grd                   horodate  \\\n",
              "0                291466466.0  2023-05-12T21:30:00+00:00   \n",
              "1                278342766.0  2023-05-12T21:00:00+00:00   \n",
              "2                273891883.0  2023-05-12T20:30:00+00:00   \n",
              "3                243759584.0  2023-05-12T20:00:00+00:00   \n",
              "4                248111450.0  2023-05-12T19:30:00+00:00   \n",
              "\n",
              "   consommation_telerelevee  production_photovoltaique  \n",
              "0              1.342601e+10                   524678.0  \n",
              "1              1.367329e+10                   583186.0  \n",
              "2              1.393841e+10                   542160.0  \n",
              "3              1.418533e+10                   615659.0  \n",
              "4              1.417252e+10                   574664.0  \n",
              "\n",
              "[5 rows x 29 columns]"
            ],
            "text/html": [
              "\n",
              "  <div id=\"df-a8397b5d-1db8-4f4f-9ed1-1f77ea32e614\">\n",
              "    <div class=\"colab-df-container\">\n",
              "      <div>\n",
              "<style scoped>\n",
              "    .dataframe tbody tr th:only-of-type {\n",
              "        vertical-align: middle;\n",
              "    }\n",
              "\n",
              "    .dataframe tbody tr th {\n",
              "        vertical-align: top;\n",
              "    }\n",
              "\n",
              "    .dataframe thead th {\n",
              "        text-align: right;\n",
              "    }\n",
              "</style>\n",
              "<table border=\"1\" class=\"dataframe\">\n",
              "  <thead>\n",
              "    <tr style=\"text-align: right;\">\n",
              "      <th></th>\n",
              "      <th>Unnamed: 0</th>\n",
              "      <th>datasetid</th>\n",
              "      <th>recordid</th>\n",
              "      <th>record_timestamp</th>\n",
              "      <th>injection_rte</th>\n",
              "      <th>pertes</th>\n",
              "      <th>consommation_hta</th>\n",
              "      <th>soutirage_rte</th>\n",
              "      <th>production_profilee_photovoltaique</th>\n",
              "      <th>temperature_normale_lissee</th>\n",
              "      <th>...</th>\n",
              "      <th>consommation_profilee</th>\n",
              "      <th>production_profilee_aut</th>\n",
              "      <th>consommation_totale</th>\n",
              "      <th>mois</th>\n",
              "      <th>consommation_profilee_ent_hta</th>\n",
              "      <th>pseudo_rayonnement</th>\n",
              "      <th>soutirage_vers_autres_grd</th>\n",
              "      <th>horodate</th>\n",
              "      <th>consommation_telerelevee</th>\n",
              "      <th>production_photovoltaique</th>\n",
              "    </tr>\n",
              "  </thead>\n",
              "  <tbody>\n",
              "    <tr>\n",
              "      <th>0</th>\n",
              "      <td>0</td>\n",
              "      <td>bilan-electrique-demi-heure</td>\n",
              "      <td>469e9a182b7876ef60a589d1c5e96c7b126e3d5d</td>\n",
              "      <td>2023-05-23T01:00:01.072Z</td>\n",
              "      <td>3.227413e+10</td>\n",
              "      <td>2.247576e+09</td>\n",
              "      <td>1.002737e+10</td>\n",
              "      <td>1.638638e+09</td>\n",
              "      <td>4331.0</td>\n",
              "      <td>15.2</td>\n",
              "      <td>...</td>\n",
              "      <td>1.996788e+10</td>\n",
              "      <td>1724126.0</td>\n",
              "      <td>3.339388e+10</td>\n",
              "      <td>5</td>\n",
              "      <td>7527228.0</td>\n",
              "      <td>40</td>\n",
              "      <td>291466466.0</td>\n",
              "      <td>2023-05-12T21:30:00+00:00</td>\n",
              "      <td>1.342601e+10</td>\n",
              "      <td>524678.0</td>\n",
              "    </tr>\n",
              "    <tr>\n",
              "      <th>1</th>\n",
              "      <td>1</td>\n",
              "      <td>bilan-electrique-demi-heure</td>\n",
              "      <td>aea7a5ab2946b8ee22696513a55df582ab4cc88e</td>\n",
              "      <td>2023-05-23T01:00:01.072Z</td>\n",
              "      <td>3.267876e+10</td>\n",
              "      <td>2.269769e+09</td>\n",
              "      <td>1.014904e+10</td>\n",
              "      <td>1.774022e+09</td>\n",
              "      <td>4748.0</td>\n",
              "      <td>15.2</td>\n",
              "      <td>...</td>\n",
              "      <td>2.008523e+10</td>\n",
              "      <td>1724126.0</td>\n",
              "      <td>3.375851e+10</td>\n",
              "      <td>5</td>\n",
              "      <td>7761054.0</td>\n",
              "      <td>40</td>\n",
              "      <td>278342766.0</td>\n",
              "      <td>2023-05-12T21:00:00+00:00</td>\n",
              "      <td>1.367329e+10</td>\n",
              "      <td>583186.0</td>\n",
              "    </tr>\n",
              "    <tr>\n",
              "      <th>2</th>\n",
              "      <td>2</td>\n",
              "      <td>bilan-electrique-demi-heure</td>\n",
              "      <td>82a5950691826f564c0478fac263d680d13d9f52</td>\n",
              "      <td>2023-05-23T01:00:01.072Z</td>\n",
              "      <td>3.322081e+10</td>\n",
              "      <td>2.306844e+09</td>\n",
              "      <td>1.027547e+10</td>\n",
              "      <td>1.710208e+09</td>\n",
              "      <td>2858.0</td>\n",
              "      <td>15.3</td>\n",
              "      <td>...</td>\n",
              "      <td>2.033158e+10</td>\n",
              "      <td>1724126.0</td>\n",
              "      <td>3.426999e+10</td>\n",
              "      <td>5</td>\n",
              "      <td>7963496.0</td>\n",
              "      <td>37</td>\n",
              "      <td>273891883.0</td>\n",
              "      <td>2023-05-12T20:30:00+00:00</td>\n",
              "      <td>1.393841e+10</td>\n",
              "      <td>542160.0</td>\n",
              "    </tr>\n",
              "    <tr>\n",
              "      <th>3</th>\n",
              "      <td>3</td>\n",
              "      <td>bilan-electrique-demi-heure</td>\n",
              "      <td>4efcda9b8c74f09c20d2587aff2ba39fe2c631f5</td>\n",
              "      <td>2023-05-23T01:00:01.072Z</td>\n",
              "      <td>3.167001e+10</td>\n",
              "      <td>2.154198e+09</td>\n",
              "      <td>1.037604e+10</td>\n",
              "      <td>1.604080e+09</td>\n",
              "      <td>4413.0</td>\n",
              "      <td>15.4</td>\n",
              "      <td>...</td>\n",
              "      <td>1.861184e+10</td>\n",
              "      <td>1724126.0</td>\n",
              "      <td>3.279717e+10</td>\n",
              "      <td>5</td>\n",
              "      <td>8238396.0</td>\n",
              "      <td>35</td>\n",
              "      <td>243759584.0</td>\n",
              "      <td>2023-05-12T20:00:00+00:00</td>\n",
              "      <td>1.418533e+10</td>\n",
              "      <td>615659.0</td>\n",
              "    </tr>\n",
              "    <tr>\n",
              "      <th>4</th>\n",
              "      <td>4</td>\n",
              "      <td>bilan-electrique-demi-heure</td>\n",
              "      <td>623033632a70179a7876b3f6c4976e657b8b31de</td>\n",
              "      <td>2023-05-23T01:00:01.072Z</td>\n",
              "      <td>3.144377e+10</td>\n",
              "      <td>2.130123e+09</td>\n",
              "      <td>1.038117e+10</td>\n",
              "      <td>1.668876e+09</td>\n",
              "      <td>9740.0</td>\n",
              "      <td>15.6</td>\n",
              "      <td>...</td>\n",
              "      <td>1.836745e+10</td>\n",
              "      <td>1724126.0</td>\n",
              "      <td>3.253997e+10</td>\n",
              "      <td>5</td>\n",
              "      <td>7857570.0</td>\n",
              "      <td>32</td>\n",
              "      <td>248111450.0</td>\n",
              "      <td>2023-05-12T19:30:00+00:00</td>\n",
              "      <td>1.417252e+10</td>\n",
              "      <td>574664.0</td>\n",
              "    </tr>\n",
              "  </tbody>\n",
              "</table>\n",
              "<p>5 rows × 29 columns</p>\n",
              "</div>\n",
              "      <button class=\"colab-df-convert\" onclick=\"convertToInteractive('df-a8397b5d-1db8-4f4f-9ed1-1f77ea32e614')\"\n",
              "              title=\"Convert this dataframe to an interactive table.\"\n",
              "              style=\"display:none;\">\n",
              "        \n",
              "  <svg xmlns=\"http://www.w3.org/2000/svg\" height=\"24px\"viewBox=\"0 0 24 24\"\n",
              "       width=\"24px\">\n",
              "    <path d=\"M0 0h24v24H0V0z\" fill=\"none\"/>\n",
              "    <path d=\"M18.56 5.44l.94 2.06.94-2.06 2.06-.94-2.06-.94-.94-2.06-.94 2.06-2.06.94zm-11 1L8.5 8.5l.94-2.06 2.06-.94-2.06-.94L8.5 2.5l-.94 2.06-2.06.94zm10 10l.94 2.06.94-2.06 2.06-.94-2.06-.94-.94-2.06-.94 2.06-2.06.94z\"/><path d=\"M17.41 7.96l-1.37-1.37c-.4-.4-.92-.59-1.43-.59-.52 0-1.04.2-1.43.59L10.3 9.45l-7.72 7.72c-.78.78-.78 2.05 0 2.83L4 21.41c.39.39.9.59 1.41.59.51 0 1.02-.2 1.41-.59l7.78-7.78 2.81-2.81c.8-.78.8-2.07 0-2.86zM5.41 20L4 18.59l7.72-7.72 1.47 1.35L5.41 20z\"/>\n",
              "  </svg>\n",
              "      </button>\n",
              "      \n",
              "  <style>\n",
              "    .colab-df-container {\n",
              "      display:flex;\n",
              "      flex-wrap:wrap;\n",
              "      gap: 12px;\n",
              "    }\n",
              "\n",
              "    .colab-df-convert {\n",
              "      background-color: #E8F0FE;\n",
              "      border: none;\n",
              "      border-radius: 50%;\n",
              "      cursor: pointer;\n",
              "      display: none;\n",
              "      fill: #1967D2;\n",
              "      height: 32px;\n",
              "      padding: 0 0 0 0;\n",
              "      width: 32px;\n",
              "    }\n",
              "\n",
              "    .colab-df-convert:hover {\n",
              "      background-color: #E2EBFA;\n",
              "      box-shadow: 0px 1px 2px rgba(60, 64, 67, 0.3), 0px 1px 3px 1px rgba(60, 64, 67, 0.15);\n",
              "      fill: #174EA6;\n",
              "    }\n",
              "\n",
              "    [theme=dark] .colab-df-convert {\n",
              "      background-color: #3B4455;\n",
              "      fill: #D2E3FC;\n",
              "    }\n",
              "\n",
              "    [theme=dark] .colab-df-convert:hover {\n",
              "      background-color: #434B5C;\n",
              "      box-shadow: 0px 1px 3px 1px rgba(0, 0, 0, 0.15);\n",
              "      filter: drop-shadow(0px 1px 2px rgba(0, 0, 0, 0.3));\n",
              "      fill: #FFFFFF;\n",
              "    }\n",
              "  </style>\n",
              "\n",
              "      <script>\n",
              "        const buttonEl =\n",
              "          document.querySelector('#df-a8397b5d-1db8-4f4f-9ed1-1f77ea32e614 button.colab-df-convert');\n",
              "        buttonEl.style.display =\n",
              "          google.colab.kernel.accessAllowed ? 'block' : 'none';\n",
              "\n",
              "        async function convertToInteractive(key) {\n",
              "          const element = document.querySelector('#df-a8397b5d-1db8-4f4f-9ed1-1f77ea32e614');\n",
              "          const dataTable =\n",
              "            await google.colab.kernel.invokeFunction('convertToInteractive',\n",
              "                                                     [key], {});\n",
              "          if (!dataTable) return;\n",
              "\n",
              "          const docLinkHtml = 'Like what you see? Visit the ' +\n",
              "            '<a target=\"_blank\" href=https://colab.research.google.com/notebooks/data_table.ipynb>data table notebook</a>'\n",
              "            + ' to learn more about interactive tables.';\n",
              "          element.innerHTML = '';\n",
              "          dataTable['output_type'] = 'display_data';\n",
              "          await google.colab.output.renderOutput(dataTable, element);\n",
              "          const docLink = document.createElement('div');\n",
              "          docLink.innerHTML = docLinkHtml;\n",
              "          element.appendChild(docLink);\n",
              "        }\n",
              "      </script>\n",
              "    </div>\n",
              "  </div>\n",
              "  "
            ]
          },
          "metadata": {},
          "execution_count": 4
        }
      ],
      "source": [
        "df.head()"
      ]
    },
    {
      "cell_type": "code",
      "execution_count": 5,
      "metadata": {
        "id": "1P1NF7pLSHSB"
      },
      "outputs": [],
      "source": [
        "df['horodate'] = pd.to_datetime(df['horodate']) # Convert 'horodate' column to datetime\n",
        "df = df.set_index('horodate') # Set 'horodate' as the index\n",
        "hourly_avg = df.groupby(pd.Grouper(freq='H'))['consommation_totale'].mean().reset_index(name='consommation_totale')"
      ]
    },
    {
      "cell_type": "code",
      "execution_count": 6,
      "metadata": {
        "id": "LH6QJsw9SHSB",
        "outputId": "d5647768-483f-46bd-f5cd-25c3382288e1",
        "colab": {
          "base_uri": "https://localhost:8080/"
        }
      },
      "outputs": [
        {
          "output_type": "stream",
          "name": "stdout",
          "text": [
            "2023-01-21 01:00:00+00:00\n"
          ]
        }
      ],
      "source": [
        "def read_data(data_path : str = \"data/bilan-electrique.csv\") -> pd.DataFrame:\n",
        "    df = pd.read_csv(data_path)\n",
        "    df['horodate'] = pd.to_datetime(df['horodate']) # Convert 'horodate' column to datetime\n",
        "    df = df.set_index('horodate') # Set 'horodate' as the index\n",
        "    hourly_avg = df.groupby(pd.Grouper(freq='H'))['consommation_totale'].mean().reset_index(name='consommation_totale')\n",
        "    return hourly_avg\n",
        "\n",
        "#print first date\n",
        "print(hourly_avg['horodate'].iloc[0])"
      ]
    },
    {
      "cell_type": "code",
      "source": [
        "df.shape"
      ],
      "metadata": {
        "id": "pZqiaeqpS98Y",
        "outputId": "35d21c56-18e8-4cb5-906a-b553804572dd",
        "colab": {
          "base_uri": "https://localhost:8080/"
        }
      },
      "execution_count": 7,
      "outputs": [
        {
          "output_type": "execute_result",
          "data": {
            "text/plain": [
              "(5371, 28)"
            ]
          },
          "metadata": {},
          "execution_count": 7
        }
      ]
    },
    {
      "cell_type": "markdown",
      "metadata": {
        "id": "v2BTnz4ASHSB"
      },
      "source": [
        "## Create the model"
      ]
    },
    {
      "cell_type": "markdown",
      "metadata": {
        "id": "fEjiqJOkSHSB"
      },
      "source": [
        "The task is to predict a week (168 hours) of consumption. 2 approaches can be used with deep neural networks. We can either predict a single timestamp (next hour) with a given sequence and repeat the process with the predicted timestamp or directly predict the 168 hours from a given sequence with a sequence to sequence model. Predicting a single timestamp and then feeding the prediction back into the model for a week can be simpler in terms of model architecture, but it might lead to the propagation of errors. Since each prediction is used as input for the next prediction, errors can accumulate rapidly. This is especially true for long sequence predictions like a week (168 hours).On the other hand, directly predicting the next week's worth of data (sequence prediction) can potentially be more accurate since it can leverage information from all input at once. But the model architecture can be more complex, and the training might be more difficult and computationally expensive. Plus, it might overfit to specific sequences length and not generalize well to other lengths."
      ]
    },
    {
      "cell_type": "markdown",
      "metadata": {
        "id": "Zbgag3xZSHSC"
      },
      "source": [
        "Here we have chosen to implement the simple model predicting only the next timestamp."
      ]
    },
    {
      "cell_type": "code",
      "execution_count": 8,
      "metadata": {
        "id": "GlnMQnkESHSC"
      },
      "outputs": [],
      "source": [
        "class Model(nn.Module):\n",
        "    def __init__(self, input_size, output_size, hidden_dim, n_layers):\n",
        "        super(Model, self).__init__()\n",
        "\n",
        "        # Defining some parameters\n",
        "        self.hidden_dim = hidden_dim\n",
        "        self.n_layers = n_layers\n",
        "\n",
        "        #Defining the layers\n",
        "        # RNN Layer\n",
        "        self.rnn = nn.RNN(input_size, hidden_dim, n_layers, batch_first=True)   \n",
        "        # Fully connected layer\n",
        "        self.fc = nn.Linear(hidden_dim, output_size)\n",
        "    \n",
        "    def forward(self, x):\n",
        "        batch_size = x.size(0)\n",
        "\n",
        "        # Initializing hidden state for first input using method defined below\n",
        "        hidden = self.init_hidden(batch_size)\n",
        "\n",
        "        # Passing in the input and hidden state into the model and obtaining outputs\n",
        "        out, hidden = self.rnn(x, hidden)\n",
        "    \n",
        "        # use the last hidden state as the input to the fully connected layer\n",
        "        out = self.fc(hidden[-1])\n",
        "    \n",
        "        return out\n",
        "    \n",
        "    def init_hidden(self, batch_size):\n",
        "        # This method generates the first hidden state of zeros which we'll use in the forward pass\n",
        "        # We'll send the tensor holding the hidden state to the device we specified earlier as well\n",
        "        hidden = torch.zeros(self.n_layers, batch_size, self.hidden_dim).to(device)\n",
        "        return hidden\n"
      ]
    },
    {
      "cell_type": "markdown",
      "metadata": {
        "id": "wlfcNoZSS6GF"
      },
      "source": [
        "## Prepare the data"
      ]
    },
    {
      "cell_type": "code",
      "execution_count": 9,
      "metadata": {
        "id": "c_elt_UFSHSC"
      },
      "outputs": [],
      "source": [
        "def create_sequences(data, sequence_length, pred_len=1):\n",
        "    x = []\n",
        "    y = []\n",
        "    for i in range(len(data)-sequence_length-pred_len+1):\n",
        "        x.append(data[i:i+sequence_length])\n",
        "        y.append(data[i+sequence_length:i+sequence_length+pred_len])\n",
        "    return np.array(x), np.array(y)"
      ]
    },
    {
      "cell_type": "code",
      "execution_count": 10,
      "metadata": {
        "id": "fDA95vaFSHSC"
      },
      "outputs": [],
      "source": [
        "from datetime import datetime\n",
        "import time\n",
        "from sklearn.model_selection import train_test_split\n",
        "\n",
        "def preprocess_data(file_path, sequence_length=186, output_seq_len=1, split_ratio=0.8, batch_size=32):\n",
        "    # Load the dataset\n",
        "    df = read_data(file_path)\n",
        "    data = df['consommation_totale'].values.reshape(-1, 1)\n",
        "    \n",
        "    # Normalize the 'consommation_totale' data with MinMaxScaler\n",
        "    scaler = MinMaxScaler(feature_range=(-1, 1))\n",
        "    data = scaler.fit_transform(data)\n",
        "    \n",
        "    x, y = create_sequences(data, sequence_length, output_seq_len)  # pass output_seq_len here\n",
        "    \n",
        "    x_train, x_test, y_train, y_test = train_test_split(x, y, test_size=1-split_ratio, random_state=42)\n",
        "\n",
        "    # Convert to Tensors and create data loaders\n",
        "    train_data = TensorDataset(torch.Tensor(x_train), torch.Tensor(y_train))\n",
        "    test_data = TensorDataset(torch.Tensor(x_test), torch.Tensor(y_test))\n",
        "\n",
        "    train_loader = DataLoader(train_data, shuffle=False, batch_size=batch_size)\n",
        "    test_loader = DataLoader(test_data, shuffle=False, batch_size=batch_size)\n",
        "    \n",
        "    return train_loader, test_loader, scaler"
      ]
    },
    {
      "cell_type": "markdown",
      "metadata": {
        "id": "Yv-es2xHSHSC"
      },
      "source": [
        "## Train the model"
      ]
    },
    {
      "cell_type": "code",
      "execution_count": 11,
      "metadata": {
        "id": "nw7U4Ck3SHSC"
      },
      "outputs": [],
      "source": [
        "import matplotlib.pyplot as plt\n",
        "import tqdm\n",
        "\n",
        "def train_model(model, train_loader, test_loader, num_epochs, learning_rate, patience=5):\n",
        "    \"\"\"Train the model and print the loss for each epoch\n",
        "\n",
        "    Args:\n",
        "        model: the model to train\n",
        "        train_loader: the training data loader\n",
        "        test_loader: the testing data loader\n",
        "        num_epochs: the number of epochs to train\n",
        "        learning_rate: the learning rate\n",
        "        patience: the number of epochs to wait before early stopping\n",
        "    \"\"\"\n",
        "    torch.nn.utils.clip_grad_norm_(model.parameters(), max_norm=1) # clip gradients to prevent exploding gradient problem \n",
        "    criterion = torch.nn.MSELoss() # mean-squared error for regression\n",
        "    optimizer = torch.optim.Adam(model.parameters(), lr=learning_rate) # adam optimizer (backward pass)\n",
        "    \n",
        "    train_loss_list = []\n",
        "    test_loss_list = []\n",
        "\n",
        "    best_loss = float('inf')\n",
        "    no_improve_epoch = 0\n",
        "\n",
        "    for epoch in tqdm.tqdm(range(num_epochs), desc='Training the model', unit='epoch', total=num_epochs):\n",
        "        \n",
        "        ## Training\n",
        "        train_loss = 0\n",
        "        for inputs, targets in train_loader: # for each training step\n",
        "            inputs = inputs.to(device)\n",
        "            targets = targets.to(device)\n",
        "            output = model(inputs) # forward pass\n",
        "            targets = targets[:,0,:]\n",
        "            loss = criterion(output, targets)\n",
        "\n",
        "            optimizer.zero_grad() # clear the gradients\n",
        "            loss.backward() # backward pass\n",
        "            optimizer.step() # optimize the weights\n",
        "\n",
        "            train_loss += loss.item() \n",
        "            \n",
        "        train_loss /= len(train_loader)\n",
        "        train_loss_list.append(train_loss)\n",
        "        \n",
        "        ## Testing \n",
        "        test_loss = 0\n",
        "        with torch.no_grad(): \n",
        "            for inputs, targets in test_loader:\n",
        "                inputs = inputs.to(device)\n",
        "                targets = targets.to(device)\n",
        "                output = model(inputs)\n",
        "                targets = targets[:,0,:]\n",
        "                loss = criterion(output, targets)\n",
        "                test_loss += loss.item()\n",
        "\n",
        "        test_loss /= len(test_loader)\n",
        "        test_loss_list.append(test_loss)\n",
        "\n",
        "        #print('Epoch [{}/{}], Loss: {:.4f}, Test Loss: {:.4f}'\n",
        "        #      .format(epoch+1, num_epochs, train_loss, test_loss))\n",
        "\n",
        "        # check for early stopping (prevent overfitting)\n",
        "        if test_loss < best_loss:\n",
        "            best_loss = test_loss\n",
        "            no_improve_epoch = 0\n",
        "        else:\n",
        "            no_improve_epoch += 1\n",
        "            if no_improve_epoch == patience:\n",
        "                print('Early stopping')\n",
        "                break\n",
        "\n",
        "    # Plot training and testing loss\n",
        "    plt.plot(train_loss_list, label='Training Loss')\n",
        "    plt.plot(test_loss_list, label='Testing Loss')\n",
        "    plt.xlabel('Epoch')\n",
        "    plt.ylabel('Loss')\n",
        "    plt.title('Training and Testing Loss Over Time')\n",
        "    plt.legend()\n",
        "    plt.show()\n",
        "\n",
        "    return model\n"
      ]
    },
    {
      "cell_type": "code",
      "execution_count": 18,
      "metadata": {
        "id": "qUW6-9NWSHSD",
        "outputId": "6b0403ba-5688-4520-f281-0dbcdf75217e",
        "colab": {
          "base_uri": "https://localhost:8080/",
          "height": 1000
        }
      },
      "outputs": [
        {
          "output_type": "stream",
          "name": "stderr",
          "text": [
            "Training the model:   0%|          | 1/1000 [00:00<04:39,  3.57epoch/s]"
          ]
        },
        {
          "output_type": "stream",
          "name": "stdout",
          "text": [
            "Epoch [1/1000], Loss: 0.1455, Test Loss: 0.1173\n"
          ]
        },
        {
          "output_type": "stream",
          "name": "stderr",
          "text": [
            "\rTraining the model:   0%|          | 2/1000 [00:00<04:27,  3.74epoch/s]"
          ]
        },
        {
          "output_type": "stream",
          "name": "stdout",
          "text": [
            "Epoch [2/1000], Loss: 0.1306, Test Loss: 0.1042\n"
          ]
        },
        {
          "output_type": "stream",
          "name": "stderr",
          "text": [
            "Training the model:   0%|          | 4/1000 [00:00<03:45,  4.42epoch/s]"
          ]
        },
        {
          "output_type": "stream",
          "name": "stdout",
          "text": [
            "Epoch [3/1000], Loss: 0.1124, Test Loss: 0.0839\n",
            "Epoch [4/1000], Loss: 0.0812, Test Loss: 0.0482\n"
          ]
        },
        {
          "output_type": "stream",
          "name": "stderr",
          "text": [
            "Training the model:   1%|          | 6/1000 [00:01<03:17,  5.02epoch/s]"
          ]
        },
        {
          "output_type": "stream",
          "name": "stdout",
          "text": [
            "Epoch [5/1000], Loss: 0.0405, Test Loss: 0.0275\n",
            "Epoch [6/1000], Loss: 0.0303, Test Loss: 0.0271\n"
          ]
        },
        {
          "output_type": "stream",
          "name": "stderr",
          "text": [
            "Training the model:   1%|          | 8/1000 [00:01<03:05,  5.34epoch/s]"
          ]
        },
        {
          "output_type": "stream",
          "name": "stdout",
          "text": [
            "Epoch [7/1000], Loss: 0.0296, Test Loss: 0.0265\n",
            "Epoch [8/1000], Loss: 0.0289, Test Loss: 0.0258\n"
          ]
        },
        {
          "output_type": "stream",
          "name": "stderr",
          "text": [
            "Training the model:   1%|          | 10/1000 [00:02<03:00,  5.47epoch/s]"
          ]
        },
        {
          "output_type": "stream",
          "name": "stdout",
          "text": [
            "Epoch [9/1000], Loss: 0.0282, Test Loss: 0.0252\n",
            "Epoch [10/1000], Loss: 0.0276, Test Loss: 0.0246\n"
          ]
        },
        {
          "output_type": "stream",
          "name": "stderr",
          "text": [
            "Training the model:   1%|          | 12/1000 [00:02<02:57,  5.56epoch/s]"
          ]
        },
        {
          "output_type": "stream",
          "name": "stdout",
          "text": [
            "Epoch [11/1000], Loss: 0.0269, Test Loss: 0.0240\n",
            "Epoch [12/1000], Loss: 0.0262, Test Loss: 0.0234\n"
          ]
        },
        {
          "output_type": "stream",
          "name": "stderr",
          "text": [
            "Training the model:   1%|▏         | 14/1000 [00:02<02:59,  5.50epoch/s]"
          ]
        },
        {
          "output_type": "stream",
          "name": "stdout",
          "text": [
            "Epoch [13/1000], Loss: 0.0255, Test Loss: 0.0227\n",
            "Epoch [14/1000], Loss: 0.0248, Test Loss: 0.0221\n"
          ]
        },
        {
          "output_type": "stream",
          "name": "stderr",
          "text": [
            "Training the model:   2%|▏         | 16/1000 [00:03<02:58,  5.52epoch/s]"
          ]
        },
        {
          "output_type": "stream",
          "name": "stdout",
          "text": [
            "Epoch [15/1000], Loss: 0.0241, Test Loss: 0.0214\n",
            "Epoch [16/1000], Loss: 0.0234, Test Loss: 0.0207\n"
          ]
        },
        {
          "output_type": "stream",
          "name": "stderr",
          "text": [
            "Training the model:   2%|▏         | 18/1000 [00:03<02:58,  5.51epoch/s]"
          ]
        },
        {
          "output_type": "stream",
          "name": "stdout",
          "text": [
            "Epoch [17/1000], Loss: 0.0226, Test Loss: 0.0199\n",
            "Epoch [18/1000], Loss: 0.0218, Test Loss: 0.0192\n"
          ]
        },
        {
          "output_type": "stream",
          "name": "stderr",
          "text": [
            "Training the model:   2%|▏         | 20/1000 [00:03<02:58,  5.50epoch/s]"
          ]
        },
        {
          "output_type": "stream",
          "name": "stdout",
          "text": [
            "Epoch [19/1000], Loss: 0.0210, Test Loss: 0.0184\n",
            "Epoch [20/1000], Loss: 0.0201, Test Loss: 0.0176\n"
          ]
        },
        {
          "output_type": "stream",
          "name": "stderr",
          "text": [
            "Training the model:   2%|▏         | 22/1000 [00:04<02:55,  5.56epoch/s]"
          ]
        },
        {
          "output_type": "stream",
          "name": "stdout",
          "text": [
            "Epoch [21/1000], Loss: 0.0192, Test Loss: 0.0167\n",
            "Epoch [22/1000], Loss: 0.0183, Test Loss: 0.0159\n"
          ]
        },
        {
          "output_type": "stream",
          "name": "stderr",
          "text": [
            "Training the model:   2%|▏         | 24/1000 [00:04<02:54,  5.60epoch/s]"
          ]
        },
        {
          "output_type": "stream",
          "name": "stdout",
          "text": [
            "Epoch [23/1000], Loss: 0.0174, Test Loss: 0.0150\n",
            "Epoch [24/1000], Loss: 0.0164, Test Loss: 0.0141\n"
          ]
        },
        {
          "output_type": "stream",
          "name": "stderr",
          "text": [
            "Training the model:   3%|▎         | 26/1000 [00:04<02:56,  5.51epoch/s]"
          ]
        },
        {
          "output_type": "stream",
          "name": "stdout",
          "text": [
            "Epoch [25/1000], Loss: 0.0155, Test Loss: 0.0133\n",
            "Epoch [26/1000], Loss: 0.0146, Test Loss: 0.0124\n"
          ]
        },
        {
          "output_type": "stream",
          "name": "stderr",
          "text": [
            "Training the model:   3%|▎         | 28/1000 [00:05<02:57,  5.46epoch/s]"
          ]
        },
        {
          "output_type": "stream",
          "name": "stdout",
          "text": [
            "Epoch [27/1000], Loss: 0.0137, Test Loss: 0.0117\n",
            "Epoch [28/1000], Loss: 0.0130, Test Loss: 0.0110\n"
          ]
        },
        {
          "output_type": "stream",
          "name": "stderr",
          "text": [
            "Training the model:   3%|▎         | 30/1000 [00:05<02:59,  5.42epoch/s]"
          ]
        },
        {
          "output_type": "stream",
          "name": "stdout",
          "text": [
            "Epoch [29/1000], Loss: 0.0123, Test Loss: 0.0105\n",
            "Epoch [30/1000], Loss: 0.0117, Test Loss: 0.0101\n"
          ]
        },
        {
          "output_type": "stream",
          "name": "stderr",
          "text": [
            "Training the model:   3%|▎         | 32/1000 [00:06<02:58,  5.42epoch/s]"
          ]
        },
        {
          "output_type": "stream",
          "name": "stdout",
          "text": [
            "Epoch [31/1000], Loss: 0.0113, Test Loss: 0.0098\n",
            "Epoch [32/1000], Loss: 0.0109, Test Loss: 0.0096\n"
          ]
        },
        {
          "output_type": "stream",
          "name": "stderr",
          "text": [
            "Training the model:   3%|▎         | 34/1000 [00:06<02:54,  5.53epoch/s]"
          ]
        },
        {
          "output_type": "stream",
          "name": "stdout",
          "text": [
            "Epoch [33/1000], Loss: 0.0106, Test Loss: 0.0095\n",
            "Epoch [34/1000], Loss: 0.0104, Test Loss: 0.0094\n"
          ]
        },
        {
          "output_type": "stream",
          "name": "stderr",
          "text": [
            "Training the model:   4%|▎         | 36/1000 [00:06<02:51,  5.61epoch/s]"
          ]
        },
        {
          "output_type": "stream",
          "name": "stdout",
          "text": [
            "Epoch [35/1000], Loss: 0.0102, Test Loss: 0.0093\n",
            "Epoch [36/1000], Loss: 0.0100, Test Loss: 0.0091\n"
          ]
        },
        {
          "output_type": "stream",
          "name": "stderr",
          "text": [
            "Training the model:   4%|▍         | 38/1000 [00:07<02:54,  5.52epoch/s]"
          ]
        },
        {
          "output_type": "stream",
          "name": "stdout",
          "text": [
            "Epoch [37/1000], Loss: 0.0099, Test Loss: 0.0090\n",
            "Epoch [38/1000], Loss: 0.0097, Test Loss: 0.0089\n"
          ]
        },
        {
          "output_type": "stream",
          "name": "stderr",
          "text": [
            "Training the model:   4%|▍         | 40/1000 [00:07<02:54,  5.49epoch/s]"
          ]
        },
        {
          "output_type": "stream",
          "name": "stdout",
          "text": [
            "Epoch [39/1000], Loss: 0.0096, Test Loss: 0.0088\n",
            "Epoch [40/1000], Loss: 0.0094, Test Loss: 0.0087\n"
          ]
        },
        {
          "output_type": "stream",
          "name": "stderr",
          "text": [
            "Training the model:   4%|▍         | 42/1000 [00:07<02:57,  5.40epoch/s]"
          ]
        },
        {
          "output_type": "stream",
          "name": "stdout",
          "text": [
            "Epoch [41/1000], Loss: 0.0092, Test Loss: 0.0086\n",
            "Epoch [42/1000], Loss: 0.0091, Test Loss: 0.0085\n"
          ]
        },
        {
          "output_type": "stream",
          "name": "stderr",
          "text": [
            "Training the model:   4%|▍         | 44/1000 [00:08<02:56,  5.41epoch/s]"
          ]
        },
        {
          "output_type": "stream",
          "name": "stdout",
          "text": [
            "Epoch [43/1000], Loss: 0.0090, Test Loss: 0.0084\n",
            "Epoch [44/1000], Loss: 0.0088, Test Loss: 0.0083\n"
          ]
        },
        {
          "output_type": "stream",
          "name": "stderr",
          "text": [
            "Training the model:   5%|▍         | 46/1000 [00:08<02:54,  5.48epoch/s]"
          ]
        },
        {
          "output_type": "stream",
          "name": "stdout",
          "text": [
            "Epoch [45/1000], Loss: 0.0087, Test Loss: 0.0082\n",
            "Epoch [46/1000], Loss: 0.0085, Test Loss: 0.0081\n"
          ]
        },
        {
          "output_type": "stream",
          "name": "stderr",
          "text": [
            "Training the model:   5%|▍         | 48/1000 [00:08<02:55,  5.42epoch/s]"
          ]
        },
        {
          "output_type": "stream",
          "name": "stdout",
          "text": [
            "Epoch [47/1000], Loss: 0.0084, Test Loss: 0.0080\n",
            "Epoch [48/1000], Loss: 0.0083, Test Loss: 0.0079\n"
          ]
        },
        {
          "output_type": "stream",
          "name": "stderr",
          "text": [
            "Training the model:   5%|▌         | 50/1000 [00:09<02:53,  5.47epoch/s]"
          ]
        },
        {
          "output_type": "stream",
          "name": "stdout",
          "text": [
            "Epoch [49/1000], Loss: 0.0081, Test Loss: 0.0078\n",
            "Epoch [50/1000], Loss: 0.0080, Test Loss: 0.0077\n"
          ]
        },
        {
          "output_type": "stream",
          "name": "stderr",
          "text": [
            "Training the model:   5%|▌         | 52/1000 [00:09<02:52,  5.49epoch/s]"
          ]
        },
        {
          "output_type": "stream",
          "name": "stdout",
          "text": [
            "Epoch [51/1000], Loss: 0.0078, Test Loss: 0.0076\n",
            "Epoch [52/1000], Loss: 0.0077, Test Loss: 0.0074\n"
          ]
        },
        {
          "output_type": "stream",
          "name": "stderr",
          "text": [
            "Training the model:   5%|▌         | 54/1000 [00:10<02:52,  5.48epoch/s]"
          ]
        },
        {
          "output_type": "stream",
          "name": "stdout",
          "text": [
            "Epoch [53/1000], Loss: 0.0076, Test Loss: 0.0073\n",
            "Epoch [54/1000], Loss: 0.0074, Test Loss: 0.0072\n"
          ]
        },
        {
          "output_type": "stream",
          "name": "stderr",
          "text": [
            "Training the model:   6%|▌         | 56/1000 [00:10<02:53,  5.44epoch/s]"
          ]
        },
        {
          "output_type": "stream",
          "name": "stdout",
          "text": [
            "Epoch [55/1000], Loss: 0.0073, Test Loss: 0.0071\n",
            "Epoch [56/1000], Loss: 0.0071, Test Loss: 0.0070\n"
          ]
        },
        {
          "output_type": "stream",
          "name": "stderr",
          "text": [
            "\rTraining the model:   6%|▌         | 57/1000 [00:10<02:54,  5.40epoch/s]"
          ]
        },
        {
          "output_type": "stream",
          "name": "stdout",
          "text": [
            "Epoch [57/1000], Loss: 0.0070, Test Loss: 0.0069\n"
          ]
        },
        {
          "output_type": "stream",
          "name": "stderr",
          "text": [
            "\rTraining the model:   6%|▌         | 58/1000 [00:10<03:04,  5.09epoch/s]"
          ]
        },
        {
          "output_type": "stream",
          "name": "stdout",
          "text": [
            "Epoch [58/1000], Loss: 0.0069, Test Loss: 0.0068\n"
          ]
        },
        {
          "output_type": "stream",
          "name": "stderr",
          "text": [
            "\rTraining the model:   6%|▌         | 59/1000 [00:11<03:22,  4.65epoch/s]"
          ]
        },
        {
          "output_type": "stream",
          "name": "stdout",
          "text": [
            "Epoch [59/1000], Loss: 0.0067, Test Loss: 0.0067\n"
          ]
        },
        {
          "output_type": "stream",
          "name": "stderr",
          "text": [
            "\rTraining the model:   6%|▌         | 60/1000 [00:11<03:35,  4.36epoch/s]"
          ]
        },
        {
          "output_type": "stream",
          "name": "stdout",
          "text": [
            "Epoch [60/1000], Loss: 0.0066, Test Loss: 0.0065\n"
          ]
        },
        {
          "output_type": "stream",
          "name": "stderr",
          "text": [
            "\rTraining the model:   6%|▌         | 61/1000 [00:11<03:42,  4.21epoch/s]"
          ]
        },
        {
          "output_type": "stream",
          "name": "stdout",
          "text": [
            "Epoch [61/1000], Loss: 0.0064, Test Loss: 0.0064\n"
          ]
        },
        {
          "output_type": "stream",
          "name": "stderr",
          "text": [
            "\rTraining the model:   6%|▌         | 62/1000 [00:11<03:49,  4.08epoch/s]"
          ]
        },
        {
          "output_type": "stream",
          "name": "stdout",
          "text": [
            "Epoch [62/1000], Loss: 0.0063, Test Loss: 0.0063\n"
          ]
        },
        {
          "output_type": "stream",
          "name": "stderr",
          "text": [
            "\rTraining the model:   6%|▋         | 63/1000 [00:12<03:55,  3.98epoch/s]"
          ]
        },
        {
          "output_type": "stream",
          "name": "stdout",
          "text": [
            "Epoch [63/1000], Loss: 0.0062, Test Loss: 0.0062\n"
          ]
        },
        {
          "output_type": "stream",
          "name": "stderr",
          "text": [
            "\rTraining the model:   6%|▋         | 64/1000 [00:12<03:58,  3.93epoch/s]"
          ]
        },
        {
          "output_type": "stream",
          "name": "stdout",
          "text": [
            "Epoch [64/1000], Loss: 0.0060, Test Loss: 0.0061\n"
          ]
        },
        {
          "output_type": "stream",
          "name": "stderr",
          "text": [
            "\rTraining the model:   6%|▋         | 65/1000 [00:12<03:59,  3.90epoch/s]"
          ]
        },
        {
          "output_type": "stream",
          "name": "stdout",
          "text": [
            "Epoch [65/1000], Loss: 0.0059, Test Loss: 0.0060\n"
          ]
        },
        {
          "output_type": "stream",
          "name": "stderr",
          "text": [
            "Training the model:   7%|▋         | 67/1000 [00:13<03:40,  4.24epoch/s]"
          ]
        },
        {
          "output_type": "stream",
          "name": "stdout",
          "text": [
            "Epoch [66/1000], Loss: 0.0058, Test Loss: 0.0059\n",
            "Epoch [67/1000], Loss: 0.0057, Test Loss: 0.0058\n"
          ]
        },
        {
          "output_type": "stream",
          "name": "stderr",
          "text": [
            "Training the model:   7%|▋         | 69/1000 [00:13<03:14,  4.78epoch/s]"
          ]
        },
        {
          "output_type": "stream",
          "name": "stdout",
          "text": [
            "Epoch [68/1000], Loss: 0.0056, Test Loss: 0.0057\n",
            "Epoch [69/1000], Loss: 0.0055, Test Loss: 0.0056\n"
          ]
        },
        {
          "output_type": "stream",
          "name": "stderr",
          "text": [
            "Training the model:   7%|▋         | 71/1000 [00:13<03:00,  5.14epoch/s]"
          ]
        },
        {
          "output_type": "stream",
          "name": "stdout",
          "text": [
            "Epoch [70/1000], Loss: 0.0054, Test Loss: 0.0055\n",
            "Epoch [71/1000], Loss: 0.0053, Test Loss: 0.0054\n"
          ]
        },
        {
          "output_type": "stream",
          "name": "stderr",
          "text": [
            "Training the model:   7%|▋         | 73/1000 [00:14<02:55,  5.29epoch/s]"
          ]
        },
        {
          "output_type": "stream",
          "name": "stdout",
          "text": [
            "Epoch [72/1000], Loss: 0.0053, Test Loss: 0.0054\n",
            "Epoch [73/1000], Loss: 0.0052, Test Loss: 0.0053\n"
          ]
        },
        {
          "output_type": "stream",
          "name": "stderr",
          "text": [
            "Training the model:   8%|▊         | 75/1000 [00:14<02:51,  5.40epoch/s]"
          ]
        },
        {
          "output_type": "stream",
          "name": "stdout",
          "text": [
            "Epoch [74/1000], Loss: 0.0051, Test Loss: 0.0052\n",
            "Epoch [75/1000], Loss: 0.0051, Test Loss: 0.0052\n"
          ]
        },
        {
          "output_type": "stream",
          "name": "stderr",
          "text": [
            "Training the model:   8%|▊         | 77/1000 [00:14<02:53,  5.33epoch/s]"
          ]
        },
        {
          "output_type": "stream",
          "name": "stdout",
          "text": [
            "Epoch [76/1000], Loss: 0.0050, Test Loss: 0.0051\n",
            "Epoch [77/1000], Loss: 0.0050, Test Loss: 0.0051\n"
          ]
        },
        {
          "output_type": "stream",
          "name": "stderr",
          "text": [
            "Training the model:   8%|▊         | 79/1000 [00:15<02:51,  5.37epoch/s]"
          ]
        },
        {
          "output_type": "stream",
          "name": "stdout",
          "text": [
            "Epoch [78/1000], Loss: 0.0049, Test Loss: 0.0050\n",
            "Epoch [79/1000], Loss: 0.0048, Test Loss: 0.0049\n"
          ]
        },
        {
          "output_type": "stream",
          "name": "stderr",
          "text": [
            "Training the model:   8%|▊         | 81/1000 [00:15<02:48,  5.45epoch/s]"
          ]
        },
        {
          "output_type": "stream",
          "name": "stdout",
          "text": [
            "Epoch [80/1000], Loss: 0.0048, Test Loss: 0.0049\n",
            "Epoch [81/1000], Loss: 0.0047, Test Loss: 0.0048\n"
          ]
        },
        {
          "output_type": "stream",
          "name": "stderr",
          "text": [
            "Training the model:   8%|▊         | 83/1000 [00:16<02:47,  5.48epoch/s]"
          ]
        },
        {
          "output_type": "stream",
          "name": "stdout",
          "text": [
            "Epoch [82/1000], Loss: 0.0047, Test Loss: 0.0048\n",
            "Epoch [83/1000], Loss: 0.0046, Test Loss: 0.0047\n"
          ]
        },
        {
          "output_type": "stream",
          "name": "stderr",
          "text": [
            "Training the model:   8%|▊         | 85/1000 [00:16<02:48,  5.43epoch/s]"
          ]
        },
        {
          "output_type": "stream",
          "name": "stdout",
          "text": [
            "Epoch [84/1000], Loss: 0.0045, Test Loss: 0.0047\n",
            "Epoch [85/1000], Loss: 0.0045, Test Loss: 0.0046\n"
          ]
        },
        {
          "output_type": "stream",
          "name": "stderr",
          "text": [
            "Training the model:   9%|▊         | 87/1000 [00:16<02:46,  5.49epoch/s]"
          ]
        },
        {
          "output_type": "stream",
          "name": "stdout",
          "text": [
            "Epoch [86/1000], Loss: 0.0044, Test Loss: 0.0046\n",
            "Epoch [87/1000], Loss: 0.0044, Test Loss: 0.0045\n"
          ]
        },
        {
          "output_type": "stream",
          "name": "stderr",
          "text": [
            "Training the model:   9%|▉         | 89/1000 [00:17<02:47,  5.43epoch/s]"
          ]
        },
        {
          "output_type": "stream",
          "name": "stdout",
          "text": [
            "Epoch [88/1000], Loss: 0.0043, Test Loss: 0.0045\n",
            "Epoch [89/1000], Loss: 0.0043, Test Loss: 0.0044\n"
          ]
        },
        {
          "output_type": "stream",
          "name": "stderr",
          "text": [
            "Training the model:   9%|▉         | 91/1000 [00:17<02:45,  5.48epoch/s]"
          ]
        },
        {
          "output_type": "stream",
          "name": "stdout",
          "text": [
            "Epoch [90/1000], Loss: 0.0042, Test Loss: 0.0044\n",
            "Epoch [91/1000], Loss: 0.0042, Test Loss: 0.0043\n"
          ]
        },
        {
          "output_type": "stream",
          "name": "stderr",
          "text": [
            "Training the model:   9%|▉         | 93/1000 [00:17<02:45,  5.47epoch/s]"
          ]
        },
        {
          "output_type": "stream",
          "name": "stdout",
          "text": [
            "Epoch [92/1000], Loss: 0.0041, Test Loss: 0.0043\n",
            "Epoch [93/1000], Loss: 0.0040, Test Loss: 0.0042\n"
          ]
        },
        {
          "output_type": "stream",
          "name": "stderr",
          "text": [
            "Training the model:  10%|▉         | 95/1000 [00:18<02:45,  5.46epoch/s]"
          ]
        },
        {
          "output_type": "stream",
          "name": "stdout",
          "text": [
            "Epoch [94/1000], Loss: 0.0040, Test Loss: 0.0042\n",
            "Epoch [95/1000], Loss: 0.0039, Test Loss: 0.0041\n"
          ]
        },
        {
          "output_type": "stream",
          "name": "stderr",
          "text": [
            "Training the model:  10%|▉         | 97/1000 [00:18<02:43,  5.54epoch/s]"
          ]
        },
        {
          "output_type": "stream",
          "name": "stdout",
          "text": [
            "Epoch [96/1000], Loss: 0.0039, Test Loss: 0.0041\n",
            "Epoch [97/1000], Loss: 0.0038, Test Loss: 0.0040\n"
          ]
        },
        {
          "output_type": "stream",
          "name": "stderr",
          "text": [
            "Training the model:  10%|▉         | 99/1000 [00:18<02:41,  5.57epoch/s]"
          ]
        },
        {
          "output_type": "stream",
          "name": "stdout",
          "text": [
            "Epoch [98/1000], Loss: 0.0038, Test Loss: 0.0040\n",
            "Epoch [99/1000], Loss: 0.0037, Test Loss: 0.0039\n"
          ]
        },
        {
          "output_type": "stream",
          "name": "stderr",
          "text": [
            "Training the model:  10%|█         | 101/1000 [00:19<02:42,  5.53epoch/s]"
          ]
        },
        {
          "output_type": "stream",
          "name": "stdout",
          "text": [
            "Epoch [100/1000], Loss: 0.0037, Test Loss: 0.0039\n",
            "Epoch [101/1000], Loss: 0.0036, Test Loss: 0.0038\n"
          ]
        },
        {
          "output_type": "stream",
          "name": "stderr",
          "text": [
            "Training the model:  10%|█         | 103/1000 [00:19<02:41,  5.55epoch/s]"
          ]
        },
        {
          "output_type": "stream",
          "name": "stdout",
          "text": [
            "Epoch [102/1000], Loss: 0.0036, Test Loss: 0.0038\n",
            "Epoch [103/1000], Loss: 0.0035, Test Loss: 0.0037\n"
          ]
        },
        {
          "output_type": "stream",
          "name": "stderr",
          "text": [
            "Training the model:  10%|█         | 105/1000 [00:20<02:45,  5.39epoch/s]"
          ]
        },
        {
          "output_type": "stream",
          "name": "stdout",
          "text": [
            "Epoch [104/1000], Loss: 0.0035, Test Loss: 0.0037\n",
            "Epoch [105/1000], Loss: 0.0034, Test Loss: 0.0036\n"
          ]
        },
        {
          "output_type": "stream",
          "name": "stderr",
          "text": [
            "Training the model:  11%|█         | 107/1000 [00:20<02:45,  5.39epoch/s]"
          ]
        },
        {
          "output_type": "stream",
          "name": "stdout",
          "text": [
            "Epoch [106/1000], Loss: 0.0034, Test Loss: 0.0036\n",
            "Epoch [107/1000], Loss: 0.0033, Test Loss: 0.0035\n"
          ]
        },
        {
          "output_type": "stream",
          "name": "stderr",
          "text": [
            "Training the model:  11%|█         | 109/1000 [00:20<02:45,  5.37epoch/s]"
          ]
        },
        {
          "output_type": "stream",
          "name": "stdout",
          "text": [
            "Epoch [108/1000], Loss: 0.0033, Test Loss: 0.0035\n",
            "Epoch [109/1000], Loss: 0.0032, Test Loss: 0.0034\n"
          ]
        },
        {
          "output_type": "stream",
          "name": "stderr",
          "text": [
            "Training the model:  11%|█         | 111/1000 [00:21<02:44,  5.40epoch/s]"
          ]
        },
        {
          "output_type": "stream",
          "name": "stdout",
          "text": [
            "Epoch [110/1000], Loss: 0.0032, Test Loss: 0.0034\n",
            "Epoch [111/1000], Loss: 0.0031, Test Loss: 0.0033\n"
          ]
        },
        {
          "output_type": "stream",
          "name": "stderr",
          "text": [
            "Training the model:  11%|█▏        | 113/1000 [00:21<02:43,  5.41epoch/s]"
          ]
        },
        {
          "output_type": "stream",
          "name": "stdout",
          "text": [
            "Epoch [112/1000], Loss: 0.0031, Test Loss: 0.0033\n",
            "Epoch [113/1000], Loss: 0.0031, Test Loss: 0.0032\n"
          ]
        },
        {
          "output_type": "stream",
          "name": "stderr",
          "text": [
            "Training the model:  12%|█▏        | 115/1000 [00:21<02:43,  5.42epoch/s]"
          ]
        },
        {
          "output_type": "stream",
          "name": "stdout",
          "text": [
            "Epoch [114/1000], Loss: 0.0030, Test Loss: 0.0032\n",
            "Epoch [115/1000], Loss: 0.0030, Test Loss: 0.0032\n"
          ]
        },
        {
          "output_type": "stream",
          "name": "stderr",
          "text": [
            "Training the model:  12%|█▏        | 117/1000 [00:22<02:43,  5.39epoch/s]"
          ]
        },
        {
          "output_type": "stream",
          "name": "stdout",
          "text": [
            "Epoch [116/1000], Loss: 0.0029, Test Loss: 0.0031\n",
            "Epoch [117/1000], Loss: 0.0029, Test Loss: 0.0031\n"
          ]
        },
        {
          "output_type": "stream",
          "name": "stderr",
          "text": [
            "Training the model:  12%|█▏        | 119/1000 [00:22<02:42,  5.41epoch/s]"
          ]
        },
        {
          "output_type": "stream",
          "name": "stdout",
          "text": [
            "Epoch [118/1000], Loss: 0.0028, Test Loss: 0.0030\n",
            "Epoch [119/1000], Loss: 0.0028, Test Loss: 0.0030\n"
          ]
        },
        {
          "output_type": "stream",
          "name": "stderr",
          "text": [
            "\rTraining the model:  12%|█▏        | 120/1000 [00:22<02:41,  5.44epoch/s]"
          ]
        },
        {
          "output_type": "stream",
          "name": "stdout",
          "text": [
            "Epoch [120/1000], Loss: 0.0028, Test Loss: 0.0029\n"
          ]
        },
        {
          "output_type": "stream",
          "name": "stderr",
          "text": [
            "\rTraining the model:  12%|█▏        | 121/1000 [00:23<02:57,  4.95epoch/s]"
          ]
        },
        {
          "output_type": "stream",
          "name": "stdout",
          "text": [
            "Epoch [121/1000], Loss: 0.0027, Test Loss: 0.0029\n"
          ]
        },
        {
          "output_type": "stream",
          "name": "stderr",
          "text": [
            "\rTraining the model:  12%|█▏        | 122/1000 [00:23<03:12,  4.55epoch/s]"
          ]
        },
        {
          "output_type": "stream",
          "name": "stdout",
          "text": [
            "Epoch [122/1000], Loss: 0.0027, Test Loss: 0.0029\n"
          ]
        },
        {
          "output_type": "stream",
          "name": "stderr",
          "text": [
            "\rTraining the model:  12%|█▏        | 123/1000 [00:23<03:21,  4.36epoch/s]"
          ]
        },
        {
          "output_type": "stream",
          "name": "stdout",
          "text": [
            "Epoch [123/1000], Loss: 0.0026, Test Loss: 0.0028\n"
          ]
        },
        {
          "output_type": "stream",
          "name": "stderr",
          "text": [
            "\rTraining the model:  12%|█▏        | 124/1000 [00:23<03:27,  4.22epoch/s]"
          ]
        },
        {
          "output_type": "stream",
          "name": "stdout",
          "text": [
            "Epoch [124/1000], Loss: 0.0026, Test Loss: 0.0028\n"
          ]
        },
        {
          "output_type": "stream",
          "name": "stderr",
          "text": [
            "\rTraining the model:  12%|█▎        | 125/1000 [00:24<03:33,  4.10epoch/s]"
          ]
        },
        {
          "output_type": "stream",
          "name": "stdout",
          "text": [
            "Epoch [125/1000], Loss: 0.0026, Test Loss: 0.0028\n"
          ]
        },
        {
          "output_type": "stream",
          "name": "stderr",
          "text": [
            "\rTraining the model:  13%|█▎        | 126/1000 [00:24<03:37,  4.02epoch/s]"
          ]
        },
        {
          "output_type": "stream",
          "name": "stdout",
          "text": [
            "Epoch [126/1000], Loss: 0.0025, Test Loss: 0.0027\n"
          ]
        },
        {
          "output_type": "stream",
          "name": "stderr",
          "text": [
            "\rTraining the model:  13%|█▎        | 127/1000 [00:24<03:41,  3.95epoch/s]"
          ]
        },
        {
          "output_type": "stream",
          "name": "stdout",
          "text": [
            "Epoch [127/1000], Loss: 0.0025, Test Loss: 0.0027\n"
          ]
        },
        {
          "output_type": "stream",
          "name": "stderr",
          "text": [
            "\rTraining the model:  13%|█▎        | 128/1000 [00:24<03:42,  3.92epoch/s]"
          ]
        },
        {
          "output_type": "stream",
          "name": "stdout",
          "text": [
            "Epoch [128/1000], Loss: 0.0025, Test Loss: 0.0026\n"
          ]
        },
        {
          "output_type": "stream",
          "name": "stderr",
          "text": [
            "\rTraining the model:  13%|█▎        | 129/1000 [00:25<04:35,  3.17epoch/s]"
          ]
        },
        {
          "output_type": "stream",
          "name": "stdout",
          "text": [
            "Epoch [129/1000], Loss: 0.0024, Test Loss: 0.0026\n"
          ]
        },
        {
          "output_type": "stream",
          "name": "stderr",
          "text": [
            "Training the model:  13%|█▎        | 131/1000 [00:25<04:22,  3.31epoch/s]"
          ]
        },
        {
          "output_type": "stream",
          "name": "stdout",
          "text": [
            "Epoch [130/1000], Loss: 0.0024, Test Loss: 0.0026\n",
            "Epoch [131/1000], Loss: 0.0024, Test Loss: 0.0025\n"
          ]
        },
        {
          "output_type": "stream",
          "name": "stderr",
          "text": [
            "\rTraining the model:  13%|█▎        | 132/1000 [00:26<03:51,  3.76epoch/s]"
          ]
        },
        {
          "output_type": "stream",
          "name": "stdout",
          "text": [
            "Epoch [132/1000], Loss: 0.0023, Test Loss: 0.0025\n"
          ]
        },
        {
          "output_type": "stream",
          "name": "stderr",
          "text": [
            "\rTraining the model:  13%|█▎        | 133/1000 [00:26<03:59,  3.63epoch/s]"
          ]
        },
        {
          "output_type": "stream",
          "name": "stdout",
          "text": [
            "Epoch [133/1000], Loss: 0.0023, Test Loss: 0.0025\n"
          ]
        },
        {
          "output_type": "stream",
          "name": "stderr",
          "text": [
            "\rTraining the model:  13%|█▎        | 134/1000 [00:26<05:03,  2.86epoch/s]"
          ]
        },
        {
          "output_type": "stream",
          "name": "stdout",
          "text": [
            "Epoch [134/1000], Loss: 0.0023, Test Loss: 0.0025\n"
          ]
        },
        {
          "output_type": "stream",
          "name": "stderr",
          "text": [
            "Training the model:  14%|█▎        | 136/1000 [00:27<03:59,  3.61epoch/s]"
          ]
        },
        {
          "output_type": "stream",
          "name": "stdout",
          "text": [
            "Epoch [135/1000], Loss: 0.0022, Test Loss: 0.0024\n",
            "Epoch [136/1000], Loss: 0.0022, Test Loss: 0.0024\n"
          ]
        },
        {
          "output_type": "stream",
          "name": "stderr",
          "text": [
            "\rTraining the model:  14%|█▎        | 137/1000 [00:27<03:42,  3.88epoch/s]"
          ]
        },
        {
          "output_type": "stream",
          "name": "stdout",
          "text": [
            "Epoch [137/1000], Loss: 0.0022, Test Loss: 0.0024\n"
          ]
        },
        {
          "output_type": "stream",
          "name": "stderr",
          "text": [
            "\rTraining the model:  14%|█▍        | 138/1000 [00:28<04:45,  3.02epoch/s]"
          ]
        },
        {
          "output_type": "stream",
          "name": "stdout",
          "text": [
            "Epoch [138/1000], Loss: 0.0022, Test Loss: 0.0023\n"
          ]
        },
        {
          "output_type": "stream",
          "name": "stderr",
          "text": [
            "Training the model:  14%|█▍        | 140/1000 [00:28<04:00,  3.58epoch/s]"
          ]
        },
        {
          "output_type": "stream",
          "name": "stdout",
          "text": [
            "Epoch [139/1000], Loss: 0.0022, Test Loss: 0.0023\n",
            "Epoch [140/1000], Loss: 0.0021, Test Loss: 0.0023\n"
          ]
        },
        {
          "output_type": "stream",
          "name": "stderr",
          "text": [
            "Training the model:  14%|█▍        | 142/1000 [00:28<03:15,  4.39epoch/s]"
          ]
        },
        {
          "output_type": "stream",
          "name": "stdout",
          "text": [
            "Epoch [141/1000], Loss: 0.0021, Test Loss: 0.0023\n",
            "Epoch [142/1000], Loss: 0.0021, Test Loss: 0.0022\n"
          ]
        },
        {
          "output_type": "stream",
          "name": "stderr",
          "text": [
            "Training the model:  14%|█▍        | 144/1000 [00:29<02:56,  4.85epoch/s]"
          ]
        },
        {
          "output_type": "stream",
          "name": "stdout",
          "text": [
            "Epoch [143/1000], Loss: 0.0021, Test Loss: 0.0022\n",
            "Epoch [144/1000], Loss: 0.0020, Test Loss: 0.0022\n"
          ]
        },
        {
          "output_type": "stream",
          "name": "stderr",
          "text": [
            "Training the model:  15%|█▍        | 146/1000 [00:29<02:44,  5.20epoch/s]"
          ]
        },
        {
          "output_type": "stream",
          "name": "stdout",
          "text": [
            "Epoch [145/1000], Loss: 0.0020, Test Loss: 0.0022\n",
            "Epoch [146/1000], Loss: 0.0020, Test Loss: 0.0022\n"
          ]
        },
        {
          "output_type": "stream",
          "name": "stderr",
          "text": [
            "Training the model:  15%|█▍        | 148/1000 [00:30<02:37,  5.39epoch/s]"
          ]
        },
        {
          "output_type": "stream",
          "name": "stdout",
          "text": [
            "Epoch [147/1000], Loss: 0.0020, Test Loss: 0.0021\n",
            "Epoch [148/1000], Loss: 0.0020, Test Loss: 0.0021\n"
          ]
        },
        {
          "output_type": "stream",
          "name": "stderr",
          "text": [
            "Training the model:  15%|█▌        | 150/1000 [00:30<02:38,  5.37epoch/s]"
          ]
        },
        {
          "output_type": "stream",
          "name": "stdout",
          "text": [
            "Epoch [149/1000], Loss: 0.0020, Test Loss: 0.0021\n",
            "Epoch [150/1000], Loss: 0.0019, Test Loss: 0.0021\n"
          ]
        },
        {
          "output_type": "stream",
          "name": "stderr",
          "text": [
            "Training the model:  15%|█▌        | 152/1000 [00:30<02:35,  5.46epoch/s]"
          ]
        },
        {
          "output_type": "stream",
          "name": "stdout",
          "text": [
            "Epoch [151/1000], Loss: 0.0019, Test Loss: 0.0021\n",
            "Epoch [152/1000], Loss: 0.0019, Test Loss: 0.0021\n"
          ]
        },
        {
          "output_type": "stream",
          "name": "stderr",
          "text": [
            "Training the model:  15%|█▌        | 154/1000 [00:31<02:34,  5.46epoch/s]"
          ]
        },
        {
          "output_type": "stream",
          "name": "stdout",
          "text": [
            "Epoch [153/1000], Loss: 0.0019, Test Loss: 0.0020\n",
            "Epoch [154/1000], Loss: 0.0019, Test Loss: 0.0020\n"
          ]
        },
        {
          "output_type": "stream",
          "name": "stderr",
          "text": [
            "Training the model:  16%|█▌        | 156/1000 [00:31<02:37,  5.37epoch/s]"
          ]
        },
        {
          "output_type": "stream",
          "name": "stdout",
          "text": [
            "Epoch [155/1000], Loss: 0.0019, Test Loss: 0.0020\n",
            "Epoch [156/1000], Loss: 0.0019, Test Loss: 0.0020\n"
          ]
        },
        {
          "output_type": "stream",
          "name": "stderr",
          "text": [
            "Training the model:  16%|█▌        | 158/1000 [00:31<02:35,  5.43epoch/s]"
          ]
        },
        {
          "output_type": "stream",
          "name": "stdout",
          "text": [
            "Epoch [157/1000], Loss: 0.0019, Test Loss: 0.0020\n",
            "Epoch [158/1000], Loss: 0.0019, Test Loss: 0.0020\n"
          ]
        },
        {
          "output_type": "stream",
          "name": "stderr",
          "text": [
            "Training the model:  16%|█▌        | 160/1000 [00:32<02:36,  5.37epoch/s]"
          ]
        },
        {
          "output_type": "stream",
          "name": "stdout",
          "text": [
            "Epoch [159/1000], Loss: 0.0018, Test Loss: 0.0020\n",
            "Epoch [160/1000], Loss: 0.0018, Test Loss: 0.0020\n"
          ]
        },
        {
          "output_type": "stream",
          "name": "stderr",
          "text": [
            "Training the model:  16%|█▌        | 162/1000 [00:32<02:35,  5.37epoch/s]"
          ]
        },
        {
          "output_type": "stream",
          "name": "stdout",
          "text": [
            "Epoch [161/1000], Loss: 0.0018, Test Loss: 0.0019\n",
            "Epoch [162/1000], Loss: 0.0018, Test Loss: 0.0019\n"
          ]
        },
        {
          "output_type": "stream",
          "name": "stderr",
          "text": [
            "Training the model:  16%|█▋        | 164/1000 [00:33<02:33,  5.46epoch/s]"
          ]
        },
        {
          "output_type": "stream",
          "name": "stdout",
          "text": [
            "Epoch [163/1000], Loss: 0.0018, Test Loss: 0.0019\n",
            "Epoch [164/1000], Loss: 0.0018, Test Loss: 0.0019\n"
          ]
        },
        {
          "output_type": "stream",
          "name": "stderr",
          "text": [
            "Training the model:  17%|█▋        | 166/1000 [00:33<02:33,  5.44epoch/s]"
          ]
        },
        {
          "output_type": "stream",
          "name": "stdout",
          "text": [
            "Epoch [165/1000], Loss: 0.0018, Test Loss: 0.0019\n",
            "Epoch [166/1000], Loss: 0.0018, Test Loss: 0.0019\n"
          ]
        },
        {
          "output_type": "stream",
          "name": "stderr",
          "text": [
            "Training the model:  17%|█▋        | 168/1000 [00:33<02:31,  5.50epoch/s]"
          ]
        },
        {
          "output_type": "stream",
          "name": "stdout",
          "text": [
            "Epoch [167/1000], Loss: 0.0018, Test Loss: 0.0019\n",
            "Epoch [168/1000], Loss: 0.0018, Test Loss: 0.0019\n"
          ]
        },
        {
          "output_type": "stream",
          "name": "stderr",
          "text": [
            "Training the model:  17%|█▋        | 170/1000 [00:34<02:32,  5.45epoch/s]"
          ]
        },
        {
          "output_type": "stream",
          "name": "stdout",
          "text": [
            "Epoch [169/1000], Loss: 0.0017, Test Loss: 0.0019\n",
            "Epoch [170/1000], Loss: 0.0017, Test Loss: 0.0018\n"
          ]
        },
        {
          "output_type": "stream",
          "name": "stderr",
          "text": [
            "\rTraining the model:  17%|█▋        | 171/1000 [00:34<02:33,  5.41epoch/s]"
          ]
        },
        {
          "output_type": "stream",
          "name": "stdout",
          "text": [
            "Epoch [171/1000], Loss: 0.0017, Test Loss: 0.0018\n"
          ]
        },
        {
          "output_type": "stream",
          "name": "stderr",
          "text": [
            "Training the model:  17%|█▋        | 173/1000 [00:34<02:35,  5.31epoch/s]"
          ]
        },
        {
          "output_type": "stream",
          "name": "stdout",
          "text": [
            "Epoch [172/1000], Loss: 0.0017, Test Loss: 0.0018\n",
            "Epoch [173/1000], Loss: 0.0017, Test Loss: 0.0018\n"
          ]
        },
        {
          "output_type": "stream",
          "name": "stderr",
          "text": [
            "Training the model:  18%|█▊        | 175/1000 [00:35<02:33,  5.39epoch/s]"
          ]
        },
        {
          "output_type": "stream",
          "name": "stdout",
          "text": [
            "Epoch [174/1000], Loss: 0.0017, Test Loss: 0.0018\n",
            "Epoch [175/1000], Loss: 0.0017, Test Loss: 0.0018\n"
          ]
        },
        {
          "output_type": "stream",
          "name": "stderr",
          "text": [
            "\rTraining the model:  18%|█▊        | 176/1000 [00:35<02:47,  4.93epoch/s]"
          ]
        },
        {
          "output_type": "stream",
          "name": "stdout",
          "text": [
            "Epoch [176/1000], Loss: 0.0017, Test Loss: 0.0018\n"
          ]
        },
        {
          "output_type": "stream",
          "name": "stderr",
          "text": [
            "\rTraining the model:  18%|█▊        | 177/1000 [00:35<03:01,  4.53epoch/s]"
          ]
        },
        {
          "output_type": "stream",
          "name": "stdout",
          "text": [
            "Epoch [177/1000], Loss: 0.0017, Test Loss: 0.0017\n"
          ]
        },
        {
          "output_type": "stream",
          "name": "stderr",
          "text": [
            "\rTraining the model:  18%|█▊        | 178/1000 [00:35<03:09,  4.33epoch/s]"
          ]
        },
        {
          "output_type": "stream",
          "name": "stdout",
          "text": [
            "Epoch [178/1000], Loss: 0.0016, Test Loss: 0.0017\n"
          ]
        },
        {
          "output_type": "stream",
          "name": "stderr",
          "text": [
            "\rTraining the model:  18%|█▊        | 179/1000 [00:36<03:15,  4.19epoch/s]"
          ]
        },
        {
          "output_type": "stream",
          "name": "stdout",
          "text": [
            "Epoch [179/1000], Loss: 0.0016, Test Loss: 0.0017\n"
          ]
        },
        {
          "output_type": "stream",
          "name": "stderr",
          "text": [
            "\rTraining the model:  18%|█▊        | 180/1000 [00:36<03:32,  3.87epoch/s]"
          ]
        },
        {
          "output_type": "stream",
          "name": "stdout",
          "text": [
            "Epoch [180/1000], Loss: 0.0016, Test Loss: 0.0017\n"
          ]
        },
        {
          "output_type": "stream",
          "name": "stderr",
          "text": [
            "\rTraining the model:  18%|█▊        | 181/1000 [00:36<03:34,  3.82epoch/s]"
          ]
        },
        {
          "output_type": "stream",
          "name": "stdout",
          "text": [
            "Epoch [181/1000], Loss: 0.0016, Test Loss: 0.0017\n"
          ]
        },
        {
          "output_type": "stream",
          "name": "stderr",
          "text": [
            "\rTraining the model:  18%|█▊        | 182/1000 [00:36<03:32,  3.84epoch/s]"
          ]
        },
        {
          "output_type": "stream",
          "name": "stdout",
          "text": [
            "Epoch [182/1000], Loss: 0.0016, Test Loss: 0.0016\n"
          ]
        },
        {
          "output_type": "stream",
          "name": "stderr",
          "text": [
            "\rTraining the model:  18%|█▊        | 183/1000 [00:37<03:32,  3.84epoch/s]"
          ]
        },
        {
          "output_type": "stream",
          "name": "stdout",
          "text": [
            "Epoch [183/1000], Loss: 0.0016, Test Loss: 0.0016\n"
          ]
        },
        {
          "output_type": "stream",
          "name": "stderr",
          "text": [
            "Training the model:  18%|█▊        | 185/1000 [00:37<03:10,  4.29epoch/s]"
          ]
        },
        {
          "output_type": "stream",
          "name": "stdout",
          "text": [
            "Epoch [184/1000], Loss: 0.0016, Test Loss: 0.0016\n",
            "Epoch [185/1000], Loss: 0.0016, Test Loss: 0.0016\n"
          ]
        },
        {
          "output_type": "stream",
          "name": "stderr",
          "text": [
            "Training the model:  19%|█▊        | 187/1000 [00:37<02:48,  4.83epoch/s]"
          ]
        },
        {
          "output_type": "stream",
          "name": "stdout",
          "text": [
            "Epoch [186/1000], Loss: 0.0015, Test Loss: 0.0016\n",
            "Epoch [187/1000], Loss: 0.0015, Test Loss: 0.0016\n"
          ]
        },
        {
          "output_type": "stream",
          "name": "stderr",
          "text": [
            "Training the model:  19%|█▉        | 189/1000 [00:38<02:38,  5.12epoch/s]"
          ]
        },
        {
          "output_type": "stream",
          "name": "stdout",
          "text": [
            "Epoch [188/1000], Loss: 0.0015, Test Loss: 0.0015\n",
            "Epoch [189/1000], Loss: 0.0015, Test Loss: 0.0015\n"
          ]
        },
        {
          "output_type": "stream",
          "name": "stderr",
          "text": [
            "Training the model:  19%|█▉        | 191/1000 [00:38<02:35,  5.20epoch/s]"
          ]
        },
        {
          "output_type": "stream",
          "name": "stdout",
          "text": [
            "Epoch [190/1000], Loss: 0.0015, Test Loss: 0.0015\n",
            "Epoch [191/1000], Loss: 0.0015, Test Loss: 0.0015\n"
          ]
        },
        {
          "output_type": "stream",
          "name": "stderr",
          "text": [
            "\rTraining the model:  19%|█▉        | 192/1000 [00:38<02:34,  5.24epoch/s]"
          ]
        },
        {
          "output_type": "stream",
          "name": "stdout",
          "text": [
            "Epoch [192/1000], Loss: 0.0015, Test Loss: 0.0015\n"
          ]
        },
        {
          "output_type": "stream",
          "name": "stderr",
          "text": [
            "\rTraining the model:  19%|█▉        | 193/1000 [00:39<02:59,  4.48epoch/s]"
          ]
        },
        {
          "output_type": "stream",
          "name": "stdout",
          "text": [
            "Epoch [193/1000], Loss: 0.0015, Test Loss: 0.0015\n"
          ]
        },
        {
          "output_type": "stream",
          "name": "stderr",
          "text": [
            "Training the model:  20%|█▉        | 195/1000 [00:39<02:53,  4.63epoch/s]"
          ]
        },
        {
          "output_type": "stream",
          "name": "stdout",
          "text": [
            "Epoch [194/1000], Loss: 0.0015, Test Loss: 0.0015\n",
            "Epoch [195/1000], Loss: 0.0014, Test Loss: 0.0014\n"
          ]
        },
        {
          "output_type": "stream",
          "name": "stderr",
          "text": [
            "\rTraining the model:  20%|█▉        | 196/1000 [00:39<03:14,  4.14epoch/s]"
          ]
        },
        {
          "output_type": "stream",
          "name": "stdout",
          "text": [
            "Epoch [196/1000], Loss: 0.0014, Test Loss: 0.0014\n"
          ]
        },
        {
          "output_type": "stream",
          "name": "stderr",
          "text": [
            "\rTraining the model:  20%|█▉        | 197/1000 [00:40<03:20,  4.01epoch/s]"
          ]
        },
        {
          "output_type": "stream",
          "name": "stdout",
          "text": [
            "Epoch [197/1000], Loss: 0.0014, Test Loss: 0.0014\n"
          ]
        },
        {
          "output_type": "stream",
          "name": "stderr",
          "text": [
            "\rTraining the model:  20%|█▉        | 198/1000 [00:40<03:26,  3.88epoch/s]"
          ]
        },
        {
          "output_type": "stream",
          "name": "stdout",
          "text": [
            "Epoch [198/1000], Loss: 0.0014, Test Loss: 0.0014\n"
          ]
        },
        {
          "output_type": "stream",
          "name": "stderr",
          "text": [
            "\rTraining the model:  20%|█▉        | 199/1000 [00:40<03:33,  3.75epoch/s]"
          ]
        },
        {
          "output_type": "stream",
          "name": "stdout",
          "text": [
            "Epoch [199/1000], Loss: 0.0014, Test Loss: 0.0014\n"
          ]
        },
        {
          "output_type": "stream",
          "name": "stderr",
          "text": [
            "Training the model:  20%|██        | 201/1000 [00:41<03:16,  4.07epoch/s]"
          ]
        },
        {
          "output_type": "stream",
          "name": "stdout",
          "text": [
            "Epoch [200/1000], Loss: 0.0014, Test Loss: 0.0014\n",
            "Epoch [201/1000], Loss: 0.0014, Test Loss: 0.0014\n"
          ]
        },
        {
          "output_type": "stream",
          "name": "stderr",
          "text": [
            "\rTraining the model:  20%|██        | 202/1000 [00:41<03:25,  3.88epoch/s]"
          ]
        },
        {
          "output_type": "stream",
          "name": "stdout",
          "text": [
            "Epoch [202/1000], Loss: 0.0014, Test Loss: 0.0014\n"
          ]
        },
        {
          "output_type": "stream",
          "name": "stderr",
          "text": [
            "\rTraining the model:  20%|██        | 203/1000 [00:41<03:48,  3.49epoch/s]"
          ]
        },
        {
          "output_type": "stream",
          "name": "stdout",
          "text": [
            "Epoch [203/1000], Loss: 0.0014, Test Loss: 0.0014\n"
          ]
        },
        {
          "output_type": "stream",
          "name": "stderr",
          "text": [
            "\rTraining the model:  20%|██        | 204/1000 [00:42<04:07,  3.21epoch/s]"
          ]
        },
        {
          "output_type": "stream",
          "name": "stdout",
          "text": [
            "Epoch [204/1000], Loss: 0.0014, Test Loss: 0.0014\n"
          ]
        },
        {
          "output_type": "stream",
          "name": "stderr",
          "text": [
            "Training the model:  21%|██        | 206/1000 [00:42<03:37,  3.65epoch/s]"
          ]
        },
        {
          "output_type": "stream",
          "name": "stdout",
          "text": [
            "Epoch [205/1000], Loss: 0.0014, Test Loss: 0.0014\n",
            "Epoch [206/1000], Loss: 0.0014, Test Loss: 0.0013\n"
          ]
        },
        {
          "output_type": "stream",
          "name": "stderr",
          "text": [
            "Training the model:  21%|██        | 208/1000 [00:43<03:00,  4.40epoch/s]"
          ]
        },
        {
          "output_type": "stream",
          "name": "stdout",
          "text": [
            "Epoch [207/1000], Loss: 0.0014, Test Loss: 0.0013\n",
            "Epoch [208/1000], Loss: 0.0014, Test Loss: 0.0013\n"
          ]
        },
        {
          "output_type": "stream",
          "name": "stderr",
          "text": [
            "Training the model:  21%|██        | 210/1000 [00:43<02:40,  4.94epoch/s]"
          ]
        },
        {
          "output_type": "stream",
          "name": "stdout",
          "text": [
            "Epoch [209/1000], Loss: 0.0013, Test Loss: 0.0013\n",
            "Epoch [210/1000], Loss: 0.0013, Test Loss: 0.0013\n"
          ]
        },
        {
          "output_type": "stream",
          "name": "stderr",
          "text": [
            "Training the model:  21%|██        | 212/1000 [00:43<02:33,  5.15epoch/s]"
          ]
        },
        {
          "output_type": "stream",
          "name": "stdout",
          "text": [
            "Epoch [211/1000], Loss: 0.0013, Test Loss: 0.0013\n",
            "Epoch [212/1000], Loss: 0.0013, Test Loss: 0.0013\n"
          ]
        },
        {
          "output_type": "stream",
          "name": "stderr",
          "text": [
            "Training the model:  21%|██▏       | 214/1000 [00:44<02:28,  5.28epoch/s]"
          ]
        },
        {
          "output_type": "stream",
          "name": "stdout",
          "text": [
            "Epoch [213/1000], Loss: 0.0013, Test Loss: 0.0013\n",
            "Epoch [214/1000], Loss: 0.0013, Test Loss: 0.0013\n"
          ]
        },
        {
          "output_type": "stream",
          "name": "stderr",
          "text": [
            "Training the model:  22%|██▏       | 216/1000 [00:44<02:25,  5.40epoch/s]"
          ]
        },
        {
          "output_type": "stream",
          "name": "stdout",
          "text": [
            "Epoch [215/1000], Loss: 0.0013, Test Loss: 0.0013\n",
            "Epoch [216/1000], Loss: 0.0013, Test Loss: 0.0013\n"
          ]
        },
        {
          "output_type": "stream",
          "name": "stderr",
          "text": [
            "Training the model:  22%|██▏       | 218/1000 [00:44<02:25,  5.38epoch/s]"
          ]
        },
        {
          "output_type": "stream",
          "name": "stdout",
          "text": [
            "Epoch [217/1000], Loss: 0.0013, Test Loss: 0.0013\n",
            "Epoch [218/1000], Loss: 0.0013, Test Loss: 0.0013\n"
          ]
        },
        {
          "output_type": "stream",
          "name": "stderr",
          "text": [
            "Training the model:  22%|██▏       | 220/1000 [00:45<02:22,  5.47epoch/s]"
          ]
        },
        {
          "output_type": "stream",
          "name": "stdout",
          "text": [
            "Epoch [219/1000], Loss: 0.0013, Test Loss: 0.0013\n",
            "Epoch [220/1000], Loss: 0.0013, Test Loss: 0.0013\n"
          ]
        },
        {
          "output_type": "stream",
          "name": "stderr",
          "text": [
            "Training the model:  22%|██▏       | 222/1000 [00:45<02:23,  5.44epoch/s]"
          ]
        },
        {
          "output_type": "stream",
          "name": "stdout",
          "text": [
            "Epoch [221/1000], Loss: 0.0013, Test Loss: 0.0013\n",
            "Epoch [222/1000], Loss: 0.0013, Test Loss: 0.0013\n"
          ]
        },
        {
          "output_type": "stream",
          "name": "stderr",
          "text": [
            "Training the model:  22%|██▏       | 224/1000 [00:45<02:21,  5.48epoch/s]"
          ]
        },
        {
          "output_type": "stream",
          "name": "stdout",
          "text": [
            "Epoch [223/1000], Loss: 0.0013, Test Loss: 0.0013\n",
            "Epoch [224/1000], Loss: 0.0013, Test Loss: 0.0013\n"
          ]
        },
        {
          "output_type": "stream",
          "name": "stderr",
          "text": [
            "Training the model:  23%|██▎       | 226/1000 [00:46<02:22,  5.43epoch/s]"
          ]
        },
        {
          "output_type": "stream",
          "name": "stdout",
          "text": [
            "Epoch [225/1000], Loss: 0.0013, Test Loss: 0.0013\n",
            "Epoch [226/1000], Loss: 0.0013, Test Loss: 0.0013\n"
          ]
        },
        {
          "output_type": "stream",
          "name": "stderr",
          "text": [
            "Training the model:  23%|██▎       | 228/1000 [00:46<02:22,  5.42epoch/s]"
          ]
        },
        {
          "output_type": "stream",
          "name": "stdout",
          "text": [
            "Epoch [227/1000], Loss: 0.0013, Test Loss: 0.0013\n",
            "Epoch [228/1000], Loss: 0.0013, Test Loss: 0.0013\n"
          ]
        },
        {
          "output_type": "stream",
          "name": "stderr",
          "text": [
            "Training the model:  23%|██▎       | 230/1000 [00:47<02:22,  5.39epoch/s]"
          ]
        },
        {
          "output_type": "stream",
          "name": "stdout",
          "text": [
            "Epoch [229/1000], Loss: 0.0013, Test Loss: 0.0012\n",
            "Epoch [230/1000], Loss: 0.0013, Test Loss: 0.0012\n"
          ]
        },
        {
          "output_type": "stream",
          "name": "stderr",
          "text": [
            "\rTraining the model:  23%|██▎       | 231/1000 [00:47<02:21,  5.44epoch/s]"
          ]
        },
        {
          "output_type": "stream",
          "name": "stdout",
          "text": [
            "Epoch [231/1000], Loss: 0.0013, Test Loss: 0.0012\n"
          ]
        },
        {
          "output_type": "stream",
          "name": "stderr",
          "text": [
            "\rTraining the model:  23%|██▎       | 232/1000 [00:47<02:37,  4.88epoch/s]"
          ]
        },
        {
          "output_type": "stream",
          "name": "stdout",
          "text": [
            "Epoch [232/1000], Loss: 0.0013, Test Loss: 0.0012\n"
          ]
        },
        {
          "output_type": "stream",
          "name": "stderr",
          "text": [
            "\rTraining the model:  23%|██▎       | 233/1000 [00:47<02:51,  4.48epoch/s]"
          ]
        },
        {
          "output_type": "stream",
          "name": "stdout",
          "text": [
            "Epoch [233/1000], Loss: 0.0013, Test Loss: 0.0012\n"
          ]
        },
        {
          "output_type": "stream",
          "name": "stderr",
          "text": [
            "\rTraining the model:  23%|██▎       | 234/1000 [00:48<02:59,  4.27epoch/s]"
          ]
        },
        {
          "output_type": "stream",
          "name": "stdout",
          "text": [
            "Epoch [234/1000], Loss: 0.0013, Test Loss: 0.0012\n"
          ]
        },
        {
          "output_type": "stream",
          "name": "stderr",
          "text": [
            "\rTraining the model:  24%|██▎       | 235/1000 [00:48<03:06,  4.10epoch/s]"
          ]
        },
        {
          "output_type": "stream",
          "name": "stdout",
          "text": [
            "Epoch [235/1000], Loss: 0.0013, Test Loss: 0.0012\n"
          ]
        },
        {
          "output_type": "stream",
          "name": "stderr",
          "text": [
            "\rTraining the model:  24%|██▎       | 236/1000 [00:48<03:08,  4.06epoch/s]"
          ]
        },
        {
          "output_type": "stream",
          "name": "stdout",
          "text": [
            "Epoch [236/1000], Loss: 0.0012, Test Loss: 0.0012\n"
          ]
        },
        {
          "output_type": "stream",
          "name": "stderr",
          "text": [
            "\rTraining the model:  24%|██▎       | 237/1000 [00:48<03:12,  3.97epoch/s]"
          ]
        },
        {
          "output_type": "stream",
          "name": "stdout",
          "text": [
            "Epoch [237/1000], Loss: 0.0012, Test Loss: 0.0012\n"
          ]
        },
        {
          "output_type": "stream",
          "name": "stderr",
          "text": [
            "\rTraining the model:  24%|██▍       | 238/1000 [00:49<03:12,  3.96epoch/s]"
          ]
        },
        {
          "output_type": "stream",
          "name": "stdout",
          "text": [
            "Epoch [238/1000], Loss: 0.0012, Test Loss: 0.0012\n"
          ]
        },
        {
          "output_type": "stream",
          "name": "stderr",
          "text": [
            "\rTraining the model:  24%|██▍       | 239/1000 [00:49<03:15,  3.89epoch/s]"
          ]
        },
        {
          "output_type": "stream",
          "name": "stdout",
          "text": [
            "Epoch [239/1000], Loss: 0.0012, Test Loss: 0.0012\n"
          ]
        },
        {
          "output_type": "stream",
          "name": "stderr",
          "text": [
            "Training the model:  24%|██▍       | 241/1000 [00:49<02:51,  4.42epoch/s]"
          ]
        },
        {
          "output_type": "stream",
          "name": "stdout",
          "text": [
            "Epoch [240/1000], Loss: 0.0012, Test Loss: 0.0012\n",
            "Epoch [241/1000], Loss: 0.0012, Test Loss: 0.0012\n"
          ]
        },
        {
          "output_type": "stream",
          "name": "stderr",
          "text": [
            "Training the model:  24%|██▍       | 243/1000 [00:50<02:33,  4.93epoch/s]"
          ]
        },
        {
          "output_type": "stream",
          "name": "stdout",
          "text": [
            "Epoch [242/1000], Loss: 0.0012, Test Loss: 0.0012\n",
            "Epoch [243/1000], Loss: 0.0012, Test Loss: 0.0012\n"
          ]
        },
        {
          "output_type": "stream",
          "name": "stderr",
          "text": [
            "Training the model:  24%|██▍       | 245/1000 [00:50<02:26,  5.17epoch/s]"
          ]
        },
        {
          "output_type": "stream",
          "name": "stdout",
          "text": [
            "Epoch [244/1000], Loss: 0.0012, Test Loss: 0.0012\n",
            "Epoch [245/1000], Loss: 0.0012, Test Loss: 0.0012\n"
          ]
        },
        {
          "output_type": "stream",
          "name": "stderr",
          "text": [
            "Training the model:  25%|██▍       | 247/1000 [00:50<02:22,  5.27epoch/s]"
          ]
        },
        {
          "output_type": "stream",
          "name": "stdout",
          "text": [
            "Epoch [246/1000], Loss: 0.0012, Test Loss: 0.0012\n",
            "Epoch [247/1000], Loss: 0.0012, Test Loss: 0.0012\n"
          ]
        },
        {
          "output_type": "stream",
          "name": "stderr",
          "text": [
            "Training the model:  25%|██▍       | 249/1000 [00:51<02:20,  5.33epoch/s]"
          ]
        },
        {
          "output_type": "stream",
          "name": "stdout",
          "text": [
            "Epoch [248/1000], Loss: 0.0012, Test Loss: 0.0012\n",
            "Epoch [249/1000], Loss: 0.0012, Test Loss: 0.0012\n"
          ]
        },
        {
          "output_type": "stream",
          "name": "stderr",
          "text": [
            "Training the model:  25%|██▌       | 251/1000 [00:51<02:20,  5.35epoch/s]"
          ]
        },
        {
          "output_type": "stream",
          "name": "stdout",
          "text": [
            "Epoch [250/1000], Loss: 0.0012, Test Loss: 0.0012\n",
            "Epoch [251/1000], Loss: 0.0012, Test Loss: 0.0012\n"
          ]
        },
        {
          "output_type": "stream",
          "name": "stderr",
          "text": [
            "Training the model:  25%|██▌       | 253/1000 [00:51<02:19,  5.35epoch/s]"
          ]
        },
        {
          "output_type": "stream",
          "name": "stdout",
          "text": [
            "Epoch [252/1000], Loss: 0.0012, Test Loss: 0.0012\n",
            "Epoch [253/1000], Loss: 0.0012, Test Loss: 0.0012\n"
          ]
        },
        {
          "output_type": "stream",
          "name": "stderr",
          "text": [
            "Training the model:  26%|██▌       | 255/1000 [00:52<02:16,  5.46epoch/s]"
          ]
        },
        {
          "output_type": "stream",
          "name": "stdout",
          "text": [
            "Epoch [254/1000], Loss: 0.0012, Test Loss: 0.0012\n",
            "Epoch [255/1000], Loss: 0.0012, Test Loss: 0.0012\n"
          ]
        },
        {
          "output_type": "stream",
          "name": "stderr",
          "text": [
            "Training the model:  26%|██▌       | 257/1000 [00:52<02:15,  5.50epoch/s]"
          ]
        },
        {
          "output_type": "stream",
          "name": "stdout",
          "text": [
            "Epoch [256/1000], Loss: 0.0012, Test Loss: 0.0012\n",
            "Epoch [257/1000], Loss: 0.0012, Test Loss: 0.0012\n"
          ]
        },
        {
          "output_type": "stream",
          "name": "stderr",
          "text": [
            "Training the model:  26%|██▌       | 259/1000 [00:53<02:15,  5.45epoch/s]"
          ]
        },
        {
          "output_type": "stream",
          "name": "stdout",
          "text": [
            "Epoch [258/1000], Loss: 0.0012, Test Loss: 0.0012\n",
            "Epoch [259/1000], Loss: 0.0012, Test Loss: 0.0012\n"
          ]
        },
        {
          "output_type": "stream",
          "name": "stderr",
          "text": [
            "Training the model:  26%|██▌       | 261/1000 [00:53<02:15,  5.44epoch/s]"
          ]
        },
        {
          "output_type": "stream",
          "name": "stdout",
          "text": [
            "Epoch [260/1000], Loss: 0.0012, Test Loss: 0.0012\n",
            "Epoch [261/1000], Loss: 0.0012, Test Loss: 0.0012\n"
          ]
        },
        {
          "output_type": "stream",
          "name": "stderr",
          "text": [
            "Training the model:  26%|██▋       | 263/1000 [00:53<02:16,  5.38epoch/s]"
          ]
        },
        {
          "output_type": "stream",
          "name": "stdout",
          "text": [
            "Epoch [262/1000], Loss: 0.0012, Test Loss: 0.0012\n",
            "Epoch [263/1000], Loss: 0.0012, Test Loss: 0.0012\n"
          ]
        },
        {
          "output_type": "stream",
          "name": "stderr",
          "text": [
            "Training the model:  26%|██▋       | 265/1000 [00:54<02:15,  5.42epoch/s]"
          ]
        },
        {
          "output_type": "stream",
          "name": "stdout",
          "text": [
            "Epoch [264/1000], Loss: 0.0012, Test Loss: 0.0012\n",
            "Epoch [265/1000], Loss: 0.0012, Test Loss: 0.0012\n"
          ]
        },
        {
          "output_type": "stream",
          "name": "stderr",
          "text": [
            "Training the model:  27%|██▋       | 267/1000 [00:54<02:15,  5.43epoch/s]"
          ]
        },
        {
          "output_type": "stream",
          "name": "stdout",
          "text": [
            "Epoch [266/1000], Loss: 0.0012, Test Loss: 0.0012\n",
            "Epoch [267/1000], Loss: 0.0012, Test Loss: 0.0012\n"
          ]
        },
        {
          "output_type": "stream",
          "name": "stderr",
          "text": [
            "Training the model:  27%|██▋       | 269/1000 [00:54<02:16,  5.36epoch/s]"
          ]
        },
        {
          "output_type": "stream",
          "name": "stdout",
          "text": [
            "Epoch [268/1000], Loss: 0.0012, Test Loss: 0.0012\n",
            "Epoch [269/1000], Loss: 0.0012, Test Loss: 0.0012\n"
          ]
        },
        {
          "output_type": "stream",
          "name": "stderr",
          "text": [
            "Training the model:  27%|██▋       | 271/1000 [00:55<02:15,  5.39epoch/s]"
          ]
        },
        {
          "output_type": "stream",
          "name": "stdout",
          "text": [
            "Epoch [270/1000], Loss: 0.0012, Test Loss: 0.0012\n",
            "Epoch [271/1000], Loss: 0.0012, Test Loss: 0.0012\n"
          ]
        },
        {
          "output_type": "stream",
          "name": "stderr",
          "text": [
            "Training the model:  27%|██▋       | 273/1000 [00:55<02:16,  5.34epoch/s]"
          ]
        },
        {
          "output_type": "stream",
          "name": "stdout",
          "text": [
            "Epoch [272/1000], Loss: 0.0012, Test Loss: 0.0011\n",
            "Epoch [273/1000], Loss: 0.0012, Test Loss: 0.0011\n"
          ]
        },
        {
          "output_type": "stream",
          "name": "stderr",
          "text": [
            "Training the model:  28%|██▊       | 275/1000 [00:56<02:14,  5.40epoch/s]"
          ]
        },
        {
          "output_type": "stream",
          "name": "stdout",
          "text": [
            "Epoch [274/1000], Loss: 0.0012, Test Loss: 0.0011\n",
            "Epoch [275/1000], Loss: 0.0012, Test Loss: 0.0011\n"
          ]
        },
        {
          "output_type": "stream",
          "name": "stderr",
          "text": [
            "Training the model:  28%|██▊       | 277/1000 [00:56<02:15,  5.33epoch/s]"
          ]
        },
        {
          "output_type": "stream",
          "name": "stdout",
          "text": [
            "Epoch [276/1000], Loss: 0.0012, Test Loss: 0.0011\n",
            "Epoch [277/1000], Loss: 0.0012, Test Loss: 0.0011\n"
          ]
        },
        {
          "output_type": "stream",
          "name": "stderr",
          "text": [
            "Training the model:  28%|██▊       | 279/1000 [00:56<02:17,  5.23epoch/s]"
          ]
        },
        {
          "output_type": "stream",
          "name": "stdout",
          "text": [
            "Epoch [278/1000], Loss: 0.0012, Test Loss: 0.0011\n",
            "Epoch [279/1000], Loss: 0.0012, Test Loss: 0.0011\n"
          ]
        },
        {
          "output_type": "stream",
          "name": "stderr",
          "text": [
            "Training the model:  28%|██▊       | 281/1000 [00:57<02:13,  5.38epoch/s]"
          ]
        },
        {
          "output_type": "stream",
          "name": "stdout",
          "text": [
            "Epoch [280/1000], Loss: 0.0011, Test Loss: 0.0011\n",
            "Epoch [281/1000], Loss: 0.0011, Test Loss: 0.0011\n"
          ]
        },
        {
          "output_type": "stream",
          "name": "stderr",
          "text": [
            "Training the model:  28%|██▊       | 283/1000 [00:57<02:12,  5.42epoch/s]"
          ]
        },
        {
          "output_type": "stream",
          "name": "stdout",
          "text": [
            "Epoch [282/1000], Loss: 0.0011, Test Loss: 0.0011\n",
            "Epoch [283/1000], Loss: 0.0011, Test Loss: 0.0011\n"
          ]
        },
        {
          "output_type": "stream",
          "name": "stderr",
          "text": [
            "Training the model:  28%|██▊       | 285/1000 [00:57<02:11,  5.42epoch/s]"
          ]
        },
        {
          "output_type": "stream",
          "name": "stdout",
          "text": [
            "Epoch [284/1000], Loss: 0.0011, Test Loss: 0.0011\n",
            "Epoch [285/1000], Loss: 0.0011, Test Loss: 0.0011\n"
          ]
        },
        {
          "output_type": "stream",
          "name": "stderr",
          "text": [
            "Training the model:  29%|██▊       | 287/1000 [00:58<02:11,  5.42epoch/s]"
          ]
        },
        {
          "output_type": "stream",
          "name": "stdout",
          "text": [
            "Epoch [286/1000], Loss: 0.0011, Test Loss: 0.0011\n",
            "Epoch [287/1000], Loss: 0.0011, Test Loss: 0.0011\n"
          ]
        },
        {
          "output_type": "stream",
          "name": "stderr",
          "text": [
            "Training the model:  29%|██▉       | 289/1000 [00:58<02:13,  5.31epoch/s]"
          ]
        },
        {
          "output_type": "stream",
          "name": "stdout",
          "text": [
            "Epoch [288/1000], Loss: 0.0011, Test Loss: 0.0011\n",
            "Epoch [289/1000], Loss: 0.0011, Test Loss: 0.0011\n"
          ]
        },
        {
          "output_type": "stream",
          "name": "stderr",
          "text": [
            "\rTraining the model:  29%|██▉       | 290/1000 [00:58<02:15,  5.24epoch/s]"
          ]
        },
        {
          "output_type": "stream",
          "name": "stdout",
          "text": [
            "Epoch [290/1000], Loss: 0.0011, Test Loss: 0.0011\n"
          ]
        },
        {
          "output_type": "stream",
          "name": "stderr",
          "text": [
            "Training the model:  29%|██▉       | 292/1000 [00:59<02:15,  5.23epoch/s]"
          ]
        },
        {
          "output_type": "stream",
          "name": "stdout",
          "text": [
            "Epoch [291/1000], Loss: 0.0011, Test Loss: 0.0011\n",
            "Epoch [292/1000], Loss: 0.0011, Test Loss: 0.0011\n"
          ]
        },
        {
          "output_type": "stream",
          "name": "stderr",
          "text": [
            "\rTraining the model:  29%|██▉       | 293/1000 [00:59<02:13,  5.29epoch/s]"
          ]
        },
        {
          "output_type": "stream",
          "name": "stdout",
          "text": [
            "Epoch [293/1000], Loss: 0.0011, Test Loss: 0.0011\n"
          ]
        },
        {
          "output_type": "stream",
          "name": "stderr",
          "text": [
            "\rTraining the model:  29%|██▉       | 294/1000 [00:59<02:28,  4.77epoch/s]"
          ]
        },
        {
          "output_type": "stream",
          "name": "stdout",
          "text": [
            "Epoch [294/1000], Loss: 0.0011, Test Loss: 0.0011\n"
          ]
        },
        {
          "output_type": "stream",
          "name": "stderr",
          "text": [
            "\rTraining the model:  30%|██▉       | 295/1000 [00:59<02:39,  4.41epoch/s]"
          ]
        },
        {
          "output_type": "stream",
          "name": "stdout",
          "text": [
            "Epoch [295/1000], Loss: 0.0011, Test Loss: 0.0011\n"
          ]
        },
        {
          "output_type": "stream",
          "name": "stderr",
          "text": [
            "\rTraining the model:  30%|██▉       | 296/1000 [01:00<02:47,  4.21epoch/s]"
          ]
        },
        {
          "output_type": "stream",
          "name": "stdout",
          "text": [
            "Epoch [296/1000], Loss: 0.0011, Test Loss: 0.0011\n"
          ]
        },
        {
          "output_type": "stream",
          "name": "stderr",
          "text": [
            "\rTraining the model:  30%|██▉       | 297/1000 [01:00<02:52,  4.06epoch/s]"
          ]
        },
        {
          "output_type": "stream",
          "name": "stdout",
          "text": [
            "Epoch [297/1000], Loss: 0.0011, Test Loss: 0.0011\n"
          ]
        },
        {
          "output_type": "stream",
          "name": "stderr",
          "text": [
            "\rTraining the model:  30%|██▉       | 298/1000 [01:00<03:01,  3.88epoch/s]"
          ]
        },
        {
          "output_type": "stream",
          "name": "stdout",
          "text": [
            "Epoch [298/1000], Loss: 0.0011, Test Loss: 0.0011\n"
          ]
        },
        {
          "output_type": "stream",
          "name": "stderr",
          "text": [
            "\rTraining the model:  30%|██▉       | 299/1000 [01:01<03:04,  3.80epoch/s]"
          ]
        },
        {
          "output_type": "stream",
          "name": "stdout",
          "text": [
            "Epoch [299/1000], Loss: 0.0011, Test Loss: 0.0011\n"
          ]
        },
        {
          "output_type": "stream",
          "name": "stderr",
          "text": [
            "\rTraining the model:  30%|███       | 300/1000 [01:01<03:03,  3.82epoch/s]"
          ]
        },
        {
          "output_type": "stream",
          "name": "stdout",
          "text": [
            "Epoch [300/1000], Loss: 0.0011, Test Loss: 0.0011\n"
          ]
        },
        {
          "output_type": "stream",
          "name": "stderr",
          "text": [
            "\rTraining the model:  30%|███       | 301/1000 [01:01<03:03,  3.80epoch/s]"
          ]
        },
        {
          "output_type": "stream",
          "name": "stdout",
          "text": [
            "Epoch [301/1000], Loss: 0.0011, Test Loss: 0.0011\n"
          ]
        },
        {
          "output_type": "stream",
          "name": "stderr",
          "text": [
            "Training the model:  30%|███       | 303/1000 [01:01<02:39,  4.38epoch/s]"
          ]
        },
        {
          "output_type": "stream",
          "name": "stdout",
          "text": [
            "Epoch [302/1000], Loss: 0.0011, Test Loss: 0.0011\n",
            "Epoch [303/1000], Loss: 0.0011, Test Loss: 0.0011\n"
          ]
        },
        {
          "output_type": "stream",
          "name": "stderr",
          "text": [
            "Training the model:  30%|███       | 305/1000 [01:02<02:24,  4.80epoch/s]"
          ]
        },
        {
          "output_type": "stream",
          "name": "stdout",
          "text": [
            "Epoch [304/1000], Loss: 0.0011, Test Loss: 0.0011\n",
            "Epoch [305/1000], Loss: 0.0011, Test Loss: 0.0011\n"
          ]
        },
        {
          "output_type": "stream",
          "name": "stderr",
          "text": [
            "Training the model:  31%|███       | 307/1000 [01:02<02:18,  5.00epoch/s]"
          ]
        },
        {
          "output_type": "stream",
          "name": "stdout",
          "text": [
            "Epoch [306/1000], Loss: 0.0011, Test Loss: 0.0011\n",
            "Epoch [307/1000], Loss: 0.0011, Test Loss: 0.0011\n"
          ]
        },
        {
          "output_type": "stream",
          "name": "stderr",
          "text": [
            "Training the model:  31%|███       | 309/1000 [01:03<02:14,  5.14epoch/s]"
          ]
        },
        {
          "output_type": "stream",
          "name": "stdout",
          "text": [
            "Epoch [308/1000], Loss: 0.0011, Test Loss: 0.0011\n",
            "Epoch [309/1000], Loss: 0.0011, Test Loss: 0.0011\n"
          ]
        },
        {
          "output_type": "stream",
          "name": "stderr",
          "text": [
            "Training the model:  31%|███       | 311/1000 [01:03<02:12,  5.21epoch/s]"
          ]
        },
        {
          "output_type": "stream",
          "name": "stdout",
          "text": [
            "Epoch [310/1000], Loss: 0.0011, Test Loss: 0.0011\n",
            "Epoch [311/1000], Loss: 0.0011, Test Loss: 0.0011\n"
          ]
        },
        {
          "output_type": "stream",
          "name": "stderr",
          "text": [
            "Training the model:  31%|███▏      | 313/1000 [01:03<02:09,  5.32epoch/s]"
          ]
        },
        {
          "output_type": "stream",
          "name": "stdout",
          "text": [
            "Epoch [312/1000], Loss: 0.0011, Test Loss: 0.0011\n",
            "Epoch [313/1000], Loss: 0.0011, Test Loss: 0.0011\n"
          ]
        },
        {
          "output_type": "stream",
          "name": "stderr",
          "text": [
            "Training the model:  32%|███▏      | 315/1000 [01:04<02:08,  5.33epoch/s]"
          ]
        },
        {
          "output_type": "stream",
          "name": "stdout",
          "text": [
            "Epoch [314/1000], Loss: 0.0011, Test Loss: 0.0011\n",
            "Epoch [315/1000], Loss: 0.0011, Test Loss: 0.0011\n"
          ]
        },
        {
          "output_type": "stream",
          "name": "stderr",
          "text": [
            "Training the model:  32%|███▏      | 317/1000 [01:04<02:06,  5.39epoch/s]"
          ]
        },
        {
          "output_type": "stream",
          "name": "stdout",
          "text": [
            "Epoch [316/1000], Loss: 0.0011, Test Loss: 0.0011\n",
            "Epoch [317/1000], Loss: 0.0011, Test Loss: 0.0011\n"
          ]
        },
        {
          "output_type": "stream",
          "name": "stderr",
          "text": [
            "Training the model:  32%|███▏      | 319/1000 [01:04<02:05,  5.42epoch/s]"
          ]
        },
        {
          "output_type": "stream",
          "name": "stdout",
          "text": [
            "Epoch [318/1000], Loss: 0.0011, Test Loss: 0.0011\n",
            "Epoch [319/1000], Loss: 0.0011, Test Loss: 0.0011\n"
          ]
        },
        {
          "output_type": "stream",
          "name": "stderr",
          "text": [
            "Training the model:  32%|███▏      | 321/1000 [01:05<02:05,  5.40epoch/s]"
          ]
        },
        {
          "output_type": "stream",
          "name": "stdout",
          "text": [
            "Epoch [320/1000], Loss: 0.0011, Test Loss: 0.0011\n",
            "Epoch [321/1000], Loss: 0.0011, Test Loss: 0.0011\n"
          ]
        },
        {
          "output_type": "stream",
          "name": "stderr",
          "text": [
            "Training the model:  32%|███▏      | 323/1000 [01:05<02:06,  5.35epoch/s]"
          ]
        },
        {
          "output_type": "stream",
          "name": "stdout",
          "text": [
            "Epoch [322/1000], Loss: 0.0011, Test Loss: 0.0011\n",
            "Epoch [323/1000], Loss: 0.0011, Test Loss: 0.0011\n"
          ]
        },
        {
          "output_type": "stream",
          "name": "stderr",
          "text": [
            "Training the model:  32%|███▎      | 325/1000 [01:06<02:08,  5.26epoch/s]"
          ]
        },
        {
          "output_type": "stream",
          "name": "stdout",
          "text": [
            "Epoch [324/1000], Loss: 0.0011, Test Loss: 0.0011\n",
            "Epoch [325/1000], Loss: 0.0011, Test Loss: 0.0011\n"
          ]
        },
        {
          "output_type": "stream",
          "name": "stderr",
          "text": [
            "Training the model:  33%|███▎      | 327/1000 [01:06<02:06,  5.32epoch/s]"
          ]
        },
        {
          "output_type": "stream",
          "name": "stdout",
          "text": [
            "Epoch [326/1000], Loss: 0.0011, Test Loss: 0.0011\n",
            "Epoch [327/1000], Loss: 0.0011, Test Loss: 0.0011\n"
          ]
        },
        {
          "output_type": "stream",
          "name": "stderr",
          "text": [
            "Training the model:  33%|███▎      | 329/1000 [01:06<02:05,  5.35epoch/s]"
          ]
        },
        {
          "output_type": "stream",
          "name": "stdout",
          "text": [
            "Epoch [328/1000], Loss: 0.0011, Test Loss: 0.0010\n",
            "Epoch [329/1000], Loss: 0.0011, Test Loss: 0.0010\n"
          ]
        },
        {
          "output_type": "stream",
          "name": "stderr",
          "text": [
            "Training the model:  33%|███▎      | 331/1000 [01:07<02:04,  5.39epoch/s]"
          ]
        },
        {
          "output_type": "stream",
          "name": "stdout",
          "text": [
            "Epoch [330/1000], Loss: 0.0011, Test Loss: 0.0010\n",
            "Epoch [331/1000], Loss: 0.0011, Test Loss: 0.0010\n"
          ]
        },
        {
          "output_type": "stream",
          "name": "stderr",
          "text": [
            "Training the model:  33%|███▎      | 333/1000 [01:07<02:02,  5.47epoch/s]"
          ]
        },
        {
          "output_type": "stream",
          "name": "stdout",
          "text": [
            "Epoch [332/1000], Loss: 0.0011, Test Loss: 0.0010\n",
            "Epoch [333/1000], Loss: 0.0011, Test Loss: 0.0010\n"
          ]
        },
        {
          "output_type": "stream",
          "name": "stderr",
          "text": [
            "Training the model:  34%|███▎      | 335/1000 [01:07<02:02,  5.44epoch/s]"
          ]
        },
        {
          "output_type": "stream",
          "name": "stdout",
          "text": [
            "Epoch [334/1000], Loss: 0.0011, Test Loss: 0.0010\n",
            "Epoch [335/1000], Loss: 0.0011, Test Loss: 0.0010\n"
          ]
        },
        {
          "output_type": "stream",
          "name": "stderr",
          "text": [
            "Training the model:  34%|███▎      | 337/1000 [01:08<02:03,  5.38epoch/s]"
          ]
        },
        {
          "output_type": "stream",
          "name": "stdout",
          "text": [
            "Epoch [336/1000], Loss: 0.0011, Test Loss: 0.0010\n",
            "Epoch [337/1000], Loss: 0.0011, Test Loss: 0.0010\n"
          ]
        },
        {
          "output_type": "stream",
          "name": "stderr",
          "text": [
            "Training the model:  34%|███▍      | 339/1000 [01:08<02:02,  5.41epoch/s]"
          ]
        },
        {
          "output_type": "stream",
          "name": "stdout",
          "text": [
            "Epoch [338/1000], Loss: 0.0011, Test Loss: 0.0010\n",
            "Epoch [339/1000], Loss: 0.0011, Test Loss: 0.0010\n"
          ]
        },
        {
          "output_type": "stream",
          "name": "stderr",
          "text": [
            "Training the model:  34%|███▍      | 341/1000 [01:09<02:03,  5.35epoch/s]"
          ]
        },
        {
          "output_type": "stream",
          "name": "stdout",
          "text": [
            "Epoch [340/1000], Loss: 0.0011, Test Loss: 0.0010\n",
            "Epoch [341/1000], Loss: 0.0011, Test Loss: 0.0010\n"
          ]
        },
        {
          "output_type": "stream",
          "name": "stderr",
          "text": [
            "Training the model:  34%|███▍      | 343/1000 [01:09<02:03,  5.32epoch/s]"
          ]
        },
        {
          "output_type": "stream",
          "name": "stdout",
          "text": [
            "Epoch [342/1000], Loss: 0.0011, Test Loss: 0.0010\n",
            "Epoch [343/1000], Loss: 0.0010, Test Loss: 0.0010\n"
          ]
        },
        {
          "output_type": "stream",
          "name": "stderr",
          "text": [
            "Training the model:  34%|███▍      | 345/1000 [01:09<02:05,  5.21epoch/s]"
          ]
        },
        {
          "output_type": "stream",
          "name": "stdout",
          "text": [
            "Epoch [344/1000], Loss: 0.0010, Test Loss: 0.0010\n",
            "Epoch [345/1000], Loss: 0.0010, Test Loss: 0.0010\n"
          ]
        },
        {
          "output_type": "stream",
          "name": "stderr",
          "text": [
            "Training the model:  35%|███▍      | 347/1000 [01:10<02:05,  5.20epoch/s]"
          ]
        },
        {
          "output_type": "stream",
          "name": "stdout",
          "text": [
            "Epoch [346/1000], Loss: 0.0010, Test Loss: 0.0010\n",
            "Epoch [347/1000], Loss: 0.0010, Test Loss: 0.0010\n"
          ]
        },
        {
          "output_type": "stream",
          "name": "stderr",
          "text": [
            "Training the model:  35%|███▍      | 349/1000 [01:10<02:04,  5.23epoch/s]"
          ]
        },
        {
          "output_type": "stream",
          "name": "stdout",
          "text": [
            "Epoch [348/1000], Loss: 0.0010, Test Loss: 0.0010\n",
            "Epoch [349/1000], Loss: 0.0010, Test Loss: 0.0010\n"
          ]
        },
        {
          "output_type": "stream",
          "name": "stderr",
          "text": [
            "Training the model:  35%|███▌      | 351/1000 [01:11<02:06,  5.14epoch/s]"
          ]
        },
        {
          "output_type": "stream",
          "name": "stdout",
          "text": [
            "Epoch [350/1000], Loss: 0.0010, Test Loss: 0.0010\n",
            "Epoch [351/1000], Loss: 0.0010, Test Loss: 0.0010\n"
          ]
        },
        {
          "output_type": "stream",
          "name": "stderr",
          "text": [
            "\rTraining the model:  35%|███▌      | 352/1000 [01:11<02:10,  4.97epoch/s]"
          ]
        },
        {
          "output_type": "stream",
          "name": "stdout",
          "text": [
            "Epoch [352/1000], Loss: 0.0010, Test Loss: 0.0010\n"
          ]
        },
        {
          "output_type": "stream",
          "name": "stderr",
          "text": [
            "Training the model:  35%|███▌      | 354/1000 [01:11<02:08,  5.04epoch/s]"
          ]
        },
        {
          "output_type": "stream",
          "name": "stdout",
          "text": [
            "Epoch [353/1000], Loss: 0.0010, Test Loss: 0.0010\n",
            "Epoch [354/1000], Loss: 0.0010, Test Loss: 0.0010\n"
          ]
        },
        {
          "output_type": "stream",
          "name": "stderr",
          "text": [
            "\rTraining the model:  36%|███▌      | 355/1000 [01:11<02:17,  4.68epoch/s]"
          ]
        },
        {
          "output_type": "stream",
          "name": "stdout",
          "text": [
            "Epoch [355/1000], Loss: 0.0010, Test Loss: 0.0010\n"
          ]
        },
        {
          "output_type": "stream",
          "name": "stderr",
          "text": [
            "\rTraining the model:  36%|███▌      | 356/1000 [01:12<02:26,  4.40epoch/s]"
          ]
        },
        {
          "output_type": "stream",
          "name": "stdout",
          "text": [
            "Epoch [356/1000], Loss: 0.0010, Test Loss: 0.0010\n"
          ]
        },
        {
          "output_type": "stream",
          "name": "stderr",
          "text": [
            "\rTraining the model:  36%|███▌      | 357/1000 [01:12<02:33,  4.18epoch/s]"
          ]
        },
        {
          "output_type": "stream",
          "name": "stdout",
          "text": [
            "Epoch [357/1000], Loss: 0.0010, Test Loss: 0.0010\n"
          ]
        },
        {
          "output_type": "stream",
          "name": "stderr",
          "text": [
            "\rTraining the model:  36%|███▌      | 358/1000 [01:12<02:36,  4.09epoch/s]"
          ]
        },
        {
          "output_type": "stream",
          "name": "stdout",
          "text": [
            "Epoch [358/1000], Loss: 0.0010, Test Loss: 0.0010\n"
          ]
        },
        {
          "output_type": "stream",
          "name": "stderr",
          "text": [
            "\rTraining the model:  36%|███▌      | 359/1000 [01:12<02:43,  3.92epoch/s]"
          ]
        },
        {
          "output_type": "stream",
          "name": "stdout",
          "text": [
            "Epoch [359/1000], Loss: 0.0010, Test Loss: 0.0010\n"
          ]
        },
        {
          "output_type": "stream",
          "name": "stderr",
          "text": [
            "\rTraining the model:  36%|███▌      | 360/1000 [01:13<02:58,  3.58epoch/s]"
          ]
        },
        {
          "output_type": "stream",
          "name": "stdout",
          "text": [
            "Epoch [360/1000], Loss: 0.0010, Test Loss: 0.0010\n"
          ]
        },
        {
          "output_type": "stream",
          "name": "stderr",
          "text": [
            "\rTraining the model:  36%|███▌      | 361/1000 [01:13<02:58,  3.57epoch/s]"
          ]
        },
        {
          "output_type": "stream",
          "name": "stdout",
          "text": [
            "Epoch [361/1000], Loss: 0.0010, Test Loss: 0.0010\n"
          ]
        },
        {
          "output_type": "stream",
          "name": "stderr",
          "text": [
            "\rTraining the model:  36%|███▌      | 362/1000 [01:13<02:57,  3.59epoch/s]"
          ]
        },
        {
          "output_type": "stream",
          "name": "stdout",
          "text": [
            "Epoch [362/1000], Loss: 0.0010, Test Loss: 0.0010\n"
          ]
        },
        {
          "output_type": "stream",
          "name": "stderr",
          "text": [
            "Training the model:  36%|███▋      | 364/1000 [01:14<02:35,  4.09epoch/s]"
          ]
        },
        {
          "output_type": "stream",
          "name": "stdout",
          "text": [
            "Epoch [363/1000], Loss: 0.0010, Test Loss: 0.0010\n",
            "Epoch [364/1000], Loss: 0.0010, Test Loss: 0.0010\n"
          ]
        },
        {
          "output_type": "stream",
          "name": "stderr",
          "text": [
            "Training the model:  37%|███▋      | 366/1000 [01:14<02:18,  4.58epoch/s]"
          ]
        },
        {
          "output_type": "stream",
          "name": "stdout",
          "text": [
            "Epoch [365/1000], Loss: 0.0010, Test Loss: 0.0010\n",
            "Epoch [366/1000], Loss: 0.0010, Test Loss: 0.0010\n"
          ]
        },
        {
          "output_type": "stream",
          "name": "stderr",
          "text": [
            "Training the model:  37%|███▋      | 368/1000 [01:15<02:07,  4.98epoch/s]"
          ]
        },
        {
          "output_type": "stream",
          "name": "stdout",
          "text": [
            "Epoch [367/1000], Loss: 0.0010, Test Loss: 0.0010\n",
            "Epoch [368/1000], Loss: 0.0010, Test Loss: 0.0010\n"
          ]
        },
        {
          "output_type": "stream",
          "name": "stderr",
          "text": [
            "\rTraining the model:  37%|███▋      | 369/1000 [01:15<02:04,  5.06epoch/s]"
          ]
        },
        {
          "output_type": "stream",
          "name": "stdout",
          "text": [
            "Epoch [369/1000], Loss: 0.0010, Test Loss: 0.0010\n"
          ]
        },
        {
          "output_type": "stream",
          "name": "stderr",
          "text": [
            "Training the model:  37%|███▋      | 371/1000 [01:15<02:07,  4.95epoch/s]"
          ]
        },
        {
          "output_type": "stream",
          "name": "stdout",
          "text": [
            "Epoch [370/1000], Loss: 0.0010, Test Loss: 0.0010\n",
            "Epoch [371/1000], Loss: 0.0010, Test Loss: 0.0010\n"
          ]
        },
        {
          "output_type": "stream",
          "name": "stderr",
          "text": [
            "Training the model:  37%|███▋      | 373/1000 [01:16<02:04,  5.04epoch/s]"
          ]
        },
        {
          "output_type": "stream",
          "name": "stdout",
          "text": [
            "Epoch [372/1000], Loss: 0.0010, Test Loss: 0.0010\n",
            "Epoch [373/1000], Loss: 0.0010, Test Loss: 0.0010\n"
          ]
        },
        {
          "output_type": "stream",
          "name": "stderr",
          "text": [
            "Training the model:  38%|███▊      | 375/1000 [01:16<02:03,  5.06epoch/s]"
          ]
        },
        {
          "output_type": "stream",
          "name": "stdout",
          "text": [
            "Epoch [374/1000], Loss: 0.0010, Test Loss: 0.0010\n",
            "Epoch [375/1000], Loss: 0.0010, Test Loss: 0.0010\n"
          ]
        },
        {
          "output_type": "stream",
          "name": "stderr",
          "text": [
            "Training the model:  38%|███▊      | 377/1000 [01:16<01:58,  5.24epoch/s]"
          ]
        },
        {
          "output_type": "stream",
          "name": "stdout",
          "text": [
            "Epoch [376/1000], Loss: 0.0010, Test Loss: 0.0010\n",
            "Epoch [377/1000], Loss: 0.0010, Test Loss: 0.0010\n"
          ]
        },
        {
          "output_type": "stream",
          "name": "stderr",
          "text": [
            "Training the model:  38%|███▊      | 379/1000 [01:17<01:56,  5.33epoch/s]"
          ]
        },
        {
          "output_type": "stream",
          "name": "stdout",
          "text": [
            "Epoch [378/1000], Loss: 0.0010, Test Loss: 0.0010\n",
            "Epoch [379/1000], Loss: 0.0010, Test Loss: 0.0010\n"
          ]
        },
        {
          "output_type": "stream",
          "name": "stderr",
          "text": [
            "Training the model:  38%|███▊      | 381/1000 [01:17<01:55,  5.36epoch/s]"
          ]
        },
        {
          "output_type": "stream",
          "name": "stdout",
          "text": [
            "Epoch [380/1000], Loss: 0.0010, Test Loss: 0.0010\n",
            "Epoch [381/1000], Loss: 0.0010, Test Loss: 0.0010\n"
          ]
        },
        {
          "output_type": "stream",
          "name": "stderr",
          "text": [
            "Training the model:  38%|███▊      | 383/1000 [01:17<01:54,  5.37epoch/s]"
          ]
        },
        {
          "output_type": "stream",
          "name": "stdout",
          "text": [
            "Epoch [382/1000], Loss: 0.0010, Test Loss: 0.0010\n",
            "Epoch [383/1000], Loss: 0.0010, Test Loss: 0.0010\n"
          ]
        },
        {
          "output_type": "stream",
          "name": "stderr",
          "text": [
            "Training the model:  38%|███▊      | 385/1000 [01:18<01:55,  5.33epoch/s]"
          ]
        },
        {
          "output_type": "stream",
          "name": "stdout",
          "text": [
            "Epoch [384/1000], Loss: 0.0010, Test Loss: 0.0010\n",
            "Epoch [385/1000], Loss: 0.0010, Test Loss: 0.0010\n"
          ]
        },
        {
          "output_type": "stream",
          "name": "stderr",
          "text": [
            "Training the model:  39%|███▊      | 387/1000 [01:18<01:55,  5.29epoch/s]"
          ]
        },
        {
          "output_type": "stream",
          "name": "stdout",
          "text": [
            "Epoch [386/1000], Loss: 0.0010, Test Loss: 0.0010\n",
            "Epoch [387/1000], Loss: 0.0010, Test Loss: 0.0010\n"
          ]
        },
        {
          "output_type": "stream",
          "name": "stderr",
          "text": [
            "Training the model:  39%|███▉      | 389/1000 [01:19<01:54,  5.35epoch/s]"
          ]
        },
        {
          "output_type": "stream",
          "name": "stdout",
          "text": [
            "Epoch [388/1000], Loss: 0.0010, Test Loss: 0.0010\n",
            "Epoch [389/1000], Loss: 0.0010, Test Loss: 0.0010\n"
          ]
        },
        {
          "output_type": "stream",
          "name": "stderr",
          "text": [
            "Training the model:  39%|███▉      | 391/1000 [01:19<01:53,  5.38epoch/s]"
          ]
        },
        {
          "output_type": "stream",
          "name": "stdout",
          "text": [
            "Epoch [390/1000], Loss: 0.0010, Test Loss: 0.0010\n",
            "Epoch [391/1000], Loss: 0.0010, Test Loss: 0.0010\n"
          ]
        },
        {
          "output_type": "stream",
          "name": "stderr",
          "text": [
            "Training the model:  39%|███▉      | 393/1000 [01:19<01:56,  5.20epoch/s]"
          ]
        },
        {
          "output_type": "stream",
          "name": "stdout",
          "text": [
            "Epoch [392/1000], Loss: 0.0010, Test Loss: 0.0010\n",
            "Epoch [393/1000], Loss: 0.0010, Test Loss: 0.0009\n"
          ]
        },
        {
          "output_type": "stream",
          "name": "stderr",
          "text": [
            "Training the model:  40%|███▉      | 395/1000 [01:20<01:57,  5.15epoch/s]"
          ]
        },
        {
          "output_type": "stream",
          "name": "stdout",
          "text": [
            "Epoch [394/1000], Loss: 0.0010, Test Loss: 0.0009\n",
            "Epoch [395/1000], Loss: 0.0010, Test Loss: 0.0009\n"
          ]
        },
        {
          "output_type": "stream",
          "name": "stderr",
          "text": [
            "\rTraining the model:  40%|███▉      | 396/1000 [01:20<01:57,  5.15epoch/s]"
          ]
        },
        {
          "output_type": "stream",
          "name": "stdout",
          "text": [
            "Epoch [396/1000], Loss: 0.0010, Test Loss: 0.0009\n"
          ]
        },
        {
          "output_type": "stream",
          "name": "stderr",
          "text": [
            "Training the model:  40%|███▉      | 398/1000 [01:20<01:58,  5.06epoch/s]"
          ]
        },
        {
          "output_type": "stream",
          "name": "stdout",
          "text": [
            "Epoch [397/1000], Loss: 0.0010, Test Loss: 0.0009\n",
            "Epoch [398/1000], Loss: 0.0010, Test Loss: 0.0009\n"
          ]
        },
        {
          "output_type": "stream",
          "name": "stderr",
          "text": [
            "Training the model:  40%|████      | 400/1000 [01:21<01:56,  5.17epoch/s]"
          ]
        },
        {
          "output_type": "stream",
          "name": "stdout",
          "text": [
            "Epoch [399/1000], Loss: 0.0010, Test Loss: 0.0009\n",
            "Epoch [400/1000], Loss: 0.0010, Test Loss: 0.0009\n"
          ]
        },
        {
          "output_type": "stream",
          "name": "stderr",
          "text": [
            "Training the model:  40%|████      | 402/1000 [01:21<01:54,  5.21epoch/s]"
          ]
        },
        {
          "output_type": "stream",
          "name": "stdout",
          "text": [
            "Epoch [401/1000], Loss: 0.0010, Test Loss: 0.0009\n",
            "Epoch [402/1000], Loss: 0.0010, Test Loss: 0.0009\n"
          ]
        },
        {
          "output_type": "stream",
          "name": "stderr",
          "text": [
            "Training the model:  40%|████      | 404/1000 [01:21<01:54,  5.21epoch/s]"
          ]
        },
        {
          "output_type": "stream",
          "name": "stdout",
          "text": [
            "Epoch [403/1000], Loss: 0.0010, Test Loss: 0.0009\n",
            "Epoch [404/1000], Loss: 0.0010, Test Loss: 0.0009\n"
          ]
        },
        {
          "output_type": "stream",
          "name": "stderr",
          "text": [
            "Training the model:  41%|████      | 406/1000 [01:22<01:53,  5.22epoch/s]"
          ]
        },
        {
          "output_type": "stream",
          "name": "stdout",
          "text": [
            "Epoch [405/1000], Loss: 0.0010, Test Loss: 0.0009\n",
            "Epoch [406/1000], Loss: 0.0010, Test Loss: 0.0009\n"
          ]
        },
        {
          "output_type": "stream",
          "name": "stderr",
          "text": [
            "Training the model:  41%|████      | 408/1000 [01:22<01:53,  5.20epoch/s]"
          ]
        },
        {
          "output_type": "stream",
          "name": "stdout",
          "text": [
            "Epoch [407/1000], Loss: 0.0010, Test Loss: 0.0009\n",
            "Epoch [408/1000], Loss: 0.0010, Test Loss: 0.0009\n"
          ]
        },
        {
          "output_type": "stream",
          "name": "stderr",
          "text": [
            "Training the model:  41%|████      | 410/1000 [01:23<01:53,  5.20epoch/s]"
          ]
        },
        {
          "output_type": "stream",
          "name": "stdout",
          "text": [
            "Epoch [409/1000], Loss: 0.0010, Test Loss: 0.0009\n",
            "Epoch [410/1000], Loss: 0.0010, Test Loss: 0.0009\n"
          ]
        },
        {
          "output_type": "stream",
          "name": "stderr",
          "text": [
            "Training the model:  41%|████      | 412/1000 [01:23<01:53,  5.17epoch/s]"
          ]
        },
        {
          "output_type": "stream",
          "name": "stdout",
          "text": [
            "Epoch [411/1000], Loss: 0.0010, Test Loss: 0.0009\n",
            "Epoch [412/1000], Loss: 0.0009, Test Loss: 0.0009\n"
          ]
        },
        {
          "output_type": "stream",
          "name": "stderr",
          "text": [
            "Training the model:  41%|████▏     | 414/1000 [01:23<01:53,  5.18epoch/s]"
          ]
        },
        {
          "output_type": "stream",
          "name": "stdout",
          "text": [
            "Epoch [413/1000], Loss: 0.0009, Test Loss: 0.0009\n",
            "Epoch [414/1000], Loss: 0.0009, Test Loss: 0.0009\n"
          ]
        },
        {
          "output_type": "stream",
          "name": "stderr",
          "text": [
            "\rTraining the model:  42%|████▏     | 415/1000 [01:24<01:57,  4.96epoch/s]"
          ]
        },
        {
          "output_type": "stream",
          "name": "stdout",
          "text": [
            "Epoch [415/1000], Loss: 0.0009, Test Loss: 0.0009\n"
          ]
        },
        {
          "output_type": "stream",
          "name": "stderr",
          "text": [
            "\rTraining the model:  42%|████▏     | 416/1000 [01:24<02:07,  4.57epoch/s]"
          ]
        },
        {
          "output_type": "stream",
          "name": "stdout",
          "text": [
            "Epoch [416/1000], Loss: 0.0009, Test Loss: 0.0009\n"
          ]
        },
        {
          "output_type": "stream",
          "name": "stderr",
          "text": [
            "\rTraining the model:  42%|████▏     | 417/1000 [01:24<02:16,  4.29epoch/s]"
          ]
        },
        {
          "output_type": "stream",
          "name": "stdout",
          "text": [
            "Epoch [417/1000], Loss: 0.0009, Test Loss: 0.0009\n"
          ]
        },
        {
          "output_type": "stream",
          "name": "stderr",
          "text": [
            "\rTraining the model:  42%|████▏     | 418/1000 [01:24<02:21,  4.12epoch/s]"
          ]
        },
        {
          "output_type": "stream",
          "name": "stdout",
          "text": [
            "Epoch [418/1000], Loss: 0.0009, Test Loss: 0.0009\n"
          ]
        },
        {
          "output_type": "stream",
          "name": "stderr",
          "text": [
            "\rTraining the model:  42%|████▏     | 419/1000 [01:25<02:26,  3.98epoch/s]"
          ]
        },
        {
          "output_type": "stream",
          "name": "stdout",
          "text": [
            "Epoch [419/1000], Loss: 0.0009, Test Loss: 0.0009\n"
          ]
        },
        {
          "output_type": "stream",
          "name": "stderr",
          "text": [
            "\rTraining the model:  42%|████▏     | 420/1000 [01:25<02:28,  3.92epoch/s]"
          ]
        },
        {
          "output_type": "stream",
          "name": "stdout",
          "text": [
            "Epoch [420/1000], Loss: 0.0009, Test Loss: 0.0009\n"
          ]
        },
        {
          "output_type": "stream",
          "name": "stderr",
          "text": [
            "\rTraining the model:  42%|████▏     | 421/1000 [01:25<02:32,  3.80epoch/s]"
          ]
        },
        {
          "output_type": "stream",
          "name": "stdout",
          "text": [
            "Epoch [421/1000], Loss: 0.0009, Test Loss: 0.0009\n"
          ]
        },
        {
          "output_type": "stream",
          "name": "stderr",
          "text": [
            "\rTraining the model:  42%|████▏     | 422/1000 [01:25<02:34,  3.73epoch/s]"
          ]
        },
        {
          "output_type": "stream",
          "name": "stdout",
          "text": [
            "Epoch [422/1000], Loss: 0.0009, Test Loss: 0.0009\n"
          ]
        },
        {
          "output_type": "stream",
          "name": "stderr",
          "text": [
            "\rTraining the model:  42%|████▏     | 423/1000 [01:26<02:36,  3.68epoch/s]"
          ]
        },
        {
          "output_type": "stream",
          "name": "stdout",
          "text": [
            "Epoch [423/1000], Loss: 0.0009, Test Loss: 0.0009\n"
          ]
        },
        {
          "output_type": "stream",
          "name": "stderr",
          "text": [
            "Training the model:  42%|████▎     | 425/1000 [01:26<02:17,  4.19epoch/s]"
          ]
        },
        {
          "output_type": "stream",
          "name": "stdout",
          "text": [
            "Epoch [424/1000], Loss: 0.0009, Test Loss: 0.0009\n",
            "Epoch [425/1000], Loss: 0.0009, Test Loss: 0.0009\n"
          ]
        },
        {
          "output_type": "stream",
          "name": "stderr",
          "text": [
            "Training the model:  43%|████▎     | 427/1000 [01:27<02:01,  4.71epoch/s]"
          ]
        },
        {
          "output_type": "stream",
          "name": "stdout",
          "text": [
            "Epoch [426/1000], Loss: 0.0009, Test Loss: 0.0009\n",
            "Epoch [427/1000], Loss: 0.0009, Test Loss: 0.0009\n"
          ]
        },
        {
          "output_type": "stream",
          "name": "stderr",
          "text": [
            "Training the model:  43%|████▎     | 429/1000 [01:27<01:52,  5.07epoch/s]"
          ]
        },
        {
          "output_type": "stream",
          "name": "stdout",
          "text": [
            "Epoch [428/1000], Loss: 0.0009, Test Loss: 0.0009\n",
            "Epoch [429/1000], Loss: 0.0009, Test Loss: 0.0009\n"
          ]
        },
        {
          "output_type": "stream",
          "name": "stderr",
          "text": [
            "Training the model:  43%|████▎     | 431/1000 [01:27<01:48,  5.24epoch/s]"
          ]
        },
        {
          "output_type": "stream",
          "name": "stdout",
          "text": [
            "Epoch [430/1000], Loss: 0.0009, Test Loss: 0.0009\n",
            "Epoch [431/1000], Loss: 0.0009, Test Loss: 0.0009\n"
          ]
        },
        {
          "output_type": "stream",
          "name": "stderr",
          "text": [
            "Training the model:  43%|████▎     | 433/1000 [01:28<01:48,  5.22epoch/s]"
          ]
        },
        {
          "output_type": "stream",
          "name": "stdout",
          "text": [
            "Epoch [432/1000], Loss: 0.0009, Test Loss: 0.0009\n",
            "Epoch [433/1000], Loss: 0.0009, Test Loss: 0.0009\n"
          ]
        },
        {
          "output_type": "stream",
          "name": "stderr",
          "text": [
            "Training the model:  44%|████▎     | 435/1000 [01:28<01:49,  5.15epoch/s]"
          ]
        },
        {
          "output_type": "stream",
          "name": "stdout",
          "text": [
            "Epoch [434/1000], Loss: 0.0009, Test Loss: 0.0009\n",
            "Epoch [435/1000], Loss: 0.0009, Test Loss: 0.0009\n"
          ]
        },
        {
          "output_type": "stream",
          "name": "stderr",
          "text": [
            "Training the model:  44%|████▎     | 437/1000 [01:28<01:50,  5.08epoch/s]"
          ]
        },
        {
          "output_type": "stream",
          "name": "stdout",
          "text": [
            "Epoch [436/1000], Loss: 0.0009, Test Loss: 0.0009\n",
            "Epoch [437/1000], Loss: 0.0009, Test Loss: 0.0009\n"
          ]
        },
        {
          "output_type": "stream",
          "name": "stderr",
          "text": [
            "Training the model:  44%|████▍     | 439/1000 [01:29<01:50,  5.09epoch/s]"
          ]
        },
        {
          "output_type": "stream",
          "name": "stdout",
          "text": [
            "Epoch [438/1000], Loss: 0.0009, Test Loss: 0.0009\n",
            "Epoch [439/1000], Loss: 0.0009, Test Loss: 0.0009\n"
          ]
        },
        {
          "output_type": "stream",
          "name": "stderr",
          "text": [
            "Training the model:  44%|████▍     | 441/1000 [01:29<01:48,  5.17epoch/s]"
          ]
        },
        {
          "output_type": "stream",
          "name": "stdout",
          "text": [
            "Epoch [440/1000], Loss: 0.0009, Test Loss: 0.0009\n",
            "Epoch [441/1000], Loss: 0.0009, Test Loss: 0.0009\n"
          ]
        },
        {
          "output_type": "stream",
          "name": "stderr",
          "text": [
            "Training the model:  44%|████▍     | 443/1000 [01:30<01:47,  5.17epoch/s]"
          ]
        },
        {
          "output_type": "stream",
          "name": "stdout",
          "text": [
            "Epoch [442/1000], Loss: 0.0009, Test Loss: 0.0008\n",
            "Epoch [443/1000], Loss: 0.0009, Test Loss: 0.0008\n"
          ]
        },
        {
          "output_type": "stream",
          "name": "stderr",
          "text": [
            "\rTraining the model:  44%|████▍     | 444/1000 [01:30<02:01,  4.58epoch/s]"
          ]
        },
        {
          "output_type": "stream",
          "name": "stdout",
          "text": [
            "Epoch [444/1000], Loss: 0.0009, Test Loss: 0.0008\n"
          ]
        },
        {
          "output_type": "stream",
          "name": "stderr",
          "text": [
            "\rTraining the model:  44%|████▍     | 445/1000 [01:30<02:15,  4.11epoch/s]"
          ]
        },
        {
          "output_type": "stream",
          "name": "stdout",
          "text": [
            "Epoch [445/1000], Loss: 0.0009, Test Loss: 0.0008\n"
          ]
        },
        {
          "output_type": "stream",
          "name": "stderr",
          "text": [
            "\rTraining the model:  45%|████▍     | 446/1000 [01:30<02:18,  4.01epoch/s]"
          ]
        },
        {
          "output_type": "stream",
          "name": "stdout",
          "text": [
            "Epoch [446/1000], Loss: 0.0009, Test Loss: 0.0008\n"
          ]
        },
        {
          "output_type": "stream",
          "name": "stderr",
          "text": [
            "\rTraining the model:  45%|████▍     | 447/1000 [01:31<02:27,  3.75epoch/s]"
          ]
        },
        {
          "output_type": "stream",
          "name": "stdout",
          "text": [
            "Epoch [447/1000], Loss: 0.0009, Test Loss: 0.0008\n"
          ]
        },
        {
          "output_type": "stream",
          "name": "stderr",
          "text": [
            "\rTraining the model:  45%|████▍     | 448/1000 [01:31<02:37,  3.51epoch/s]"
          ]
        },
        {
          "output_type": "stream",
          "name": "stdout",
          "text": [
            "Epoch [448/1000], Loss: 0.0009, Test Loss: 0.0008\n"
          ]
        },
        {
          "output_type": "stream",
          "name": "stderr",
          "text": [
            "\rTraining the model:  45%|████▍     | 449/1000 [01:31<02:45,  3.34epoch/s]"
          ]
        },
        {
          "output_type": "stream",
          "name": "stdout",
          "text": [
            "Epoch [449/1000], Loss: 0.0009, Test Loss: 0.0008\n"
          ]
        },
        {
          "output_type": "stream",
          "name": "stderr",
          "text": [
            "\rTraining the model:  45%|████▌     | 450/1000 [01:32<03:02,  3.02epoch/s]"
          ]
        },
        {
          "output_type": "stream",
          "name": "stdout",
          "text": [
            "Epoch [450/1000], Loss: 0.0009, Test Loss: 0.0008\n"
          ]
        },
        {
          "output_type": "stream",
          "name": "stderr",
          "text": [
            "Training the model:  45%|████▌     | 452/1000 [01:33<03:03,  2.99epoch/s]"
          ]
        },
        {
          "output_type": "stream",
          "name": "stdout",
          "text": [
            "Epoch [451/1000], Loss: 0.0009, Test Loss: 0.0008\n",
            "Epoch [452/1000], Loss: 0.0009, Test Loss: 0.0008\n"
          ]
        },
        {
          "output_type": "stream",
          "name": "stderr",
          "text": [
            "Training the model:  45%|████▌     | 454/1000 [01:33<02:24,  3.78epoch/s]"
          ]
        },
        {
          "output_type": "stream",
          "name": "stdout",
          "text": [
            "Epoch [453/1000], Loss: 0.0009, Test Loss: 0.0008\n",
            "Epoch [454/1000], Loss: 0.0009, Test Loss: 0.0008\n"
          ]
        },
        {
          "output_type": "stream",
          "name": "stderr",
          "text": [
            "Training the model:  46%|████▌     | 456/1000 [01:33<02:04,  4.36epoch/s]"
          ]
        },
        {
          "output_type": "stream",
          "name": "stdout",
          "text": [
            "Epoch [455/1000], Loss: 0.0009, Test Loss: 0.0008\n",
            "Epoch [456/1000], Loss: 0.0009, Test Loss: 0.0008\n"
          ]
        },
        {
          "output_type": "stream",
          "name": "stderr",
          "text": [
            "Training the model:  46%|████▌     | 458/1000 [01:34<01:52,  4.80epoch/s]"
          ]
        },
        {
          "output_type": "stream",
          "name": "stdout",
          "text": [
            "Epoch [457/1000], Loss: 0.0009, Test Loss: 0.0008\n",
            "Epoch [458/1000], Loss: 0.0009, Test Loss: 0.0008\n"
          ]
        },
        {
          "output_type": "stream",
          "name": "stderr",
          "text": [
            "Training the model:  46%|████▌     | 460/1000 [01:34<01:48,  5.00epoch/s]"
          ]
        },
        {
          "output_type": "stream",
          "name": "stdout",
          "text": [
            "Epoch [459/1000], Loss: 0.0009, Test Loss: 0.0008\n",
            "Epoch [460/1000], Loss: 0.0009, Test Loss: 0.0008\n"
          ]
        },
        {
          "output_type": "stream",
          "name": "stderr",
          "text": [
            "Training the model:  46%|████▌     | 462/1000 [01:35<01:45,  5.08epoch/s]"
          ]
        },
        {
          "output_type": "stream",
          "name": "stdout",
          "text": [
            "Epoch [461/1000], Loss: 0.0009, Test Loss: 0.0008\n",
            "Epoch [462/1000], Loss: 0.0009, Test Loss: 0.0008\n"
          ]
        },
        {
          "output_type": "stream",
          "name": "stderr",
          "text": [
            "Training the model:  46%|████▋     | 464/1000 [01:35<01:45,  5.08epoch/s]"
          ]
        },
        {
          "output_type": "stream",
          "name": "stdout",
          "text": [
            "Epoch [463/1000], Loss: 0.0009, Test Loss: 0.0008\n",
            "Epoch [464/1000], Loss: 0.0009, Test Loss: 0.0008\n"
          ]
        },
        {
          "output_type": "stream",
          "name": "stderr",
          "text": [
            "Training the model:  47%|████▋     | 466/1000 [01:35<01:42,  5.20epoch/s]"
          ]
        },
        {
          "output_type": "stream",
          "name": "stdout",
          "text": [
            "Epoch [465/1000], Loss: 0.0008, Test Loss: 0.0008\n",
            "Epoch [466/1000], Loss: 0.0008, Test Loss: 0.0008\n"
          ]
        },
        {
          "output_type": "stream",
          "name": "stderr",
          "text": [
            "Training the model:  47%|████▋     | 468/1000 [01:36<01:44,  5.11epoch/s]"
          ]
        },
        {
          "output_type": "stream",
          "name": "stdout",
          "text": [
            "Epoch [467/1000], Loss: 0.0008, Test Loss: 0.0008\n",
            "Epoch [468/1000], Loss: 0.0008, Test Loss: 0.0008\n"
          ]
        },
        {
          "output_type": "stream",
          "name": "stderr",
          "text": [
            "\rTraining the model:  47%|████▋     | 469/1000 [01:36<01:48,  4.88epoch/s]"
          ]
        },
        {
          "output_type": "stream",
          "name": "stdout",
          "text": [
            "Epoch [469/1000], Loss: 0.0008, Test Loss: 0.0008\n"
          ]
        },
        {
          "output_type": "stream",
          "name": "stderr",
          "text": [
            "\rTraining the model:  47%|████▋     | 470/1000 [01:36<02:01,  4.37epoch/s]"
          ]
        },
        {
          "output_type": "stream",
          "name": "stdout",
          "text": [
            "Epoch [470/1000], Loss: 0.0008, Test Loss: 0.0008\n"
          ]
        },
        {
          "output_type": "stream",
          "name": "stderr",
          "text": [
            "\rTraining the model:  47%|████▋     | 471/1000 [01:36<02:08,  4.11epoch/s]"
          ]
        },
        {
          "output_type": "stream",
          "name": "stdout",
          "text": [
            "Epoch [471/1000], Loss: 0.0008, Test Loss: 0.0008\n"
          ]
        },
        {
          "output_type": "stream",
          "name": "stderr",
          "text": [
            "\rTraining the model:  47%|████▋     | 472/1000 [01:37<02:12,  3.97epoch/s]"
          ]
        },
        {
          "output_type": "stream",
          "name": "stdout",
          "text": [
            "Epoch [472/1000], Loss: 0.0008, Test Loss: 0.0008\n"
          ]
        },
        {
          "output_type": "stream",
          "name": "stderr",
          "text": [
            "\rTraining the model:  47%|████▋     | 473/1000 [01:37<02:16,  3.87epoch/s]"
          ]
        },
        {
          "output_type": "stream",
          "name": "stdout",
          "text": [
            "Epoch [473/1000], Loss: 0.0008, Test Loss: 0.0008\n"
          ]
        },
        {
          "output_type": "stream",
          "name": "stderr",
          "text": [
            "\rTraining the model:  47%|████▋     | 474/1000 [01:37<02:17,  3.82epoch/s]"
          ]
        },
        {
          "output_type": "stream",
          "name": "stdout",
          "text": [
            "Epoch [474/1000], Loss: 0.0008, Test Loss: 0.0008\n"
          ]
        },
        {
          "output_type": "stream",
          "name": "stderr",
          "text": [
            "\rTraining the model:  48%|████▊     | 475/1000 [01:38<02:20,  3.74epoch/s]"
          ]
        },
        {
          "output_type": "stream",
          "name": "stdout",
          "text": [
            "Epoch [475/1000], Loss: 0.0008, Test Loss: 0.0008\n"
          ]
        },
        {
          "output_type": "stream",
          "name": "stderr",
          "text": [
            "\rTraining the model:  48%|████▊     | 476/1000 [01:38<02:21,  3.71epoch/s]"
          ]
        },
        {
          "output_type": "stream",
          "name": "stdout",
          "text": [
            "Epoch [476/1000], Loss: 0.0008, Test Loss: 0.0008\n"
          ]
        },
        {
          "output_type": "stream",
          "name": "stderr",
          "text": [
            "\rTraining the model:  48%|████▊     | 477/1000 [01:38<02:23,  3.65epoch/s]"
          ]
        },
        {
          "output_type": "stream",
          "name": "stdout",
          "text": [
            "Epoch [477/1000], Loss: 0.0008, Test Loss: 0.0008\n"
          ]
        },
        {
          "output_type": "stream",
          "name": "stderr",
          "text": [
            "\rTraining the model:  48%|████▊     | 478/1000 [01:38<02:19,  3.74epoch/s]"
          ]
        },
        {
          "output_type": "stream",
          "name": "stdout",
          "text": [
            "Epoch [478/1000], Loss: 0.0008, Test Loss: 0.0008\n"
          ]
        },
        {
          "output_type": "stream",
          "name": "stderr",
          "text": [
            "Training the model:  48%|████▊     | 480/1000 [01:39<02:01,  4.27epoch/s]"
          ]
        },
        {
          "output_type": "stream",
          "name": "stdout",
          "text": [
            "Epoch [479/1000], Loss: 0.0008, Test Loss: 0.0008\n",
            "Epoch [480/1000], Loss: 0.0008, Test Loss: 0.0008\n"
          ]
        },
        {
          "output_type": "stream",
          "name": "stderr",
          "text": [
            "Training the model:  48%|████▊     | 482/1000 [01:39<01:50,  4.68epoch/s]"
          ]
        },
        {
          "output_type": "stream",
          "name": "stdout",
          "text": [
            "Epoch [481/1000], Loss: 0.0008, Test Loss: 0.0008\n",
            "Epoch [482/1000], Loss: 0.0008, Test Loss: 0.0008\n"
          ]
        },
        {
          "output_type": "stream",
          "name": "stderr",
          "text": [
            "\rTraining the model:  48%|████▊     | 483/1000 [01:39<01:48,  4.75epoch/s]"
          ]
        },
        {
          "output_type": "stream",
          "name": "stdout",
          "text": [
            "Epoch [483/1000], Loss: 0.0008, Test Loss: 0.0008\n"
          ]
        },
        {
          "output_type": "stream",
          "name": "stderr",
          "text": [
            "\rTraining the model:  48%|████▊     | 484/1000 [01:40<01:48,  4.77epoch/s]"
          ]
        },
        {
          "output_type": "stream",
          "name": "stdout",
          "text": [
            "Epoch [484/1000], Loss: 0.0008, Test Loss: 0.0008\n"
          ]
        },
        {
          "output_type": "stream",
          "name": "stderr",
          "text": [
            "Training the model:  49%|████▊     | 486/1000 [01:40<01:47,  4.79epoch/s]"
          ]
        },
        {
          "output_type": "stream",
          "name": "stdout",
          "text": [
            "Epoch [485/1000], Loss: 0.0008, Test Loss: 0.0008\n",
            "Epoch [486/1000], Loss: 0.0008, Test Loss: 0.0008\n"
          ]
        },
        {
          "output_type": "stream",
          "name": "stderr",
          "text": [
            "\rTraining the model:  49%|████▊     | 487/1000 [01:40<01:47,  4.78epoch/s]"
          ]
        },
        {
          "output_type": "stream",
          "name": "stdout",
          "text": [
            "Epoch [487/1000], Loss: 0.0008, Test Loss: 0.0008\n"
          ]
        },
        {
          "output_type": "stream",
          "name": "stderr",
          "text": [
            "Training the model:  49%|████▉     | 489/1000 [01:41<01:44,  4.87epoch/s]"
          ]
        },
        {
          "output_type": "stream",
          "name": "stdout",
          "text": [
            "Epoch [488/1000], Loss: 0.0008, Test Loss: 0.0008\n",
            "Epoch [489/1000], Loss: 0.0008, Test Loss: 0.0008\n"
          ]
        },
        {
          "output_type": "stream",
          "name": "stderr",
          "text": [
            "Training the model:  49%|████▉     | 491/1000 [01:41<01:41,  5.00epoch/s]"
          ]
        },
        {
          "output_type": "stream",
          "name": "stdout",
          "text": [
            "Epoch [490/1000], Loss: 0.0008, Test Loss: 0.0008\n",
            "Epoch [491/1000], Loss: 0.0008, Test Loss: 0.0008\n"
          ]
        },
        {
          "output_type": "stream",
          "name": "stderr",
          "text": [
            "Training the model:  49%|████▉     | 493/1000 [01:41<01:39,  5.08epoch/s]"
          ]
        },
        {
          "output_type": "stream",
          "name": "stdout",
          "text": [
            "Epoch [492/1000], Loss: 0.0008, Test Loss: 0.0008\n",
            "Epoch [493/1000], Loss: 0.0008, Test Loss: 0.0008\n"
          ]
        },
        {
          "output_type": "stream",
          "name": "stderr",
          "text": [
            "Training the model:  50%|████▉     | 495/1000 [01:42<01:38,  5.15epoch/s]"
          ]
        },
        {
          "output_type": "stream",
          "name": "stdout",
          "text": [
            "Epoch [494/1000], Loss: 0.0008, Test Loss: 0.0008\n",
            "Epoch [495/1000], Loss: 0.0008, Test Loss: 0.0008\n"
          ]
        },
        {
          "output_type": "stream",
          "name": "stderr",
          "text": [
            "Training the model:  50%|████▉     | 497/1000 [01:42<01:36,  5.19epoch/s]"
          ]
        },
        {
          "output_type": "stream",
          "name": "stdout",
          "text": [
            "Epoch [496/1000], Loss: 0.0008, Test Loss: 0.0008\n",
            "Epoch [497/1000], Loss: 0.0008, Test Loss: 0.0008\n"
          ]
        },
        {
          "output_type": "stream",
          "name": "stderr",
          "text": [
            "\rTraining the model:  50%|████▉     | 498/1000 [01:42<01:37,  5.17epoch/s]"
          ]
        },
        {
          "output_type": "stream",
          "name": "stdout",
          "text": [
            "Epoch [498/1000], Loss: 0.0008, Test Loss: 0.0008\n"
          ]
        },
        {
          "output_type": "stream",
          "name": "stderr",
          "text": [
            "Training the model:  50%|█████     | 500/1000 [01:43<01:37,  5.11epoch/s]"
          ]
        },
        {
          "output_type": "stream",
          "name": "stdout",
          "text": [
            "Epoch [499/1000], Loss: 0.0008, Test Loss: 0.0008\n",
            "Epoch [500/1000], Loss: 0.0008, Test Loss: 0.0008\n"
          ]
        },
        {
          "output_type": "stream",
          "name": "stderr",
          "text": [
            "Training the model:  50%|█████     | 502/1000 [01:43<01:37,  5.13epoch/s]"
          ]
        },
        {
          "output_type": "stream",
          "name": "stdout",
          "text": [
            "Epoch [501/1000], Loss: 0.0008, Test Loss: 0.0008\n",
            "Epoch [502/1000], Loss: 0.0008, Test Loss: 0.0008\n"
          ]
        },
        {
          "output_type": "stream",
          "name": "stderr",
          "text": [
            "Training the model:  50%|█████     | 504/1000 [01:44<01:36,  5.14epoch/s]"
          ]
        },
        {
          "output_type": "stream",
          "name": "stdout",
          "text": [
            "Epoch [503/1000], Loss: 0.0008, Test Loss: 0.0008\n",
            "Epoch [504/1000], Loss: 0.0008, Test Loss: 0.0008\n"
          ]
        },
        {
          "output_type": "stream",
          "name": "stderr",
          "text": [
            "Training the model:  51%|█████     | 506/1000 [01:44<01:35,  5.16epoch/s]"
          ]
        },
        {
          "output_type": "stream",
          "name": "stdout",
          "text": [
            "Epoch [505/1000], Loss: 0.0008, Test Loss: 0.0008\n",
            "Epoch [506/1000], Loss: 0.0008, Test Loss: 0.0008\n"
          ]
        },
        {
          "output_type": "stream",
          "name": "stderr",
          "text": [
            "Training the model:  51%|█████     | 508/1000 [01:44<01:32,  5.30epoch/s]"
          ]
        },
        {
          "output_type": "stream",
          "name": "stdout",
          "text": [
            "Epoch [507/1000], Loss: 0.0008, Test Loss: 0.0008\n",
            "Epoch [508/1000], Loss: 0.0008, Test Loss: 0.0008\n"
          ]
        },
        {
          "output_type": "stream",
          "name": "stderr",
          "text": [
            "Training the model:  51%|█████     | 510/1000 [01:45<01:32,  5.31epoch/s]"
          ]
        },
        {
          "output_type": "stream",
          "name": "stdout",
          "text": [
            "Epoch [509/1000], Loss: 0.0008, Test Loss: 0.0008\n",
            "Epoch [510/1000], Loss: 0.0008, Test Loss: 0.0008\n"
          ]
        },
        {
          "output_type": "stream",
          "name": "stderr",
          "text": [
            "Training the model:  51%|█████     | 512/1000 [01:45<01:31,  5.32epoch/s]"
          ]
        },
        {
          "output_type": "stream",
          "name": "stdout",
          "text": [
            "Epoch [511/1000], Loss: 0.0008, Test Loss: 0.0008\n",
            "Epoch [512/1000], Loss: 0.0008, Test Loss: 0.0008\n"
          ]
        },
        {
          "output_type": "stream",
          "name": "stderr",
          "text": [
            "Training the model:  51%|█████▏    | 514/1000 [01:45<01:33,  5.22epoch/s]"
          ]
        },
        {
          "output_type": "stream",
          "name": "stdout",
          "text": [
            "Epoch [513/1000], Loss: 0.0008, Test Loss: 0.0008\n",
            "Epoch [514/1000], Loss: 0.0008, Test Loss: 0.0008\n"
          ]
        },
        {
          "output_type": "stream",
          "name": "stderr",
          "text": [
            "Training the model:  52%|█████▏    | 516/1000 [01:46<01:33,  5.19epoch/s]"
          ]
        },
        {
          "output_type": "stream",
          "name": "stdout",
          "text": [
            "Epoch [515/1000], Loss: 0.0008, Test Loss: 0.0007\n",
            "Epoch [516/1000], Loss: 0.0008, Test Loss: 0.0007\n"
          ]
        },
        {
          "output_type": "stream",
          "name": "stderr",
          "text": [
            "Training the model:  52%|█████▏    | 518/1000 [01:46<01:33,  5.15epoch/s]"
          ]
        },
        {
          "output_type": "stream",
          "name": "stdout",
          "text": [
            "Epoch [517/1000], Loss: 0.0008, Test Loss: 0.0007\n",
            "Epoch [518/1000], Loss: 0.0008, Test Loss: 0.0007\n"
          ]
        },
        {
          "output_type": "stream",
          "name": "stderr",
          "text": [
            "Training the model:  52%|█████▏    | 520/1000 [01:47<01:32,  5.20epoch/s]"
          ]
        },
        {
          "output_type": "stream",
          "name": "stdout",
          "text": [
            "Epoch [519/1000], Loss: 0.0008, Test Loss: 0.0007\n",
            "Epoch [520/1000], Loss: 0.0008, Test Loss: 0.0007\n"
          ]
        },
        {
          "output_type": "stream",
          "name": "stderr",
          "text": [
            "Training the model:  52%|█████▏    | 522/1000 [01:47<01:31,  5.20epoch/s]"
          ]
        },
        {
          "output_type": "stream",
          "name": "stdout",
          "text": [
            "Epoch [521/1000], Loss: 0.0008, Test Loss: 0.0007\n",
            "Epoch [522/1000], Loss: 0.0008, Test Loss: 0.0007\n"
          ]
        },
        {
          "output_type": "stream",
          "name": "stderr",
          "text": [
            "Training the model:  52%|█████▏    | 524/1000 [01:47<01:32,  5.17epoch/s]"
          ]
        },
        {
          "output_type": "stream",
          "name": "stdout",
          "text": [
            "Epoch [523/1000], Loss: 0.0008, Test Loss: 0.0007\n",
            "Epoch [524/1000], Loss: 0.0008, Test Loss: 0.0007\n"
          ]
        },
        {
          "output_type": "stream",
          "name": "stderr",
          "text": [
            "Training the model:  53%|█████▎    | 526/1000 [01:48<01:31,  5.15epoch/s]"
          ]
        },
        {
          "output_type": "stream",
          "name": "stdout",
          "text": [
            "Epoch [525/1000], Loss: 0.0008, Test Loss: 0.0007\n",
            "Epoch [526/1000], Loss: 0.0008, Test Loss: 0.0007\n"
          ]
        },
        {
          "output_type": "stream",
          "name": "stderr",
          "text": [
            "Training the model:  53%|█████▎    | 528/1000 [01:48<01:30,  5.21epoch/s]"
          ]
        },
        {
          "output_type": "stream",
          "name": "stdout",
          "text": [
            "Epoch [527/1000], Loss: 0.0008, Test Loss: 0.0007\n",
            "Epoch [528/1000], Loss: 0.0008, Test Loss: 0.0007\n"
          ]
        },
        {
          "output_type": "stream",
          "name": "stderr",
          "text": [
            "\rTraining the model:  53%|█████▎    | 529/1000 [01:48<01:35,  4.95epoch/s]"
          ]
        },
        {
          "output_type": "stream",
          "name": "stdout",
          "text": [
            "Epoch [529/1000], Loss: 0.0008, Test Loss: 0.0007\n"
          ]
        },
        {
          "output_type": "stream",
          "name": "stderr",
          "text": [
            "\rTraining the model:  53%|█████▎    | 530/1000 [01:49<01:50,  4.24epoch/s]"
          ]
        },
        {
          "output_type": "stream",
          "name": "stdout",
          "text": [
            "Epoch [530/1000], Loss: 0.0008, Test Loss: 0.0007\n"
          ]
        },
        {
          "output_type": "stream",
          "name": "stderr",
          "text": [
            "\rTraining the model:  53%|█████▎    | 531/1000 [01:49<01:57,  3.99epoch/s]"
          ]
        },
        {
          "output_type": "stream",
          "name": "stdout",
          "text": [
            "Epoch [531/1000], Loss: 0.0008, Test Loss: 0.0007\n"
          ]
        },
        {
          "output_type": "stream",
          "name": "stderr",
          "text": [
            "\rTraining the model:  53%|█████▎    | 532/1000 [01:49<02:00,  3.87epoch/s]"
          ]
        },
        {
          "output_type": "stream",
          "name": "stdout",
          "text": [
            "Epoch [532/1000], Loss: 0.0008, Test Loss: 0.0007\n"
          ]
        },
        {
          "output_type": "stream",
          "name": "stderr",
          "text": [
            "\rTraining the model:  53%|█████▎    | 533/1000 [01:50<02:04,  3.76epoch/s]"
          ]
        },
        {
          "output_type": "stream",
          "name": "stdout",
          "text": [
            "Epoch [533/1000], Loss: 0.0008, Test Loss: 0.0007\n"
          ]
        },
        {
          "output_type": "stream",
          "name": "stderr",
          "text": [
            "\rTraining the model:  53%|█████▎    | 534/1000 [01:50<02:05,  3.71epoch/s]"
          ]
        },
        {
          "output_type": "stream",
          "name": "stdout",
          "text": [
            "Epoch [534/1000], Loss: 0.0008, Test Loss: 0.0007\n"
          ]
        },
        {
          "output_type": "stream",
          "name": "stderr",
          "text": [
            "\rTraining the model:  54%|█████▎    | 535/1000 [01:50<02:05,  3.70epoch/s]"
          ]
        },
        {
          "output_type": "stream",
          "name": "stdout",
          "text": [
            "Epoch [535/1000], Loss: 0.0008, Test Loss: 0.0007\n"
          ]
        },
        {
          "output_type": "stream",
          "name": "stderr",
          "text": [
            "\rTraining the model:  54%|█████▎    | 536/1000 [01:50<02:05,  3.70epoch/s]"
          ]
        },
        {
          "output_type": "stream",
          "name": "stdout",
          "text": [
            "Epoch [536/1000], Loss: 0.0008, Test Loss: 0.0007\n"
          ]
        },
        {
          "output_type": "stream",
          "name": "stderr",
          "text": [
            "\rTraining the model:  54%|█████▎    | 537/1000 [01:51<02:10,  3.56epoch/s]"
          ]
        },
        {
          "output_type": "stream",
          "name": "stdout",
          "text": [
            "Epoch [537/1000], Loss: 0.0008, Test Loss: 0.0007\n"
          ]
        },
        {
          "output_type": "stream",
          "name": "stderr",
          "text": [
            "\rTraining the model:  54%|█████▍    | 538/1000 [01:51<02:07,  3.62epoch/s]"
          ]
        },
        {
          "output_type": "stream",
          "name": "stdout",
          "text": [
            "Epoch [538/1000], Loss: 0.0008, Test Loss: 0.0007\n"
          ]
        },
        {
          "output_type": "stream",
          "name": "stderr",
          "text": [
            "\rTraining the model:  54%|█████▍    | 539/1000 [01:51<02:03,  3.72epoch/s]"
          ]
        },
        {
          "output_type": "stream",
          "name": "stdout",
          "text": [
            "Epoch [539/1000], Loss: 0.0008, Test Loss: 0.0007\n"
          ]
        },
        {
          "output_type": "stream",
          "name": "stderr",
          "text": [
            "\rTraining the model:  54%|█████▍    | 540/1000 [01:51<02:01,  3.77epoch/s]"
          ]
        },
        {
          "output_type": "stream",
          "name": "stdout",
          "text": [
            "Epoch [540/1000], Loss: 0.0008, Test Loss: 0.0007\n"
          ]
        },
        {
          "output_type": "stream",
          "name": "stderr",
          "text": [
            "\rTraining the model:  54%|█████▍    | 541/1000 [01:52<02:00,  3.80epoch/s]"
          ]
        },
        {
          "output_type": "stream",
          "name": "stdout",
          "text": [
            "Epoch [541/1000], Loss: 0.0008, Test Loss: 0.0007\n"
          ]
        },
        {
          "output_type": "stream",
          "name": "stderr",
          "text": [
            "\rTraining the model:  54%|█████▍    | 542/1000 [01:52<02:03,  3.71epoch/s]"
          ]
        },
        {
          "output_type": "stream",
          "name": "stdout",
          "text": [
            "Epoch [542/1000], Loss: 0.0008, Test Loss: 0.0007\n"
          ]
        },
        {
          "output_type": "stream",
          "name": "stderr",
          "text": [
            "\rTraining the model:  54%|█████▍    | 543/1000 [01:52<02:04,  3.66epoch/s]"
          ]
        },
        {
          "output_type": "stream",
          "name": "stdout",
          "text": [
            "Epoch [543/1000], Loss: 0.0008, Test Loss: 0.0007\n"
          ]
        },
        {
          "output_type": "stream",
          "name": "stderr",
          "text": [
            "\rTraining the model:  54%|█████▍    | 544/1000 [01:53<02:05,  3.63epoch/s]"
          ]
        },
        {
          "output_type": "stream",
          "name": "stdout",
          "text": [
            "Epoch [544/1000], Loss: 0.0008, Test Loss: 0.0007\n"
          ]
        },
        {
          "output_type": "stream",
          "name": "stderr",
          "text": [
            "Training the model:  55%|█████▍    | 546/1000 [01:53<01:55,  3.92epoch/s]"
          ]
        },
        {
          "output_type": "stream",
          "name": "stdout",
          "text": [
            "Epoch [545/1000], Loss: 0.0008, Test Loss: 0.0007\n",
            "Epoch [546/1000], Loss: 0.0008, Test Loss: 0.0007\n"
          ]
        },
        {
          "output_type": "stream",
          "name": "stderr",
          "text": [
            "Training the model:  55%|█████▍    | 548/1000 [01:53<01:38,  4.57epoch/s]"
          ]
        },
        {
          "output_type": "stream",
          "name": "stdout",
          "text": [
            "Epoch [547/1000], Loss: 0.0008, Test Loss: 0.0007\n",
            "Epoch [548/1000], Loss: 0.0008, Test Loss: 0.0007\n"
          ]
        },
        {
          "output_type": "stream",
          "name": "stderr",
          "text": [
            "Training the model:  55%|█████▌    | 550/1000 [01:54<01:31,  4.94epoch/s]"
          ]
        },
        {
          "output_type": "stream",
          "name": "stdout",
          "text": [
            "Epoch [549/1000], Loss: 0.0008, Test Loss: 0.0007\n",
            "Epoch [550/1000], Loss: 0.0008, Test Loss: 0.0007\n"
          ]
        },
        {
          "output_type": "stream",
          "name": "stderr",
          "text": [
            "Training the model:  55%|█████▌    | 552/1000 [01:54<01:29,  5.00epoch/s]"
          ]
        },
        {
          "output_type": "stream",
          "name": "stdout",
          "text": [
            "Epoch [551/1000], Loss: 0.0008, Test Loss: 0.0007\n",
            "Epoch [552/1000], Loss: 0.0008, Test Loss: 0.0007\n"
          ]
        },
        {
          "output_type": "stream",
          "name": "stderr",
          "text": [
            "Training the model:  55%|█████▌    | 554/1000 [01:55<01:26,  5.18epoch/s]"
          ]
        },
        {
          "output_type": "stream",
          "name": "stdout",
          "text": [
            "Epoch [553/1000], Loss: 0.0008, Test Loss: 0.0007\n",
            "Epoch [554/1000], Loss: 0.0008, Test Loss: 0.0007\n"
          ]
        },
        {
          "output_type": "stream",
          "name": "stderr",
          "text": [
            "Training the model:  56%|█████▌    | 556/1000 [01:55<01:24,  5.26epoch/s]"
          ]
        },
        {
          "output_type": "stream",
          "name": "stdout",
          "text": [
            "Epoch [555/1000], Loss: 0.0007, Test Loss: 0.0007\n",
            "Epoch [556/1000], Loss: 0.0007, Test Loss: 0.0007\n"
          ]
        },
        {
          "output_type": "stream",
          "name": "stderr",
          "text": [
            "Training the model:  56%|█████▌    | 558/1000 [01:55<01:22,  5.36epoch/s]"
          ]
        },
        {
          "output_type": "stream",
          "name": "stdout",
          "text": [
            "Epoch [557/1000], Loss: 0.0007, Test Loss: 0.0007\n",
            "Epoch [558/1000], Loss: 0.0007, Test Loss: 0.0007\n"
          ]
        },
        {
          "output_type": "stream",
          "name": "stderr",
          "text": [
            "Training the model:  56%|█████▌    | 560/1000 [01:56<01:21,  5.41epoch/s]"
          ]
        },
        {
          "output_type": "stream",
          "name": "stdout",
          "text": [
            "Epoch [559/1000], Loss: 0.0007, Test Loss: 0.0007\n",
            "Epoch [560/1000], Loss: 0.0007, Test Loss: 0.0007\n"
          ]
        },
        {
          "output_type": "stream",
          "name": "stderr",
          "text": [
            "Training the model:  56%|█████▌    | 562/1000 [01:56<01:21,  5.38epoch/s]"
          ]
        },
        {
          "output_type": "stream",
          "name": "stdout",
          "text": [
            "Epoch [561/1000], Loss: 0.0007, Test Loss: 0.0007\n",
            "Epoch [562/1000], Loss: 0.0007, Test Loss: 0.0007\n"
          ]
        },
        {
          "output_type": "stream",
          "name": "stderr",
          "text": [
            "Training the model:  56%|█████▋    | 564/1000 [01:56<01:20,  5.42epoch/s]"
          ]
        },
        {
          "output_type": "stream",
          "name": "stdout",
          "text": [
            "Epoch [563/1000], Loss: 0.0007, Test Loss: 0.0007\n",
            "Epoch [564/1000], Loss: 0.0007, Test Loss: 0.0007\n"
          ]
        },
        {
          "output_type": "stream",
          "name": "stderr",
          "text": [
            "Training the model:  57%|█████▋    | 566/1000 [01:57<01:21,  5.31epoch/s]"
          ]
        },
        {
          "output_type": "stream",
          "name": "stdout",
          "text": [
            "Epoch [565/1000], Loss: 0.0007, Test Loss: 0.0007\n",
            "Epoch [566/1000], Loss: 0.0007, Test Loss: 0.0007\n"
          ]
        },
        {
          "output_type": "stream",
          "name": "stderr",
          "text": [
            "Training the model:  57%|█████▋    | 568/1000 [01:57<01:22,  5.26epoch/s]"
          ]
        },
        {
          "output_type": "stream",
          "name": "stdout",
          "text": [
            "Epoch [567/1000], Loss: 0.0007, Test Loss: 0.0007\n",
            "Epoch [568/1000], Loss: 0.0007, Test Loss: 0.0007\n"
          ]
        },
        {
          "output_type": "stream",
          "name": "stderr",
          "text": [
            "Training the model:  57%|█████▋    | 570/1000 [01:58<01:21,  5.26epoch/s]"
          ]
        },
        {
          "output_type": "stream",
          "name": "stdout",
          "text": [
            "Epoch [569/1000], Loss: 0.0007, Test Loss: 0.0007\n",
            "Epoch [570/1000], Loss: 0.0007, Test Loss: 0.0007\n"
          ]
        },
        {
          "output_type": "stream",
          "name": "stderr",
          "text": [
            "Training the model:  57%|█████▋    | 572/1000 [01:58<01:23,  5.15epoch/s]"
          ]
        },
        {
          "output_type": "stream",
          "name": "stdout",
          "text": [
            "Epoch [571/1000], Loss: 0.0007, Test Loss: 0.0007\n",
            "Epoch [572/1000], Loss: 0.0007, Test Loss: 0.0007\n"
          ]
        },
        {
          "output_type": "stream",
          "name": "stderr",
          "text": [
            "Training the model:  57%|█████▋    | 574/1000 [01:58<01:22,  5.17epoch/s]"
          ]
        },
        {
          "output_type": "stream",
          "name": "stdout",
          "text": [
            "Epoch [573/1000], Loss: 0.0007, Test Loss: 0.0007\n",
            "Epoch [574/1000], Loss: 0.0007, Test Loss: 0.0007\n"
          ]
        },
        {
          "output_type": "stream",
          "name": "stderr",
          "text": [
            "Training the model:  58%|█████▊    | 576/1000 [01:59<01:19,  5.34epoch/s]"
          ]
        },
        {
          "output_type": "stream",
          "name": "stdout",
          "text": [
            "Epoch [575/1000], Loss: 0.0007, Test Loss: 0.0007\n",
            "Epoch [576/1000], Loss: 0.0007, Test Loss: 0.0007\n"
          ]
        },
        {
          "output_type": "stream",
          "name": "stderr",
          "text": [
            "Training the model:  58%|█████▊    | 578/1000 [01:59<01:18,  5.36epoch/s]"
          ]
        },
        {
          "output_type": "stream",
          "name": "stdout",
          "text": [
            "Epoch [577/1000], Loss: 0.0007, Test Loss: 0.0007\n",
            "Epoch [578/1000], Loss: 0.0007, Test Loss: 0.0007\n"
          ]
        },
        {
          "output_type": "stream",
          "name": "stderr",
          "text": [
            "Training the model:  58%|█████▊    | 580/1000 [01:59<01:17,  5.40epoch/s]"
          ]
        },
        {
          "output_type": "stream",
          "name": "stdout",
          "text": [
            "Epoch [579/1000], Loss: 0.0007, Test Loss: 0.0007\n",
            "Epoch [580/1000], Loss: 0.0007, Test Loss: 0.0007\n"
          ]
        },
        {
          "output_type": "stream",
          "name": "stderr",
          "text": [
            "Training the model:  58%|█████▊    | 582/1000 [02:00<01:17,  5.40epoch/s]"
          ]
        },
        {
          "output_type": "stream",
          "name": "stdout",
          "text": [
            "Epoch [581/1000], Loss: 0.0007, Test Loss: 0.0007\n",
            "Epoch [582/1000], Loss: 0.0007, Test Loss: 0.0007\n"
          ]
        },
        {
          "output_type": "stream",
          "name": "stderr",
          "text": [
            "Training the model:  58%|█████▊    | 584/1000 [02:00<01:19,  5.26epoch/s]"
          ]
        },
        {
          "output_type": "stream",
          "name": "stdout",
          "text": [
            "Epoch [583/1000], Loss: 0.0007, Test Loss: 0.0007\n",
            "Epoch [584/1000], Loss: 0.0007, Test Loss: 0.0007\n"
          ]
        },
        {
          "output_type": "stream",
          "name": "stderr",
          "text": [
            "\rTraining the model:  58%|█████▊    | 585/1000 [02:00<01:20,  5.14epoch/s]"
          ]
        },
        {
          "output_type": "stream",
          "name": "stdout",
          "text": [
            "Epoch [585/1000], Loss: 0.0007, Test Loss: 0.0007\n"
          ]
        },
        {
          "output_type": "stream",
          "name": "stderr",
          "text": [
            "Training the model:  59%|█████▊    | 587/1000 [02:01<01:20,  5.14epoch/s]"
          ]
        },
        {
          "output_type": "stream",
          "name": "stdout",
          "text": [
            "Epoch [586/1000], Loss: 0.0007, Test Loss: 0.0007\n",
            "Epoch [587/1000], Loss: 0.0007, Test Loss: 0.0007\n"
          ]
        },
        {
          "output_type": "stream",
          "name": "stderr",
          "text": [
            "Training the model:  59%|█████▉    | 589/1000 [02:01<01:19,  5.17epoch/s]"
          ]
        },
        {
          "output_type": "stream",
          "name": "stdout",
          "text": [
            "Epoch [588/1000], Loss: 0.0007, Test Loss: 0.0007\n",
            "Epoch [589/1000], Loss: 0.0007, Test Loss: 0.0007\n"
          ]
        },
        {
          "output_type": "stream",
          "name": "stderr",
          "text": [
            "Training the model:  59%|█████▉    | 591/1000 [02:02<01:17,  5.29epoch/s]"
          ]
        },
        {
          "output_type": "stream",
          "name": "stdout",
          "text": [
            "Epoch [590/1000], Loss: 0.0007, Test Loss: 0.0007\n",
            "Epoch [591/1000], Loss: 0.0007, Test Loss: 0.0007\n"
          ]
        },
        {
          "output_type": "stream",
          "name": "stderr",
          "text": [
            "Training the model:  59%|█████▉    | 593/1000 [02:02<01:17,  5.26epoch/s]"
          ]
        },
        {
          "output_type": "stream",
          "name": "stdout",
          "text": [
            "Epoch [592/1000], Loss: 0.0007, Test Loss: 0.0007\n",
            "Epoch [593/1000], Loss: 0.0007, Test Loss: 0.0007\n"
          ]
        },
        {
          "output_type": "stream",
          "name": "stderr",
          "text": [
            "Training the model:  60%|█████▉    | 595/1000 [02:02<01:18,  5.16epoch/s]"
          ]
        },
        {
          "output_type": "stream",
          "name": "stdout",
          "text": [
            "Epoch [594/1000], Loss: 0.0007, Test Loss: 0.0007\n",
            "Epoch [595/1000], Loss: 0.0007, Test Loss: 0.0007\n"
          ]
        },
        {
          "output_type": "stream",
          "name": "stderr",
          "text": [
            "Training the model:  60%|█████▉    | 597/1000 [02:03<01:18,  5.13epoch/s]"
          ]
        },
        {
          "output_type": "stream",
          "name": "stdout",
          "text": [
            "Epoch [596/1000], Loss: 0.0007, Test Loss: 0.0007\n",
            "Epoch [597/1000], Loss: 0.0007, Test Loss: 0.0007\n"
          ]
        },
        {
          "output_type": "stream",
          "name": "stderr",
          "text": [
            "\rTraining the model:  60%|█████▉    | 598/1000 [02:03<01:21,  4.92epoch/s]"
          ]
        },
        {
          "output_type": "stream",
          "name": "stdout",
          "text": [
            "Epoch [598/1000], Loss: 0.0007, Test Loss: 0.0007\n"
          ]
        },
        {
          "output_type": "stream",
          "name": "stderr",
          "text": [
            "\rTraining the model:  60%|█████▉    | 599/1000 [02:03<01:28,  4.53epoch/s]"
          ]
        },
        {
          "output_type": "stream",
          "name": "stdout",
          "text": [
            "Epoch [599/1000], Loss: 0.0007, Test Loss: 0.0007\n"
          ]
        },
        {
          "output_type": "stream",
          "name": "stderr",
          "text": [
            "\rTraining the model:  60%|██████    | 600/1000 [02:03<01:32,  4.32epoch/s]"
          ]
        },
        {
          "output_type": "stream",
          "name": "stdout",
          "text": [
            "Epoch [600/1000], Loss: 0.0007, Test Loss: 0.0007\n"
          ]
        },
        {
          "output_type": "stream",
          "name": "stderr",
          "text": [
            "\rTraining the model:  60%|██████    | 601/1000 [02:04<01:34,  4.21epoch/s]"
          ]
        },
        {
          "output_type": "stream",
          "name": "stdout",
          "text": [
            "Epoch [601/1000], Loss: 0.0007, Test Loss: 0.0007\n"
          ]
        },
        {
          "output_type": "stream",
          "name": "stderr",
          "text": [
            "\rTraining the model:  60%|██████    | 602/1000 [02:04<01:37,  4.08epoch/s]"
          ]
        },
        {
          "output_type": "stream",
          "name": "stdout",
          "text": [
            "Epoch [602/1000], Loss: 0.0007, Test Loss: 0.0007\n"
          ]
        },
        {
          "output_type": "stream",
          "name": "stderr",
          "text": [
            "\rTraining the model:  60%|██████    | 603/1000 [02:04<01:38,  4.04epoch/s]"
          ]
        },
        {
          "output_type": "stream",
          "name": "stdout",
          "text": [
            "Epoch [603/1000], Loss: 0.0007, Test Loss: 0.0007\n"
          ]
        },
        {
          "output_type": "stream",
          "name": "stderr",
          "text": [
            "\rTraining the model:  60%|██████    | 604/1000 [02:05<01:38,  4.00epoch/s]"
          ]
        },
        {
          "output_type": "stream",
          "name": "stdout",
          "text": [
            "Epoch [604/1000], Loss: 0.0007, Test Loss: 0.0007\n"
          ]
        },
        {
          "output_type": "stream",
          "name": "stderr",
          "text": [
            "\rTraining the model:  60%|██████    | 605/1000 [02:05<01:39,  3.98epoch/s]"
          ]
        },
        {
          "output_type": "stream",
          "name": "stdout",
          "text": [
            "Epoch [605/1000], Loss: 0.0007, Test Loss: 0.0007\n"
          ]
        },
        {
          "output_type": "stream",
          "name": "stderr",
          "text": [
            "\rTraining the model:  61%|██████    | 606/1000 [02:05<01:40,  3.91epoch/s]"
          ]
        },
        {
          "output_type": "stream",
          "name": "stdout",
          "text": [
            "Epoch [606/1000], Loss: 0.0007, Test Loss: 0.0007\n"
          ]
        },
        {
          "output_type": "stream",
          "name": "stderr",
          "text": [
            "Training the model:  61%|██████    | 608/1000 [02:05<01:29,  4.38epoch/s]"
          ]
        },
        {
          "output_type": "stream",
          "name": "stdout",
          "text": [
            "Epoch [607/1000], Loss: 0.0007, Test Loss: 0.0007\n",
            "Epoch [608/1000], Loss: 0.0007, Test Loss: 0.0007\n"
          ]
        },
        {
          "output_type": "stream",
          "name": "stderr",
          "text": [
            "Training the model:  61%|██████    | 610/1000 [02:06<01:19,  4.89epoch/s]"
          ]
        },
        {
          "output_type": "stream",
          "name": "stdout",
          "text": [
            "Epoch [609/1000], Loss: 0.0007, Test Loss: 0.0007\n",
            "Epoch [610/1000], Loss: 0.0007, Test Loss: 0.0007\n"
          ]
        },
        {
          "output_type": "stream",
          "name": "stderr",
          "text": [
            "Training the model:  61%|██████    | 612/1000 [02:06<01:15,  5.11epoch/s]"
          ]
        },
        {
          "output_type": "stream",
          "name": "stdout",
          "text": [
            "Epoch [611/1000], Loss: 0.0007, Test Loss: 0.0007\n",
            "Epoch [612/1000], Loss: 0.0007, Test Loss: 0.0007\n"
          ]
        },
        {
          "output_type": "stream",
          "name": "stderr",
          "text": [
            "Training the model:  61%|██████▏   | 614/1000 [02:07<01:15,  5.08epoch/s]"
          ]
        },
        {
          "output_type": "stream",
          "name": "stdout",
          "text": [
            "Epoch [613/1000], Loss: 0.0007, Test Loss: 0.0007\n",
            "Epoch [614/1000], Loss: 0.0007, Test Loss: 0.0007\n"
          ]
        },
        {
          "output_type": "stream",
          "name": "stderr",
          "text": [
            "Training the model:  62%|██████▏   | 616/1000 [02:07<01:12,  5.29epoch/s]"
          ]
        },
        {
          "output_type": "stream",
          "name": "stdout",
          "text": [
            "Epoch [615/1000], Loss: 0.0007, Test Loss: 0.0007\n",
            "Epoch [616/1000], Loss: 0.0007, Test Loss: 0.0007\n"
          ]
        },
        {
          "output_type": "stream",
          "name": "stderr",
          "text": [
            "Training the model:  62%|██████▏   | 618/1000 [02:07<01:11,  5.31epoch/s]"
          ]
        },
        {
          "output_type": "stream",
          "name": "stdout",
          "text": [
            "Epoch [617/1000], Loss: 0.0007, Test Loss: 0.0007\n",
            "Epoch [618/1000], Loss: 0.0007, Test Loss: 0.0007\n"
          ]
        },
        {
          "output_type": "stream",
          "name": "stderr",
          "text": [
            "Training the model:  62%|██████▏   | 620/1000 [02:08<01:12,  5.27epoch/s]"
          ]
        },
        {
          "output_type": "stream",
          "name": "stdout",
          "text": [
            "Epoch [619/1000], Loss: 0.0007, Test Loss: 0.0007\n",
            "Epoch [620/1000], Loss: 0.0007, Test Loss: 0.0007\n"
          ]
        },
        {
          "output_type": "stream",
          "name": "stderr",
          "text": [
            "Training the model:  62%|██████▏   | 622/1000 [02:08<01:10,  5.32epoch/s]"
          ]
        },
        {
          "output_type": "stream",
          "name": "stdout",
          "text": [
            "Epoch [621/1000], Loss: 0.0007, Test Loss: 0.0007\n",
            "Epoch [622/1000], Loss: 0.0007, Test Loss: 0.0007\n"
          ]
        },
        {
          "output_type": "stream",
          "name": "stderr",
          "text": [
            "Training the model:  62%|██████▏   | 624/1000 [02:08<01:10,  5.35epoch/s]"
          ]
        },
        {
          "output_type": "stream",
          "name": "stdout",
          "text": [
            "Epoch [623/1000], Loss: 0.0007, Test Loss: 0.0007\n",
            "Epoch [624/1000], Loss: 0.0007, Test Loss: 0.0007\n"
          ]
        },
        {
          "output_type": "stream",
          "name": "stderr",
          "text": [
            "Training the model:  63%|██████▎   | 626/1000 [02:09<01:09,  5.41epoch/s]"
          ]
        },
        {
          "output_type": "stream",
          "name": "stdout",
          "text": [
            "Epoch [625/1000], Loss: 0.0007, Test Loss: 0.0007\n",
            "Epoch [626/1000], Loss: 0.0007, Test Loss: 0.0007\n"
          ]
        },
        {
          "output_type": "stream",
          "name": "stderr",
          "text": [
            "Training the model:  63%|██████▎   | 628/1000 [02:09<01:08,  5.45epoch/s]"
          ]
        },
        {
          "output_type": "stream",
          "name": "stdout",
          "text": [
            "Epoch [627/1000], Loss: 0.0007, Test Loss: 0.0007\n",
            "Epoch [628/1000], Loss: 0.0007, Test Loss: 0.0007\n"
          ]
        },
        {
          "output_type": "stream",
          "name": "stderr",
          "text": [
            "Training the model:  63%|██████▎   | 630/1000 [02:10<01:10,  5.27epoch/s]"
          ]
        },
        {
          "output_type": "stream",
          "name": "stdout",
          "text": [
            "Epoch [629/1000], Loss: 0.0007, Test Loss: 0.0007\n",
            "Epoch [630/1000], Loss: 0.0007, Test Loss: 0.0007\n"
          ]
        },
        {
          "output_type": "stream",
          "name": "stderr",
          "text": [
            "Training the model:  63%|██████▎   | 632/1000 [02:10<01:09,  5.33epoch/s]"
          ]
        },
        {
          "output_type": "stream",
          "name": "stdout",
          "text": [
            "Epoch [631/1000], Loss: 0.0007, Test Loss: 0.0007\n",
            "Epoch [632/1000], Loss: 0.0007, Test Loss: 0.0007\n"
          ]
        },
        {
          "output_type": "stream",
          "name": "stderr",
          "text": [
            "Training the model:  63%|██████▎   | 634/1000 [02:10<01:08,  5.31epoch/s]"
          ]
        },
        {
          "output_type": "stream",
          "name": "stdout",
          "text": [
            "Epoch [633/1000], Loss: 0.0007, Test Loss: 0.0007\n",
            "Epoch [634/1000], Loss: 0.0007, Test Loss: 0.0007\n"
          ]
        },
        {
          "output_type": "stream",
          "name": "stderr",
          "text": [
            "Training the model:  64%|██████▎   | 636/1000 [02:11<01:07,  5.38epoch/s]"
          ]
        },
        {
          "output_type": "stream",
          "name": "stdout",
          "text": [
            "Epoch [635/1000], Loss: 0.0007, Test Loss: 0.0007\n",
            "Epoch [636/1000], Loss: 0.0007, Test Loss: 0.0007\n"
          ]
        },
        {
          "output_type": "stream",
          "name": "stderr",
          "text": [
            "Training the model:  64%|██████▍   | 638/1000 [02:11<01:08,  5.31epoch/s]"
          ]
        },
        {
          "output_type": "stream",
          "name": "stdout",
          "text": [
            "Epoch [637/1000], Loss: 0.0007, Test Loss: 0.0007\n",
            "Epoch [638/1000], Loss: 0.0007, Test Loss: 0.0007\n"
          ]
        },
        {
          "output_type": "stream",
          "name": "stderr",
          "text": [
            "Training the model:  64%|██████▍   | 640/1000 [02:11<01:08,  5.26epoch/s]"
          ]
        },
        {
          "output_type": "stream",
          "name": "stdout",
          "text": [
            "Epoch [639/1000], Loss: 0.0007, Test Loss: 0.0007\n",
            "Epoch [640/1000], Loss: 0.0007, Test Loss: 0.0007\n"
          ]
        },
        {
          "output_type": "stream",
          "name": "stderr",
          "text": [
            "Training the model:  64%|██████▍   | 642/1000 [02:12<01:07,  5.34epoch/s]"
          ]
        },
        {
          "output_type": "stream",
          "name": "stdout",
          "text": [
            "Epoch [641/1000], Loss: 0.0007, Test Loss: 0.0007\n",
            "Epoch [642/1000], Loss: 0.0007, Test Loss: 0.0007\n"
          ]
        },
        {
          "output_type": "stream",
          "name": "stderr",
          "text": [
            "Training the model:  64%|██████▍   | 644/1000 [02:12<01:06,  5.31epoch/s]"
          ]
        },
        {
          "output_type": "stream",
          "name": "stdout",
          "text": [
            "Epoch [643/1000], Loss: 0.0007, Test Loss: 0.0007\n",
            "Epoch [644/1000], Loss: 0.0007, Test Loss: 0.0007\n"
          ]
        },
        {
          "output_type": "stream",
          "name": "stderr",
          "text": [
            "Training the model:  65%|██████▍   | 646/1000 [02:13<01:08,  5.18epoch/s]"
          ]
        },
        {
          "output_type": "stream",
          "name": "stdout",
          "text": [
            "Epoch [645/1000], Loss: 0.0007, Test Loss: 0.0007\n",
            "Epoch [646/1000], Loss: 0.0007, Test Loss: 0.0007\n"
          ]
        },
        {
          "output_type": "stream",
          "name": "stderr",
          "text": [
            "Training the model:  65%|██████▍   | 648/1000 [02:13<01:07,  5.25epoch/s]"
          ]
        },
        {
          "output_type": "stream",
          "name": "stdout",
          "text": [
            "Epoch [647/1000], Loss: 0.0007, Test Loss: 0.0007\n",
            "Epoch [648/1000], Loss: 0.0007, Test Loss: 0.0006\n"
          ]
        },
        {
          "output_type": "stream",
          "name": "stderr",
          "text": [
            "Training the model:  65%|██████▌   | 650/1000 [02:13<01:05,  5.35epoch/s]"
          ]
        },
        {
          "output_type": "stream",
          "name": "stdout",
          "text": [
            "Epoch [649/1000], Loss: 0.0007, Test Loss: 0.0006\n",
            "Epoch [650/1000], Loss: 0.0007, Test Loss: 0.0006\n"
          ]
        },
        {
          "output_type": "stream",
          "name": "stderr",
          "text": [
            "Training the model:  65%|██████▌   | 652/1000 [02:14<01:03,  5.44epoch/s]"
          ]
        },
        {
          "output_type": "stream",
          "name": "stdout",
          "text": [
            "Epoch [651/1000], Loss: 0.0007, Test Loss: 0.0006\n",
            "Epoch [652/1000], Loss: 0.0007, Test Loss: 0.0006\n"
          ]
        },
        {
          "output_type": "stream",
          "name": "stderr",
          "text": [
            "Training the model:  65%|██████▌   | 654/1000 [02:14<01:03,  5.43epoch/s]"
          ]
        },
        {
          "output_type": "stream",
          "name": "stdout",
          "text": [
            "Epoch [653/1000], Loss: 0.0007, Test Loss: 0.0006\n",
            "Epoch [654/1000], Loss: 0.0007, Test Loss: 0.0006\n"
          ]
        },
        {
          "output_type": "stream",
          "name": "stderr",
          "text": [
            "Training the model:  66%|██████▌   | 656/1000 [02:14<01:04,  5.31epoch/s]"
          ]
        },
        {
          "output_type": "stream",
          "name": "stdout",
          "text": [
            "Epoch [655/1000], Loss: 0.0007, Test Loss: 0.0006\n",
            "Epoch [656/1000], Loss: 0.0007, Test Loss: 0.0006\n"
          ]
        },
        {
          "output_type": "stream",
          "name": "stderr",
          "text": [
            "Training the model:  66%|██████▌   | 658/1000 [02:15<01:04,  5.34epoch/s]"
          ]
        },
        {
          "output_type": "stream",
          "name": "stdout",
          "text": [
            "Epoch [657/1000], Loss: 0.0007, Test Loss: 0.0006\n",
            "Epoch [658/1000], Loss: 0.0007, Test Loss: 0.0006\n"
          ]
        },
        {
          "output_type": "stream",
          "name": "stderr",
          "text": [
            "\rTraining the model:  66%|██████▌   | 659/1000 [02:15<01:03,  5.37epoch/s]"
          ]
        },
        {
          "output_type": "stream",
          "name": "stdout",
          "text": [
            "Epoch [659/1000], Loss: 0.0007, Test Loss: 0.0006\n"
          ]
        },
        {
          "output_type": "stream",
          "name": "stderr",
          "text": [
            "\rTraining the model:  66%|██████▌   | 660/1000 [02:15<01:10,  4.82epoch/s]"
          ]
        },
        {
          "output_type": "stream",
          "name": "stdout",
          "text": [
            "Epoch [660/1000], Loss: 0.0007, Test Loss: 0.0006\n"
          ]
        },
        {
          "output_type": "stream",
          "name": "stderr",
          "text": [
            "\rTraining the model:  66%|██████▌   | 661/1000 [02:16<01:15,  4.46epoch/s]"
          ]
        },
        {
          "output_type": "stream",
          "name": "stdout",
          "text": [
            "Epoch [661/1000], Loss: 0.0007, Test Loss: 0.0006\n"
          ]
        },
        {
          "output_type": "stream",
          "name": "stderr",
          "text": [
            "\rTraining the model:  66%|██████▌   | 662/1000 [02:16<01:18,  4.30epoch/s]"
          ]
        },
        {
          "output_type": "stream",
          "name": "stdout",
          "text": [
            "Epoch [662/1000], Loss: 0.0007, Test Loss: 0.0006\n"
          ]
        },
        {
          "output_type": "stream",
          "name": "stderr",
          "text": [
            "\rTraining the model:  66%|██████▋   | 663/1000 [02:16<01:21,  4.16epoch/s]"
          ]
        },
        {
          "output_type": "stream",
          "name": "stdout",
          "text": [
            "Epoch [663/1000], Loss: 0.0007, Test Loss: 0.0006\n"
          ]
        },
        {
          "output_type": "stream",
          "name": "stderr",
          "text": [
            "\rTraining the model:  66%|██████▋   | 664/1000 [02:16<01:23,  4.03epoch/s]"
          ]
        },
        {
          "output_type": "stream",
          "name": "stdout",
          "text": [
            "Epoch [664/1000], Loss: 0.0007, Test Loss: 0.0006\n"
          ]
        },
        {
          "output_type": "stream",
          "name": "stderr",
          "text": [
            "\rTraining the model:  66%|██████▋   | 665/1000 [02:17<01:25,  3.91epoch/s]"
          ]
        },
        {
          "output_type": "stream",
          "name": "stdout",
          "text": [
            "Epoch [665/1000], Loss: 0.0007, Test Loss: 0.0006\n"
          ]
        },
        {
          "output_type": "stream",
          "name": "stderr",
          "text": [
            "\rTraining the model:  67%|██████▋   | 666/1000 [02:17<01:29,  3.73epoch/s]"
          ]
        },
        {
          "output_type": "stream",
          "name": "stdout",
          "text": [
            "Epoch [666/1000], Loss: 0.0007, Test Loss: 0.0006\n"
          ]
        },
        {
          "output_type": "stream",
          "name": "stderr",
          "text": [
            "\rTraining the model:  67%|██████▋   | 667/1000 [02:17<01:29,  3.71epoch/s]"
          ]
        },
        {
          "output_type": "stream",
          "name": "stdout",
          "text": [
            "Epoch [667/1000], Loss: 0.0007, Test Loss: 0.0006\n"
          ]
        },
        {
          "output_type": "stream",
          "name": "stderr",
          "text": [
            "Training the model:  67%|██████▋   | 669/1000 [02:18<01:22,  4.02epoch/s]"
          ]
        },
        {
          "output_type": "stream",
          "name": "stdout",
          "text": [
            "Epoch [668/1000], Loss: 0.0007, Test Loss: 0.0006\n",
            "Epoch [669/1000], Loss: 0.0007, Test Loss: 0.0006\n"
          ]
        },
        {
          "output_type": "stream",
          "name": "stderr",
          "text": [
            "Training the model:  67%|██████▋   | 671/1000 [02:18<01:11,  4.61epoch/s]"
          ]
        },
        {
          "output_type": "stream",
          "name": "stdout",
          "text": [
            "Epoch [670/1000], Loss: 0.0007, Test Loss: 0.0006\n",
            "Epoch [671/1000], Loss: 0.0007, Test Loss: 0.0006\n"
          ]
        },
        {
          "output_type": "stream",
          "name": "stderr",
          "text": [
            "Training the model:  67%|██████▋   | 673/1000 [02:18<01:06,  4.90epoch/s]"
          ]
        },
        {
          "output_type": "stream",
          "name": "stdout",
          "text": [
            "Epoch [672/1000], Loss: 0.0007, Test Loss: 0.0006\n",
            "Epoch [673/1000], Loss: 0.0007, Test Loss: 0.0006\n"
          ]
        },
        {
          "output_type": "stream",
          "name": "stderr",
          "text": [
            "Training the model:  68%|██████▊   | 675/1000 [02:19<01:12,  4.46epoch/s]"
          ]
        },
        {
          "output_type": "stream",
          "name": "stdout",
          "text": [
            "Epoch [674/1000], Loss: 0.0006, Test Loss: 0.0006\n",
            "Epoch [675/1000], Loss: 0.0006, Test Loss: 0.0006\n"
          ]
        },
        {
          "output_type": "stream",
          "name": "stderr",
          "text": [
            "Training the model:  68%|██████▊   | 677/1000 [02:19<01:06,  4.82epoch/s]"
          ]
        },
        {
          "output_type": "stream",
          "name": "stdout",
          "text": [
            "Epoch [676/1000], Loss: 0.0006, Test Loss: 0.0006\n",
            "Epoch [677/1000], Loss: 0.0006, Test Loss: 0.0006\n"
          ]
        },
        {
          "output_type": "stream",
          "name": "stderr",
          "text": [
            "Training the model:  68%|██████▊   | 679/1000 [02:20<01:05,  4.94epoch/s]"
          ]
        },
        {
          "output_type": "stream",
          "name": "stdout",
          "text": [
            "Epoch [678/1000], Loss: 0.0006, Test Loss: 0.0006\n",
            "Epoch [679/1000], Loss: 0.0006, Test Loss: 0.0006\n"
          ]
        },
        {
          "output_type": "stream",
          "name": "stderr",
          "text": [
            "Training the model:  68%|██████▊   | 681/1000 [02:20<01:03,  5.02epoch/s]"
          ]
        },
        {
          "output_type": "stream",
          "name": "stdout",
          "text": [
            "Epoch [680/1000], Loss: 0.0006, Test Loss: 0.0006\n",
            "Epoch [681/1000], Loss: 0.0006, Test Loss: 0.0006\n"
          ]
        },
        {
          "output_type": "stream",
          "name": "stderr",
          "text": [
            "Training the model:  68%|██████▊   | 683/1000 [02:20<01:01,  5.15epoch/s]"
          ]
        },
        {
          "output_type": "stream",
          "name": "stdout",
          "text": [
            "Epoch [682/1000], Loss: 0.0006, Test Loss: 0.0006\n",
            "Epoch [683/1000], Loss: 0.0006, Test Loss: 0.0006\n"
          ]
        },
        {
          "output_type": "stream",
          "name": "stderr",
          "text": [
            "Training the model:  68%|██████▊   | 685/1000 [02:21<01:02,  5.05epoch/s]"
          ]
        },
        {
          "output_type": "stream",
          "name": "stdout",
          "text": [
            "Epoch [684/1000], Loss: 0.0006, Test Loss: 0.0006\n",
            "Epoch [685/1000], Loss: 0.0006, Test Loss: 0.0006\n"
          ]
        },
        {
          "output_type": "stream",
          "name": "stderr",
          "text": [
            "Training the model:  69%|██████▊   | 687/1000 [02:21<01:00,  5.16epoch/s]"
          ]
        },
        {
          "output_type": "stream",
          "name": "stdout",
          "text": [
            "Epoch [686/1000], Loss: 0.0006, Test Loss: 0.0006\n",
            "Epoch [687/1000], Loss: 0.0006, Test Loss: 0.0006\n"
          ]
        },
        {
          "output_type": "stream",
          "name": "stderr",
          "text": [
            "Training the model:  69%|██████▉   | 689/1000 [02:22<01:00,  5.13epoch/s]"
          ]
        },
        {
          "output_type": "stream",
          "name": "stdout",
          "text": [
            "Epoch [688/1000], Loss: 0.0006, Test Loss: 0.0006\n",
            "Epoch [689/1000], Loss: 0.0006, Test Loss: 0.0006\n"
          ]
        },
        {
          "output_type": "stream",
          "name": "stderr",
          "text": [
            "Training the model:  69%|██████▉   | 691/1000 [02:22<00:58,  5.24epoch/s]"
          ]
        },
        {
          "output_type": "stream",
          "name": "stdout",
          "text": [
            "Epoch [690/1000], Loss: 0.0006, Test Loss: 0.0006\n",
            "Epoch [691/1000], Loss: 0.0006, Test Loss: 0.0006\n"
          ]
        },
        {
          "output_type": "stream",
          "name": "stderr",
          "text": [
            "Training the model:  69%|██████▉   | 693/1000 [02:22<00:57,  5.30epoch/s]"
          ]
        },
        {
          "output_type": "stream",
          "name": "stdout",
          "text": [
            "Epoch [692/1000], Loss: 0.0006, Test Loss: 0.0006\n",
            "Epoch [693/1000], Loss: 0.0006, Test Loss: 0.0006\n"
          ]
        },
        {
          "output_type": "stream",
          "name": "stderr",
          "text": [
            "Training the model:  70%|██████▉   | 695/1000 [02:23<00:59,  5.17epoch/s]"
          ]
        },
        {
          "output_type": "stream",
          "name": "stdout",
          "text": [
            "Epoch [694/1000], Loss: 0.0006, Test Loss: 0.0006\n",
            "Epoch [695/1000], Loss: 0.0006, Test Loss: 0.0006\n"
          ]
        },
        {
          "output_type": "stream",
          "name": "stderr",
          "text": [
            "Training the model:  70%|██████▉   | 697/1000 [02:23<00:56,  5.32epoch/s]"
          ]
        },
        {
          "output_type": "stream",
          "name": "stdout",
          "text": [
            "Epoch [696/1000], Loss: 0.0006, Test Loss: 0.0006\n",
            "Epoch [697/1000], Loss: 0.0006, Test Loss: 0.0006\n"
          ]
        },
        {
          "output_type": "stream",
          "name": "stderr",
          "text": [
            "Training the model:  70%|██████▉   | 699/1000 [02:24<00:56,  5.32epoch/s]"
          ]
        },
        {
          "output_type": "stream",
          "name": "stdout",
          "text": [
            "Epoch [698/1000], Loss: 0.0006, Test Loss: 0.0006\n",
            "Epoch [699/1000], Loss: 0.0006, Test Loss: 0.0006\n"
          ]
        },
        {
          "output_type": "stream",
          "name": "stderr",
          "text": [
            "Training the model:  70%|███████   | 701/1000 [02:24<00:55,  5.35epoch/s]"
          ]
        },
        {
          "output_type": "stream",
          "name": "stdout",
          "text": [
            "Epoch [700/1000], Loss: 0.0006, Test Loss: 0.0006\n",
            "Epoch [701/1000], Loss: 0.0006, Test Loss: 0.0006\n"
          ]
        },
        {
          "output_type": "stream",
          "name": "stderr",
          "text": [
            "Training the model:  70%|███████   | 703/1000 [02:24<00:55,  5.34epoch/s]"
          ]
        },
        {
          "output_type": "stream",
          "name": "stdout",
          "text": [
            "Epoch [702/1000], Loss: 0.0006, Test Loss: 0.0006\n",
            "Epoch [703/1000], Loss: 0.0006, Test Loss: 0.0006\n"
          ]
        },
        {
          "output_type": "stream",
          "name": "stderr",
          "text": [
            "\rTraining the model:  70%|███████   | 704/1000 [02:24<00:55,  5.30epoch/s]"
          ]
        },
        {
          "output_type": "stream",
          "name": "stdout",
          "text": [
            "Epoch [704/1000], Loss: 0.0006, Test Loss: 0.0006\n"
          ]
        },
        {
          "output_type": "stream",
          "name": "stderr",
          "text": [
            "\rTraining the model:  70%|███████   | 705/1000 [02:25<00:57,  5.11epoch/s]"
          ]
        },
        {
          "output_type": "stream",
          "name": "stdout",
          "text": [
            "Epoch [705/1000], Loss: 0.0006, Test Loss: 0.0006\n"
          ]
        },
        {
          "output_type": "stream",
          "name": "stderr",
          "text": [
            "Training the model:  71%|███████   | 707/1000 [02:25<00:57,  5.10epoch/s]"
          ]
        },
        {
          "output_type": "stream",
          "name": "stdout",
          "text": [
            "Epoch [706/1000], Loss: 0.0006, Test Loss: 0.0006\n",
            "Epoch [707/1000], Loss: 0.0006, Test Loss: 0.0006\n"
          ]
        },
        {
          "output_type": "stream",
          "name": "stderr",
          "text": [
            "Training the model:  71%|███████   | 709/1000 [02:25<00:55,  5.24epoch/s]"
          ]
        },
        {
          "output_type": "stream",
          "name": "stdout",
          "text": [
            "Epoch [708/1000], Loss: 0.0006, Test Loss: 0.0006\n",
            "Epoch [709/1000], Loss: 0.0006, Test Loss: 0.0006\n"
          ]
        },
        {
          "output_type": "stream",
          "name": "stderr",
          "text": [
            "Training the model:  71%|███████   | 711/1000 [02:26<00:55,  5.25epoch/s]"
          ]
        },
        {
          "output_type": "stream",
          "name": "stdout",
          "text": [
            "Epoch [710/1000], Loss: 0.0006, Test Loss: 0.0006\n",
            "Epoch [711/1000], Loss: 0.0006, Test Loss: 0.0006\n"
          ]
        },
        {
          "output_type": "stream",
          "name": "stderr",
          "text": [
            "Training the model:  71%|███████▏  | 713/1000 [02:26<00:53,  5.33epoch/s]"
          ]
        },
        {
          "output_type": "stream",
          "name": "stdout",
          "text": [
            "Epoch [712/1000], Loss: 0.0006, Test Loss: 0.0006\n",
            "Epoch [713/1000], Loss: 0.0006, Test Loss: 0.0006\n"
          ]
        },
        {
          "output_type": "stream",
          "name": "stderr",
          "text": [
            "Training the model:  72%|███████▏  | 715/1000 [02:27<00:53,  5.28epoch/s]"
          ]
        },
        {
          "output_type": "stream",
          "name": "stdout",
          "text": [
            "Epoch [714/1000], Loss: 0.0006, Test Loss: 0.0006\n",
            "Epoch [715/1000], Loss: 0.0006, Test Loss: 0.0006\n"
          ]
        },
        {
          "output_type": "stream",
          "name": "stderr",
          "text": [
            "Training the model:  72%|███████▏  | 717/1000 [02:27<00:54,  5.20epoch/s]"
          ]
        },
        {
          "output_type": "stream",
          "name": "stdout",
          "text": [
            "Epoch [716/1000], Loss: 0.0006, Test Loss: 0.0006\n",
            "Epoch [717/1000], Loss: 0.0006, Test Loss: 0.0006\n"
          ]
        },
        {
          "output_type": "stream",
          "name": "stderr",
          "text": [
            "Training the model:  72%|███████▏  | 719/1000 [02:27<00:55,  5.10epoch/s]"
          ]
        },
        {
          "output_type": "stream",
          "name": "stdout",
          "text": [
            "Epoch [718/1000], Loss: 0.0006, Test Loss: 0.0006\n",
            "Epoch [719/1000], Loss: 0.0006, Test Loss: 0.0006\n"
          ]
        },
        {
          "output_type": "stream",
          "name": "stderr",
          "text": [
            "\rTraining the model:  72%|███████▏  | 720/1000 [02:28<01:00,  4.65epoch/s]"
          ]
        },
        {
          "output_type": "stream",
          "name": "stdout",
          "text": [
            "Epoch [720/1000], Loss: 0.0006, Test Loss: 0.0006\n"
          ]
        },
        {
          "output_type": "stream",
          "name": "stderr",
          "text": [
            "\rTraining the model:  72%|███████▏  | 721/1000 [02:28<01:03,  4.38epoch/s]"
          ]
        },
        {
          "output_type": "stream",
          "name": "stdout",
          "text": [
            "Epoch [721/1000], Loss: 0.0006, Test Loss: 0.0006\n"
          ]
        },
        {
          "output_type": "stream",
          "name": "stderr",
          "text": [
            "\rTraining the model:  72%|███████▏  | 722/1000 [02:28<01:06,  4.17epoch/s]"
          ]
        },
        {
          "output_type": "stream",
          "name": "stdout",
          "text": [
            "Epoch [722/1000], Loss: 0.0006, Test Loss: 0.0006\n"
          ]
        },
        {
          "output_type": "stream",
          "name": "stderr",
          "text": [
            "\rTraining the model:  72%|███████▏  | 723/1000 [02:28<01:08,  4.04epoch/s]"
          ]
        },
        {
          "output_type": "stream",
          "name": "stdout",
          "text": [
            "Epoch [723/1000], Loss: 0.0006, Test Loss: 0.0006\n"
          ]
        },
        {
          "output_type": "stream",
          "name": "stderr",
          "text": [
            "\rTraining the model:  72%|███████▏  | 724/1000 [02:29<01:10,  3.92epoch/s]"
          ]
        },
        {
          "output_type": "stream",
          "name": "stdout",
          "text": [
            "Epoch [724/1000], Loss: 0.0006, Test Loss: 0.0006\n"
          ]
        },
        {
          "output_type": "stream",
          "name": "stderr",
          "text": [
            "\rTraining the model:  72%|███████▎  | 725/1000 [02:29<01:10,  3.88epoch/s]"
          ]
        },
        {
          "output_type": "stream",
          "name": "stdout",
          "text": [
            "Epoch [725/1000], Loss: 0.0006, Test Loss: 0.0006\n"
          ]
        },
        {
          "output_type": "stream",
          "name": "stderr",
          "text": [
            "\rTraining the model:  73%|███████▎  | 726/1000 [02:29<01:10,  3.88epoch/s]"
          ]
        },
        {
          "output_type": "stream",
          "name": "stdout",
          "text": [
            "Epoch [726/1000], Loss: 0.0006, Test Loss: 0.0006\n"
          ]
        },
        {
          "output_type": "stream",
          "name": "stderr",
          "text": [
            "\rTraining the model:  73%|███████▎  | 727/1000 [02:29<01:10,  3.85epoch/s]"
          ]
        },
        {
          "output_type": "stream",
          "name": "stdout",
          "text": [
            "Epoch [727/1000], Loss: 0.0006, Test Loss: 0.0006\n"
          ]
        },
        {
          "output_type": "stream",
          "name": "stderr",
          "text": [
            "\rTraining the model:  73%|███████▎  | 728/1000 [02:30<01:15,  3.58epoch/s]"
          ]
        },
        {
          "output_type": "stream",
          "name": "stdout",
          "text": [
            "Epoch [728/1000], Loss: 0.0006, Test Loss: 0.0006\n"
          ]
        },
        {
          "output_type": "stream",
          "name": "stderr",
          "text": [
            "\rTraining the model:  73%|███████▎  | 729/1000 [02:30<01:09,  3.90epoch/s]"
          ]
        },
        {
          "output_type": "stream",
          "name": "stdout",
          "text": [
            "Epoch [729/1000], Loss: 0.0006, Test Loss: 0.0006\n"
          ]
        },
        {
          "output_type": "stream",
          "name": "stderr",
          "text": [
            "Training the model:  73%|███████▎  | 731/1000 [02:30<01:01,  4.38epoch/s]"
          ]
        },
        {
          "output_type": "stream",
          "name": "stdout",
          "text": [
            "Epoch [730/1000], Loss: 0.0006, Test Loss: 0.0006\n",
            "Epoch [731/1000], Loss: 0.0006, Test Loss: 0.0006\n"
          ]
        },
        {
          "output_type": "stream",
          "name": "stderr",
          "text": [
            "Training the model:  73%|███████▎  | 733/1000 [02:31<00:55,  4.79epoch/s]"
          ]
        },
        {
          "output_type": "stream",
          "name": "stdout",
          "text": [
            "Epoch [732/1000], Loss: 0.0006, Test Loss: 0.0006\n",
            "Epoch [733/1000], Loss: 0.0006, Test Loss: 0.0006\n"
          ]
        },
        {
          "output_type": "stream",
          "name": "stderr",
          "text": [
            "Training the model:  74%|███████▎  | 735/1000 [02:31<00:52,  5.08epoch/s]"
          ]
        },
        {
          "output_type": "stream",
          "name": "stdout",
          "text": [
            "Epoch [734/1000], Loss: 0.0006, Test Loss: 0.0006\n",
            "Epoch [735/1000], Loss: 0.0006, Test Loss: 0.0006\n"
          ]
        },
        {
          "output_type": "stream",
          "name": "stderr",
          "text": [
            "Training the model:  74%|███████▎  | 737/1000 [02:32<00:50,  5.18epoch/s]"
          ]
        },
        {
          "output_type": "stream",
          "name": "stdout",
          "text": [
            "Epoch [736/1000], Loss: 0.0006, Test Loss: 0.0006\n",
            "Epoch [737/1000], Loss: 0.0006, Test Loss: 0.0006\n"
          ]
        },
        {
          "output_type": "stream",
          "name": "stderr",
          "text": [
            "Training the model:  74%|███████▍  | 739/1000 [02:32<00:50,  5.16epoch/s]"
          ]
        },
        {
          "output_type": "stream",
          "name": "stdout",
          "text": [
            "Epoch [738/1000], Loss: 0.0006, Test Loss: 0.0006\n",
            "Epoch [739/1000], Loss: 0.0006, Test Loss: 0.0006\n"
          ]
        },
        {
          "output_type": "stream",
          "name": "stderr",
          "text": [
            "Training the model:  74%|███████▍  | 741/1000 [02:32<00:49,  5.24epoch/s]"
          ]
        },
        {
          "output_type": "stream",
          "name": "stdout",
          "text": [
            "Epoch [740/1000], Loss: 0.0006, Test Loss: 0.0006\n",
            "Epoch [741/1000], Loss: 0.0006, Test Loss: 0.0006\n"
          ]
        },
        {
          "output_type": "stream",
          "name": "stderr",
          "text": [
            "Training the model:  74%|███████▍  | 743/1000 [02:33<00:49,  5.24epoch/s]"
          ]
        },
        {
          "output_type": "stream",
          "name": "stdout",
          "text": [
            "Epoch [742/1000], Loss: 0.0006, Test Loss: 0.0006\n",
            "Epoch [743/1000], Loss: 0.0006, Test Loss: 0.0006\n"
          ]
        },
        {
          "output_type": "stream",
          "name": "stderr",
          "text": [
            "Training the model:  74%|███████▍  | 745/1000 [02:33<00:49,  5.17epoch/s]"
          ]
        },
        {
          "output_type": "stream",
          "name": "stdout",
          "text": [
            "Epoch [744/1000], Loss: 0.0006, Test Loss: 0.0006\n",
            "Epoch [745/1000], Loss: 0.0006, Test Loss: 0.0006\n"
          ]
        },
        {
          "output_type": "stream",
          "name": "stderr",
          "text": [
            "Training the model:  75%|███████▍  | 747/1000 [02:33<00:47,  5.32epoch/s]"
          ]
        },
        {
          "output_type": "stream",
          "name": "stdout",
          "text": [
            "Epoch [746/1000], Loss: 0.0006, Test Loss: 0.0006\n",
            "Epoch [747/1000], Loss: 0.0006, Test Loss: 0.0006\n"
          ]
        },
        {
          "output_type": "stream",
          "name": "stderr",
          "text": [
            "Training the model:  75%|███████▍  | 749/1000 [02:34<00:47,  5.34epoch/s]"
          ]
        },
        {
          "output_type": "stream",
          "name": "stdout",
          "text": [
            "Epoch [748/1000], Loss: 0.0006, Test Loss: 0.0006\n",
            "Epoch [749/1000], Loss: 0.0006, Test Loss: 0.0006\n"
          ]
        },
        {
          "output_type": "stream",
          "name": "stderr",
          "text": [
            "Training the model:  75%|███████▌  | 751/1000 [02:34<00:47,  5.29epoch/s]"
          ]
        },
        {
          "output_type": "stream",
          "name": "stdout",
          "text": [
            "Epoch [750/1000], Loss: 0.0006, Test Loss: 0.0006\n",
            "Epoch [751/1000], Loss: 0.0006, Test Loss: 0.0006\n"
          ]
        },
        {
          "output_type": "stream",
          "name": "stderr",
          "text": [
            "Training the model:  75%|███████▌  | 753/1000 [02:35<00:47,  5.25epoch/s]"
          ]
        },
        {
          "output_type": "stream",
          "name": "stdout",
          "text": [
            "Epoch [752/1000], Loss: 0.0006, Test Loss: 0.0006\n",
            "Epoch [753/1000], Loss: 0.0006, Test Loss: 0.0006\n"
          ]
        },
        {
          "output_type": "stream",
          "name": "stderr",
          "text": [
            "Training the model:  76%|███████▌  | 755/1000 [02:35<00:47,  5.21epoch/s]"
          ]
        },
        {
          "output_type": "stream",
          "name": "stdout",
          "text": [
            "Epoch [754/1000], Loss: 0.0006, Test Loss: 0.0006\n",
            "Epoch [755/1000], Loss: 0.0006, Test Loss: 0.0006\n"
          ]
        },
        {
          "output_type": "stream",
          "name": "stderr",
          "text": [
            "Training the model:  76%|███████▌  | 757/1000 [02:35<00:45,  5.33epoch/s]"
          ]
        },
        {
          "output_type": "stream",
          "name": "stdout",
          "text": [
            "Epoch [756/1000], Loss: 0.0006, Test Loss: 0.0006\n",
            "Epoch [757/1000], Loss: 0.0006, Test Loss: 0.0006\n"
          ]
        },
        {
          "output_type": "stream",
          "name": "stderr",
          "text": [
            "Training the model:  76%|███████▌  | 759/1000 [02:36<00:45,  5.30epoch/s]"
          ]
        },
        {
          "output_type": "stream",
          "name": "stdout",
          "text": [
            "Epoch [758/1000], Loss: 0.0006, Test Loss: 0.0006\n",
            "Epoch [759/1000], Loss: 0.0006, Test Loss: 0.0006\n"
          ]
        },
        {
          "output_type": "stream",
          "name": "stderr",
          "text": [
            "Training the model:  76%|███████▌  | 761/1000 [02:36<00:44,  5.32epoch/s]"
          ]
        },
        {
          "output_type": "stream",
          "name": "stdout",
          "text": [
            "Epoch [760/1000], Loss: 0.0006, Test Loss: 0.0006\n",
            "Epoch [761/1000], Loss: 0.0006, Test Loss: 0.0006\n"
          ]
        },
        {
          "output_type": "stream",
          "name": "stderr",
          "text": [
            "Training the model:  76%|███████▋  | 763/1000 [02:36<00:44,  5.35epoch/s]"
          ]
        },
        {
          "output_type": "stream",
          "name": "stdout",
          "text": [
            "Epoch [762/1000], Loss: 0.0006, Test Loss: 0.0006\n",
            "Epoch [763/1000], Loss: 0.0006, Test Loss: 0.0006\n"
          ]
        },
        {
          "output_type": "stream",
          "name": "stderr",
          "text": [
            "Training the model:  76%|███████▋  | 765/1000 [02:37<00:45,  5.19epoch/s]"
          ]
        },
        {
          "output_type": "stream",
          "name": "stdout",
          "text": [
            "Epoch [764/1000], Loss: 0.0006, Test Loss: 0.0006\n",
            "Epoch [765/1000], Loss: 0.0006, Test Loss: 0.0006\n"
          ]
        },
        {
          "output_type": "stream",
          "name": "stderr",
          "text": [
            "Training the model:  77%|███████▋  | 767/1000 [02:37<00:45,  5.14epoch/s]"
          ]
        },
        {
          "output_type": "stream",
          "name": "stdout",
          "text": [
            "Epoch [766/1000], Loss: 0.0006, Test Loss: 0.0006\n",
            "Epoch [767/1000], Loss: 0.0006, Test Loss: 0.0006\n"
          ]
        },
        {
          "output_type": "stream",
          "name": "stderr",
          "text": [
            "Training the model:  77%|███████▋  | 769/1000 [02:38<00:45,  5.12epoch/s]"
          ]
        },
        {
          "output_type": "stream",
          "name": "stdout",
          "text": [
            "Epoch [768/1000], Loss: 0.0006, Test Loss: 0.0006\n",
            "Epoch [769/1000], Loss: 0.0006, Test Loss: 0.0006\n"
          ]
        },
        {
          "output_type": "stream",
          "name": "stderr",
          "text": [
            "Training the model:  77%|███████▋  | 771/1000 [02:38<00:44,  5.16epoch/s]"
          ]
        },
        {
          "output_type": "stream",
          "name": "stdout",
          "text": [
            "Epoch [770/1000], Loss: 0.0006, Test Loss: 0.0006\n",
            "Epoch [771/1000], Loss: 0.0006, Test Loss: 0.0006\n"
          ]
        },
        {
          "output_type": "stream",
          "name": "stderr",
          "text": [
            "Training the model:  77%|███████▋  | 773/1000 [02:38<00:43,  5.18epoch/s]"
          ]
        },
        {
          "output_type": "stream",
          "name": "stdout",
          "text": [
            "Epoch [772/1000], Loss: 0.0006, Test Loss: 0.0006\n",
            "Epoch [773/1000], Loss: 0.0006, Test Loss: 0.0006\n"
          ]
        },
        {
          "output_type": "stream",
          "name": "stderr",
          "text": [
            "Training the model:  78%|███████▊  | 775/1000 [02:39<00:42,  5.25epoch/s]"
          ]
        },
        {
          "output_type": "stream",
          "name": "stdout",
          "text": [
            "Epoch [774/1000], Loss: 0.0006, Test Loss: 0.0006\n",
            "Epoch [775/1000], Loss: 0.0006, Test Loss: 0.0006\n"
          ]
        },
        {
          "output_type": "stream",
          "name": "stderr",
          "text": [
            "Training the model:  78%|███████▊  | 777/1000 [02:39<00:42,  5.26epoch/s]"
          ]
        },
        {
          "output_type": "stream",
          "name": "stdout",
          "text": [
            "Epoch [776/1000], Loss: 0.0006, Test Loss: 0.0006\n",
            "Epoch [777/1000], Loss: 0.0006, Test Loss: 0.0006\n"
          ]
        },
        {
          "output_type": "stream",
          "name": "stderr",
          "text": [
            "Training the model:  78%|███████▊  | 779/1000 [02:40<00:41,  5.27epoch/s]"
          ]
        },
        {
          "output_type": "stream",
          "name": "stdout",
          "text": [
            "Epoch [778/1000], Loss: 0.0006, Test Loss: 0.0006\n",
            "Epoch [779/1000], Loss: 0.0006, Test Loss: 0.0006\n"
          ]
        },
        {
          "output_type": "stream",
          "name": "stderr",
          "text": [
            "\rTraining the model:  78%|███████▊  | 780/1000 [02:40<00:42,  5.17epoch/s]"
          ]
        },
        {
          "output_type": "stream",
          "name": "stdout",
          "text": [
            "Epoch [780/1000], Loss: 0.0006, Test Loss: 0.0006\n"
          ]
        },
        {
          "output_type": "stream",
          "name": "stderr",
          "text": [
            "\rTraining the model:  78%|███████▊  | 781/1000 [02:40<00:48,  4.52epoch/s]"
          ]
        },
        {
          "output_type": "stream",
          "name": "stdout",
          "text": [
            "Epoch [781/1000], Loss: 0.0006, Test Loss: 0.0006\n"
          ]
        },
        {
          "output_type": "stream",
          "name": "stderr",
          "text": [
            "\rTraining the model:  78%|███████▊  | 782/1000 [02:40<00:51,  4.26epoch/s]"
          ]
        },
        {
          "output_type": "stream",
          "name": "stdout",
          "text": [
            "Epoch [782/1000], Loss: 0.0006, Test Loss: 0.0006\n"
          ]
        },
        {
          "output_type": "stream",
          "name": "stderr",
          "text": [
            "\rTraining the model:  78%|███████▊  | 783/1000 [02:41<00:53,  4.07epoch/s]"
          ]
        },
        {
          "output_type": "stream",
          "name": "stdout",
          "text": [
            "Epoch [783/1000], Loss: 0.0006, Test Loss: 0.0006\n"
          ]
        },
        {
          "output_type": "stream",
          "name": "stderr",
          "text": [
            "\rTraining the model:  78%|███████▊  | 784/1000 [02:41<00:53,  4.02epoch/s]"
          ]
        },
        {
          "output_type": "stream",
          "name": "stdout",
          "text": [
            "Epoch [784/1000], Loss: 0.0006, Test Loss: 0.0006\n"
          ]
        },
        {
          "output_type": "stream",
          "name": "stderr",
          "text": [
            "\rTraining the model:  78%|███████▊  | 785/1000 [02:41<00:54,  3.92epoch/s]"
          ]
        },
        {
          "output_type": "stream",
          "name": "stdout",
          "text": [
            "Epoch [785/1000], Loss: 0.0006, Test Loss: 0.0006\n"
          ]
        },
        {
          "output_type": "stream",
          "name": "stderr",
          "text": [
            "\rTraining the model:  79%|███████▊  | 786/1000 [02:41<00:54,  3.94epoch/s]"
          ]
        },
        {
          "output_type": "stream",
          "name": "stdout",
          "text": [
            "Epoch [786/1000], Loss: 0.0006, Test Loss: 0.0006\n"
          ]
        },
        {
          "output_type": "stream",
          "name": "stderr",
          "text": [
            "\rTraining the model:  79%|███████▊  | 787/1000 [02:42<00:55,  3.85epoch/s]"
          ]
        },
        {
          "output_type": "stream",
          "name": "stdout",
          "text": [
            "Epoch [787/1000], Loss: 0.0006, Test Loss: 0.0006\n"
          ]
        },
        {
          "output_type": "stream",
          "name": "stderr",
          "text": [
            "\rTraining the model:  79%|███████▉  | 788/1000 [02:42<00:56,  3.78epoch/s]"
          ]
        },
        {
          "output_type": "stream",
          "name": "stdout",
          "text": [
            "Epoch [788/1000], Loss: 0.0006, Test Loss: 0.0006\n"
          ]
        },
        {
          "output_type": "stream",
          "name": "stderr",
          "text": [
            "Training the model:  79%|███████▉  | 790/1000 [02:42<00:50,  4.15epoch/s]"
          ]
        },
        {
          "output_type": "stream",
          "name": "stdout",
          "text": [
            "Epoch [789/1000], Loss: 0.0006, Test Loss: 0.0006\n",
            "Epoch [790/1000], Loss: 0.0006, Test Loss: 0.0006\n"
          ]
        },
        {
          "output_type": "stream",
          "name": "stderr",
          "text": [
            "Training the model:  79%|███████▉  | 792/1000 [02:43<00:45,  4.57epoch/s]"
          ]
        },
        {
          "output_type": "stream",
          "name": "stdout",
          "text": [
            "Epoch [791/1000], Loss: 0.0006, Test Loss: 0.0006\n",
            "Epoch [792/1000], Loss: 0.0006, Test Loss: 0.0006\n"
          ]
        },
        {
          "output_type": "stream",
          "name": "stderr",
          "text": [
            "Training the model:  79%|███████▉  | 794/1000 [02:43<00:42,  4.86epoch/s]"
          ]
        },
        {
          "output_type": "stream",
          "name": "stdout",
          "text": [
            "Epoch [793/1000], Loss: 0.0006, Test Loss: 0.0006\n",
            "Epoch [794/1000], Loss: 0.0006, Test Loss: 0.0006\n"
          ]
        },
        {
          "output_type": "stream",
          "name": "stderr",
          "text": [
            "Training the model:  80%|███████▉  | 796/1000 [02:44<00:40,  5.03epoch/s]"
          ]
        },
        {
          "output_type": "stream",
          "name": "stdout",
          "text": [
            "Epoch [795/1000], Loss: 0.0006, Test Loss: 0.0006\n",
            "Epoch [796/1000], Loss: 0.0006, Test Loss: 0.0006\n"
          ]
        },
        {
          "output_type": "stream",
          "name": "stderr",
          "text": [
            "Training the model:  80%|███████▉  | 798/1000 [02:44<00:39,  5.16epoch/s]"
          ]
        },
        {
          "output_type": "stream",
          "name": "stdout",
          "text": [
            "Epoch [797/1000], Loss: 0.0006, Test Loss: 0.0006\n",
            "Epoch [798/1000], Loss: 0.0006, Test Loss: 0.0006\n"
          ]
        },
        {
          "output_type": "stream",
          "name": "stderr",
          "text": [
            "Training the model:  80%|████████  | 800/1000 [02:44<00:39,  5.06epoch/s]"
          ]
        },
        {
          "output_type": "stream",
          "name": "stdout",
          "text": [
            "Epoch [799/1000], Loss: 0.0006, Test Loss: 0.0006\n",
            "Epoch [800/1000], Loss: 0.0006, Test Loss: 0.0006\n"
          ]
        },
        {
          "output_type": "stream",
          "name": "stderr",
          "text": [
            "Training the model:  80%|████████  | 802/1000 [02:45<00:39,  5.05epoch/s]"
          ]
        },
        {
          "output_type": "stream",
          "name": "stdout",
          "text": [
            "Epoch [801/1000], Loss: 0.0006, Test Loss: 0.0006\n",
            "Epoch [802/1000], Loss: 0.0006, Test Loss: 0.0006\n"
          ]
        },
        {
          "output_type": "stream",
          "name": "stderr",
          "text": [
            "Training the model:  80%|████████  | 804/1000 [02:45<00:38,  5.03epoch/s]"
          ]
        },
        {
          "output_type": "stream",
          "name": "stdout",
          "text": [
            "Epoch [803/1000], Loss: 0.0006, Test Loss: 0.0006\n",
            "Epoch [804/1000], Loss: 0.0006, Test Loss: 0.0006\n"
          ]
        },
        {
          "output_type": "stream",
          "name": "stderr",
          "text": [
            "Training the model:  81%|████████  | 806/1000 [02:45<00:37,  5.12epoch/s]"
          ]
        },
        {
          "output_type": "stream",
          "name": "stdout",
          "text": [
            "Epoch [805/1000], Loss: 0.0006, Test Loss: 0.0006\n",
            "Epoch [806/1000], Loss: 0.0006, Test Loss: 0.0006\n"
          ]
        },
        {
          "output_type": "stream",
          "name": "stderr",
          "text": [
            "Training the model:  81%|████████  | 808/1000 [02:46<00:36,  5.20epoch/s]"
          ]
        },
        {
          "output_type": "stream",
          "name": "stdout",
          "text": [
            "Epoch [807/1000], Loss: 0.0006, Test Loss: 0.0006\n",
            "Epoch [808/1000], Loss: 0.0006, Test Loss: 0.0006\n"
          ]
        },
        {
          "output_type": "stream",
          "name": "stderr",
          "text": [
            "Training the model:  81%|████████  | 810/1000 [02:46<00:36,  5.17epoch/s]"
          ]
        },
        {
          "output_type": "stream",
          "name": "stdout",
          "text": [
            "Epoch [809/1000], Loss: 0.0006, Test Loss: 0.0006\n",
            "Epoch [810/1000], Loss: 0.0006, Test Loss: 0.0006\n"
          ]
        },
        {
          "output_type": "stream",
          "name": "stderr",
          "text": [
            "Training the model:  81%|████████  | 812/1000 [02:47<00:36,  5.17epoch/s]"
          ]
        },
        {
          "output_type": "stream",
          "name": "stdout",
          "text": [
            "Epoch [811/1000], Loss: 0.0006, Test Loss: 0.0006\n",
            "Epoch [812/1000], Loss: 0.0006, Test Loss: 0.0006\n"
          ]
        },
        {
          "output_type": "stream",
          "name": "stderr",
          "text": [
            "Training the model:  81%|████████▏ | 814/1000 [02:47<00:36,  5.14epoch/s]"
          ]
        },
        {
          "output_type": "stream",
          "name": "stdout",
          "text": [
            "Epoch [813/1000], Loss: 0.0006, Test Loss: 0.0006\n",
            "Epoch [814/1000], Loss: 0.0006, Test Loss: 0.0006\n"
          ]
        },
        {
          "output_type": "stream",
          "name": "stderr",
          "text": [
            "Training the model:  82%|████████▏ | 816/1000 [02:47<00:35,  5.13epoch/s]"
          ]
        },
        {
          "output_type": "stream",
          "name": "stdout",
          "text": [
            "Epoch [815/1000], Loss: 0.0006, Test Loss: 0.0006\n",
            "Epoch [816/1000], Loss: 0.0006, Test Loss: 0.0006\n"
          ]
        },
        {
          "output_type": "stream",
          "name": "stderr",
          "text": [
            "Training the model:  82%|████████▏ | 818/1000 [02:48<00:35,  5.12epoch/s]"
          ]
        },
        {
          "output_type": "stream",
          "name": "stdout",
          "text": [
            "Epoch [817/1000], Loss: 0.0006, Test Loss: 0.0006\n",
            "Epoch [818/1000], Loss: 0.0006, Test Loss: 0.0006\n"
          ]
        },
        {
          "output_type": "stream",
          "name": "stderr",
          "text": [
            "Training the model:  82%|████████▏ | 820/1000 [02:48<00:35,  5.08epoch/s]"
          ]
        },
        {
          "output_type": "stream",
          "name": "stdout",
          "text": [
            "Epoch [819/1000], Loss: 0.0006, Test Loss: 0.0006\n",
            "Epoch [820/1000], Loss: 0.0006, Test Loss: 0.0006\n"
          ]
        },
        {
          "output_type": "stream",
          "name": "stderr",
          "text": [
            "Training the model:  82%|████████▏ | 822/1000 [02:49<00:34,  5.13epoch/s]"
          ]
        },
        {
          "output_type": "stream",
          "name": "stdout",
          "text": [
            "Epoch [821/1000], Loss: 0.0006, Test Loss: 0.0006\n",
            "Epoch [822/1000], Loss: 0.0006, Test Loss: 0.0006\n"
          ]
        },
        {
          "output_type": "stream",
          "name": "stderr",
          "text": [
            "Training the model:  82%|████████▏ | 824/1000 [02:49<00:34,  5.08epoch/s]"
          ]
        },
        {
          "output_type": "stream",
          "name": "stdout",
          "text": [
            "Epoch [823/1000], Loss: 0.0006, Test Loss: 0.0006\n",
            "Epoch [824/1000], Loss: 0.0006, Test Loss: 0.0006\n"
          ]
        },
        {
          "output_type": "stream",
          "name": "stderr",
          "text": [
            "Training the model:  83%|████████▎ | 826/1000 [02:49<00:34,  5.09epoch/s]"
          ]
        },
        {
          "output_type": "stream",
          "name": "stdout",
          "text": [
            "Epoch [825/1000], Loss: 0.0006, Test Loss: 0.0006\n",
            "Epoch [826/1000], Loss: 0.0006, Test Loss: 0.0006\n"
          ]
        },
        {
          "output_type": "stream",
          "name": "stderr",
          "text": [
            "Training the model:  83%|████████▎ | 828/1000 [02:50<00:33,  5.12epoch/s]"
          ]
        },
        {
          "output_type": "stream",
          "name": "stdout",
          "text": [
            "Epoch [827/1000], Loss: 0.0006, Test Loss: 0.0006\n",
            "Epoch [828/1000], Loss: 0.0006, Test Loss: 0.0006\n"
          ]
        },
        {
          "output_type": "stream",
          "name": "stderr",
          "text": [
            "Training the model:  83%|████████▎ | 830/1000 [02:50<00:33,  5.13epoch/s]"
          ]
        },
        {
          "output_type": "stream",
          "name": "stdout",
          "text": [
            "Epoch [829/1000], Loss: 0.0006, Test Loss: 0.0006\n",
            "Epoch [830/1000], Loss: 0.0006, Test Loss: 0.0006\n"
          ]
        },
        {
          "output_type": "stream",
          "name": "stderr",
          "text": [
            "Training the model:  83%|████████▎ | 832/1000 [02:51<00:32,  5.19epoch/s]"
          ]
        },
        {
          "output_type": "stream",
          "name": "stdout",
          "text": [
            "Epoch [831/1000], Loss: 0.0006, Test Loss: 0.0006\n",
            "Epoch [832/1000], Loss: 0.0006, Test Loss: 0.0006\n"
          ]
        },
        {
          "output_type": "stream",
          "name": "stderr",
          "text": [
            "Training the model:  83%|████████▎ | 834/1000 [02:51<00:31,  5.22epoch/s]"
          ]
        },
        {
          "output_type": "stream",
          "name": "stdout",
          "text": [
            "Epoch [833/1000], Loss: 0.0006, Test Loss: 0.0006\n",
            "Epoch [834/1000], Loss: 0.0006, Test Loss: 0.0006\n"
          ]
        },
        {
          "output_type": "stream",
          "name": "stderr",
          "text": [
            "Training the model:  84%|████████▎ | 836/1000 [02:51<00:31,  5.17epoch/s]"
          ]
        },
        {
          "output_type": "stream",
          "name": "stdout",
          "text": [
            "Epoch [835/1000], Loss: 0.0006, Test Loss: 0.0006\n",
            "Epoch [836/1000], Loss: 0.0006, Test Loss: 0.0006\n"
          ]
        },
        {
          "output_type": "stream",
          "name": "stderr",
          "text": [
            "Training the model:  84%|████████▍ | 838/1000 [02:52<00:31,  5.16epoch/s]"
          ]
        },
        {
          "output_type": "stream",
          "name": "stdout",
          "text": [
            "Epoch [837/1000], Loss: 0.0006, Test Loss: 0.0006\n",
            "Epoch [838/1000], Loss: 0.0006, Test Loss: 0.0006\n"
          ]
        },
        {
          "output_type": "stream",
          "name": "stderr",
          "text": [
            "Training the model:  84%|████████▍ | 840/1000 [02:52<00:31,  5.16epoch/s]"
          ]
        },
        {
          "output_type": "stream",
          "name": "stdout",
          "text": [
            "Epoch [839/1000], Loss: 0.0006, Test Loss: 0.0006\n",
            "Epoch [840/1000], Loss: 0.0006, Test Loss: 0.0006\n"
          ]
        },
        {
          "output_type": "stream",
          "name": "stderr",
          "text": [
            "\rTraining the model:  84%|████████▍ | 841/1000 [02:52<00:34,  4.60epoch/s]"
          ]
        },
        {
          "output_type": "stream",
          "name": "stdout",
          "text": [
            "Epoch [841/1000], Loss: 0.0006, Test Loss: 0.0006\n"
          ]
        },
        {
          "output_type": "stream",
          "name": "stderr",
          "text": [
            "\rTraining the model:  84%|████████▍ | 842/1000 [02:53<00:36,  4.30epoch/s]"
          ]
        },
        {
          "output_type": "stream",
          "name": "stdout",
          "text": [
            "Epoch [842/1000], Loss: 0.0006, Test Loss: 0.0006\n"
          ]
        },
        {
          "output_type": "stream",
          "name": "stderr",
          "text": [
            "\rTraining the model:  84%|████████▍ | 843/1000 [02:53<00:37,  4.16epoch/s]"
          ]
        },
        {
          "output_type": "stream",
          "name": "stdout",
          "text": [
            "Epoch [843/1000], Loss: 0.0006, Test Loss: 0.0006\n"
          ]
        },
        {
          "output_type": "stream",
          "name": "stderr",
          "text": [
            "\rTraining the model:  84%|████████▍ | 844/1000 [02:53<00:38,  4.05epoch/s]"
          ]
        },
        {
          "output_type": "stream",
          "name": "stdout",
          "text": [
            "Epoch [844/1000], Loss: 0.0005, Test Loss: 0.0006\n"
          ]
        },
        {
          "output_type": "stream",
          "name": "stderr",
          "text": [
            "\rTraining the model:  84%|████████▍ | 845/1000 [02:53<00:39,  3.89epoch/s]"
          ]
        },
        {
          "output_type": "stream",
          "name": "stdout",
          "text": [
            "Epoch [845/1000], Loss: 0.0005, Test Loss: 0.0006\n"
          ]
        },
        {
          "output_type": "stream",
          "name": "stderr",
          "text": [
            "\rTraining the model:  85%|████████▍ | 846/1000 [02:54<00:40,  3.76epoch/s]"
          ]
        },
        {
          "output_type": "stream",
          "name": "stdout",
          "text": [
            "Epoch [846/1000], Loss: 0.0005, Test Loss: 0.0006\n"
          ]
        },
        {
          "output_type": "stream",
          "name": "stderr",
          "text": [
            "\rTraining the model:  85%|████████▍ | 847/1000 [02:54<00:41,  3.70epoch/s]"
          ]
        },
        {
          "output_type": "stream",
          "name": "stdout",
          "text": [
            "Epoch [847/1000], Loss: 0.0005, Test Loss: 0.0006\n"
          ]
        },
        {
          "output_type": "stream",
          "name": "stderr",
          "text": [
            "\rTraining the model:  85%|████████▍ | 848/1000 [02:54<00:41,  3.65epoch/s]"
          ]
        },
        {
          "output_type": "stream",
          "name": "stdout",
          "text": [
            "Epoch [848/1000], Loss: 0.0005, Test Loss: 0.0006\n"
          ]
        },
        {
          "output_type": "stream",
          "name": "stderr",
          "text": [
            "Training the model:  85%|████████▌ | 850/1000 [02:55<00:37,  4.04epoch/s]"
          ]
        },
        {
          "output_type": "stream",
          "name": "stdout",
          "text": [
            "Epoch [849/1000], Loss: 0.0005, Test Loss: 0.0006\n",
            "Epoch [850/1000], Loss: 0.0005, Test Loss: 0.0006\n"
          ]
        },
        {
          "output_type": "stream",
          "name": "stderr",
          "text": [
            "Training the model:  85%|████████▌ | 852/1000 [02:55<00:32,  4.52epoch/s]"
          ]
        },
        {
          "output_type": "stream",
          "name": "stdout",
          "text": [
            "Epoch [851/1000], Loss: 0.0005, Test Loss: 0.0006\n",
            "Epoch [852/1000], Loss: 0.0005, Test Loss: 0.0006\n"
          ]
        },
        {
          "output_type": "stream",
          "name": "stderr",
          "text": [
            "Training the model:  85%|████████▌ | 854/1000 [02:56<00:30,  4.83epoch/s]"
          ]
        },
        {
          "output_type": "stream",
          "name": "stdout",
          "text": [
            "Epoch [853/1000], Loss: 0.0005, Test Loss: 0.0006\n",
            "Epoch [854/1000], Loss: 0.0005, Test Loss: 0.0006\n"
          ]
        },
        {
          "output_type": "stream",
          "name": "stderr",
          "text": [
            "Training the model:  86%|████████▌ | 856/1000 [02:56<00:28,  5.07epoch/s]"
          ]
        },
        {
          "output_type": "stream",
          "name": "stdout",
          "text": [
            "Epoch [855/1000], Loss: 0.0005, Test Loss: 0.0006\n",
            "Epoch [856/1000], Loss: 0.0005, Test Loss: 0.0006\n"
          ]
        },
        {
          "output_type": "stream",
          "name": "stderr",
          "text": [
            "Training the model:  86%|████████▌ | 858/1000 [02:56<00:27,  5.10epoch/s]"
          ]
        },
        {
          "output_type": "stream",
          "name": "stdout",
          "text": [
            "Epoch [857/1000], Loss: 0.0005, Test Loss: 0.0006\n",
            "Epoch [858/1000], Loss: 0.0005, Test Loss: 0.0006\n"
          ]
        },
        {
          "output_type": "stream",
          "name": "stderr",
          "text": [
            "Training the model:  86%|████████▌ | 860/1000 [02:57<00:26,  5.23epoch/s]"
          ]
        },
        {
          "output_type": "stream",
          "name": "stdout",
          "text": [
            "Epoch [859/1000], Loss: 0.0005, Test Loss: 0.0006\n",
            "Epoch [860/1000], Loss: 0.0005, Test Loss: 0.0006\n"
          ]
        },
        {
          "output_type": "stream",
          "name": "stderr",
          "text": [
            "Training the model:  86%|████████▌ | 862/1000 [02:57<00:26,  5.27epoch/s]"
          ]
        },
        {
          "output_type": "stream",
          "name": "stdout",
          "text": [
            "Epoch [861/1000], Loss: 0.0005, Test Loss: 0.0006\n",
            "Epoch [862/1000], Loss: 0.0005, Test Loss: 0.0006\n"
          ]
        },
        {
          "output_type": "stream",
          "name": "stderr",
          "text": [
            "Training the model:  86%|████████▋ | 864/1000 [02:57<00:25,  5.24epoch/s]"
          ]
        },
        {
          "output_type": "stream",
          "name": "stdout",
          "text": [
            "Epoch [863/1000], Loss: 0.0005, Test Loss: 0.0006\n",
            "Epoch [864/1000], Loss: 0.0005, Test Loss: 0.0006\n"
          ]
        },
        {
          "output_type": "stream",
          "name": "stderr",
          "text": [
            "Training the model:  87%|████████▋ | 866/1000 [02:58<00:25,  5.31epoch/s]"
          ]
        },
        {
          "output_type": "stream",
          "name": "stdout",
          "text": [
            "Epoch [865/1000], Loss: 0.0005, Test Loss: 0.0006\n",
            "Epoch [866/1000], Loss: 0.0005, Test Loss: 0.0006\n"
          ]
        },
        {
          "output_type": "stream",
          "name": "stderr",
          "text": [
            "Training the model:  87%|████████▋ | 868/1000 [02:58<00:24,  5.38epoch/s]"
          ]
        },
        {
          "output_type": "stream",
          "name": "stdout",
          "text": [
            "Epoch [867/1000], Loss: 0.0005, Test Loss: 0.0006\n",
            "Epoch [868/1000], Loss: 0.0005, Test Loss: 0.0006\n"
          ]
        },
        {
          "output_type": "stream",
          "name": "stderr",
          "text": [
            "\rTraining the model:  87%|████████▋ | 869/1000 [02:59<00:35,  3.67epoch/s]"
          ]
        },
        {
          "output_type": "stream",
          "name": "stdout",
          "text": [
            "Epoch [869/1000], Loss: 0.0005, Test Loss: 0.0006\n"
          ]
        },
        {
          "output_type": "stream",
          "name": "stderr",
          "text": [
            "Training the model:  87%|████████▋ | 871/1000 [02:59<00:33,  3.81epoch/s]"
          ]
        },
        {
          "output_type": "stream",
          "name": "stdout",
          "text": [
            "Epoch [870/1000], Loss: 0.0005, Test Loss: 0.0006\n",
            "Epoch [871/1000], Loss: 0.0005, Test Loss: 0.0006\n"
          ]
        },
        {
          "output_type": "stream",
          "name": "stderr",
          "text": [
            "\rTraining the model:  87%|████████▋ | 872/1000 [02:59<00:31,  4.11epoch/s]"
          ]
        },
        {
          "output_type": "stream",
          "name": "stdout",
          "text": [
            "Epoch [872/1000], Loss: 0.0005, Test Loss: 0.0006\n"
          ]
        },
        {
          "output_type": "stream",
          "name": "stderr",
          "text": [
            "\rTraining the model:  87%|████████▋ | 873/1000 [03:00<00:39,  3.18epoch/s]"
          ]
        },
        {
          "output_type": "stream",
          "name": "stdout",
          "text": [
            "Epoch [873/1000], Loss: 0.0005, Test Loss: 0.0005\n"
          ]
        },
        {
          "output_type": "stream",
          "name": "stderr",
          "text": [
            "Training the model:  88%|████████▊ | 875/1000 [03:00<00:34,  3.58epoch/s]"
          ]
        },
        {
          "output_type": "stream",
          "name": "stdout",
          "text": [
            "Epoch [874/1000], Loss: 0.0005, Test Loss: 0.0005\n",
            "Epoch [875/1000], Loss: 0.0005, Test Loss: 0.0005\n"
          ]
        },
        {
          "output_type": "stream",
          "name": "stderr",
          "text": [
            "Training the model:  88%|████████▊ | 877/1000 [03:01<00:28,  4.34epoch/s]"
          ]
        },
        {
          "output_type": "stream",
          "name": "stdout",
          "text": [
            "Epoch [876/1000], Loss: 0.0005, Test Loss: 0.0005\n",
            "Epoch [877/1000], Loss: 0.0005, Test Loss: 0.0005\n"
          ]
        },
        {
          "output_type": "stream",
          "name": "stderr",
          "text": [
            "Training the model:  88%|████████▊ | 879/1000 [03:01<00:25,  4.83epoch/s]"
          ]
        },
        {
          "output_type": "stream",
          "name": "stdout",
          "text": [
            "Epoch [878/1000], Loss: 0.0005, Test Loss: 0.0005\n",
            "Epoch [879/1000], Loss: 0.0005, Test Loss: 0.0005\n"
          ]
        },
        {
          "output_type": "stream",
          "name": "stderr",
          "text": [
            "Training the model:  88%|████████▊ | 881/1000 [03:02<00:23,  5.03epoch/s]"
          ]
        },
        {
          "output_type": "stream",
          "name": "stdout",
          "text": [
            "Epoch [880/1000], Loss: 0.0005, Test Loss: 0.0005\n",
            "Epoch [881/1000], Loss: 0.0005, Test Loss: 0.0005\n"
          ]
        },
        {
          "output_type": "stream",
          "name": "stderr",
          "text": [
            "Training the model:  88%|████████▊ | 883/1000 [03:02<00:22,  5.20epoch/s]"
          ]
        },
        {
          "output_type": "stream",
          "name": "stdout",
          "text": [
            "Epoch [882/1000], Loss: 0.0005, Test Loss: 0.0005\n",
            "Epoch [883/1000], Loss: 0.0005, Test Loss: 0.0005\n"
          ]
        },
        {
          "output_type": "stream",
          "name": "stderr",
          "text": [
            "Training the model:  88%|████████▊ | 885/1000 [03:02<00:21,  5.24epoch/s]"
          ]
        },
        {
          "output_type": "stream",
          "name": "stdout",
          "text": [
            "Epoch [884/1000], Loss: 0.0005, Test Loss: 0.0005\n",
            "Epoch [885/1000], Loss: 0.0005, Test Loss: 0.0005\n"
          ]
        },
        {
          "output_type": "stream",
          "name": "stderr",
          "text": [
            "Training the model:  89%|████████▊ | 887/1000 [03:03<00:21,  5.21epoch/s]"
          ]
        },
        {
          "output_type": "stream",
          "name": "stdout",
          "text": [
            "Epoch [886/1000], Loss: 0.0005, Test Loss: 0.0005\n",
            "Epoch [887/1000], Loss: 0.0005, Test Loss: 0.0005\n"
          ]
        },
        {
          "output_type": "stream",
          "name": "stderr",
          "text": [
            "Training the model:  89%|████████▉ | 889/1000 [03:03<00:20,  5.36epoch/s]"
          ]
        },
        {
          "output_type": "stream",
          "name": "stdout",
          "text": [
            "Epoch [888/1000], Loss: 0.0005, Test Loss: 0.0005\n",
            "Epoch [889/1000], Loss: 0.0005, Test Loss: 0.0005\n"
          ]
        },
        {
          "output_type": "stream",
          "name": "stderr",
          "text": [
            "Training the model:  89%|████████▉ | 891/1000 [03:03<00:20,  5.43epoch/s]"
          ]
        },
        {
          "output_type": "stream",
          "name": "stdout",
          "text": [
            "Epoch [890/1000], Loss: 0.0005, Test Loss: 0.0005\n",
            "Epoch [891/1000], Loss: 0.0005, Test Loss: 0.0005\n"
          ]
        },
        {
          "output_type": "stream",
          "name": "stderr",
          "text": [
            "Training the model:  89%|████████▉ | 893/1000 [03:04<00:19,  5.39epoch/s]"
          ]
        },
        {
          "output_type": "stream",
          "name": "stdout",
          "text": [
            "Epoch [892/1000], Loss: 0.0005, Test Loss: 0.0005\n",
            "Epoch [893/1000], Loss: 0.0005, Test Loss: 0.0005\n"
          ]
        },
        {
          "output_type": "stream",
          "name": "stderr",
          "text": [
            "Training the model:  90%|████████▉ | 895/1000 [03:04<00:19,  5.33epoch/s]"
          ]
        },
        {
          "output_type": "stream",
          "name": "stdout",
          "text": [
            "Epoch [894/1000], Loss: 0.0005, Test Loss: 0.0005\n",
            "Epoch [895/1000], Loss: 0.0005, Test Loss: 0.0005\n"
          ]
        },
        {
          "output_type": "stream",
          "name": "stderr",
          "text": [
            "Training the model:  90%|████████▉ | 897/1000 [03:05<00:19,  5.31epoch/s]"
          ]
        },
        {
          "output_type": "stream",
          "name": "stdout",
          "text": [
            "Epoch [896/1000], Loss: 0.0005, Test Loss: 0.0005\n",
            "Epoch [897/1000], Loss: 0.0005, Test Loss: 0.0005\n"
          ]
        },
        {
          "output_type": "stream",
          "name": "stderr",
          "text": [
            "\rTraining the model:  90%|████████▉ | 898/1000 [03:05<00:21,  4.77epoch/s]"
          ]
        },
        {
          "output_type": "stream",
          "name": "stdout",
          "text": [
            "Epoch [898/1000], Loss: 0.0005, Test Loss: 0.0005\n"
          ]
        },
        {
          "output_type": "stream",
          "name": "stderr",
          "text": [
            "\rTraining the model:  90%|████████▉ | 899/1000 [03:05<00:22,  4.44epoch/s]"
          ]
        },
        {
          "output_type": "stream",
          "name": "stdout",
          "text": [
            "Epoch [899/1000], Loss: 0.0005, Test Loss: 0.0005\n"
          ]
        },
        {
          "output_type": "stream",
          "name": "stderr",
          "text": [
            "\rTraining the model:  90%|█████████ | 900/1000 [03:05<00:23,  4.20epoch/s]"
          ]
        },
        {
          "output_type": "stream",
          "name": "stdout",
          "text": [
            "Epoch [900/1000], Loss: 0.0005, Test Loss: 0.0005\n"
          ]
        },
        {
          "output_type": "stream",
          "name": "stderr",
          "text": [
            "\rTraining the model:  90%|█████████ | 901/1000 [03:06<00:24,  4.06epoch/s]"
          ]
        },
        {
          "output_type": "stream",
          "name": "stdout",
          "text": [
            "Epoch [901/1000], Loss: 0.0005, Test Loss: 0.0005\n"
          ]
        },
        {
          "output_type": "stream",
          "name": "stderr",
          "text": [
            "\rTraining the model:  90%|█████████ | 902/1000 [03:06<00:24,  4.01epoch/s]"
          ]
        },
        {
          "output_type": "stream",
          "name": "stdout",
          "text": [
            "Epoch [902/1000], Loss: 0.0005, Test Loss: 0.0005\n"
          ]
        },
        {
          "output_type": "stream",
          "name": "stderr",
          "text": [
            "\rTraining the model:  90%|█████████ | 903/1000 [03:06<00:24,  3.97epoch/s]"
          ]
        },
        {
          "output_type": "stream",
          "name": "stdout",
          "text": [
            "Epoch [903/1000], Loss: 0.0005, Test Loss: 0.0005\n"
          ]
        },
        {
          "output_type": "stream",
          "name": "stderr",
          "text": [
            "\rTraining the model:  90%|█████████ | 904/1000 [03:06<00:24,  3.96epoch/s]"
          ]
        },
        {
          "output_type": "stream",
          "name": "stdout",
          "text": [
            "Epoch [904/1000], Loss: 0.0005, Test Loss: 0.0005\n"
          ]
        },
        {
          "output_type": "stream",
          "name": "stderr",
          "text": [
            "\rTraining the model:  90%|█████████ | 905/1000 [03:07<00:24,  3.92epoch/s]"
          ]
        },
        {
          "output_type": "stream",
          "name": "stdout",
          "text": [
            "Epoch [905/1000], Loss: 0.0005, Test Loss: 0.0005\n"
          ]
        },
        {
          "output_type": "stream",
          "name": "stderr",
          "text": [
            "Training the model:  91%|█████████ | 907/1000 [03:07<00:21,  4.27epoch/s]"
          ]
        },
        {
          "output_type": "stream",
          "name": "stdout",
          "text": [
            "Epoch [906/1000], Loss: 0.0005, Test Loss: 0.0005\n",
            "Epoch [907/1000], Loss: 0.0005, Test Loss: 0.0005\n"
          ]
        },
        {
          "output_type": "stream",
          "name": "stderr",
          "text": [
            "Training the model:  91%|█████████ | 909/1000 [03:07<00:19,  4.75epoch/s]"
          ]
        },
        {
          "output_type": "stream",
          "name": "stdout",
          "text": [
            "Epoch [908/1000], Loss: 0.0005, Test Loss: 0.0005\n",
            "Epoch [909/1000], Loss: 0.0005, Test Loss: 0.0005\n"
          ]
        },
        {
          "output_type": "stream",
          "name": "stderr",
          "text": [
            "Training the model:  91%|█████████ | 911/1000 [03:08<00:17,  5.02epoch/s]"
          ]
        },
        {
          "output_type": "stream",
          "name": "stdout",
          "text": [
            "Epoch [910/1000], Loss: 0.0005, Test Loss: 0.0005\n",
            "Epoch [911/1000], Loss: 0.0005, Test Loss: 0.0005\n"
          ]
        },
        {
          "output_type": "stream",
          "name": "stderr",
          "text": [
            "Training the model:  91%|█████████▏| 913/1000 [03:08<00:16,  5.19epoch/s]"
          ]
        },
        {
          "output_type": "stream",
          "name": "stdout",
          "text": [
            "Epoch [912/1000], Loss: 0.0005, Test Loss: 0.0005\n",
            "Epoch [913/1000], Loss: 0.0005, Test Loss: 0.0005\n"
          ]
        },
        {
          "output_type": "stream",
          "name": "stderr",
          "text": [
            "Training the model:  92%|█████████▏| 915/1000 [03:09<00:15,  5.32epoch/s]"
          ]
        },
        {
          "output_type": "stream",
          "name": "stdout",
          "text": [
            "Epoch [914/1000], Loss: 0.0005, Test Loss: 0.0005\n",
            "Epoch [915/1000], Loss: 0.0005, Test Loss: 0.0005\n"
          ]
        },
        {
          "output_type": "stream",
          "name": "stderr",
          "text": [
            "Training the model:  92%|█████████▏| 917/1000 [03:09<00:15,  5.31epoch/s]"
          ]
        },
        {
          "output_type": "stream",
          "name": "stdout",
          "text": [
            "Epoch [916/1000], Loss: 0.0005, Test Loss: 0.0005\n",
            "Epoch [917/1000], Loss: 0.0005, Test Loss: 0.0005\n"
          ]
        },
        {
          "output_type": "stream",
          "name": "stderr",
          "text": [
            "Training the model:  92%|█████████▏| 919/1000 [03:09<00:15,  5.34epoch/s]"
          ]
        },
        {
          "output_type": "stream",
          "name": "stdout",
          "text": [
            "Epoch [918/1000], Loss: 0.0005, Test Loss: 0.0005\n",
            "Epoch [919/1000], Loss: 0.0005, Test Loss: 0.0005\n"
          ]
        },
        {
          "output_type": "stream",
          "name": "stderr",
          "text": [
            "Training the model:  92%|█████████▏| 921/1000 [03:10<00:14,  5.29epoch/s]"
          ]
        },
        {
          "output_type": "stream",
          "name": "stdout",
          "text": [
            "Epoch [920/1000], Loss: 0.0005, Test Loss: 0.0005\n",
            "Epoch [921/1000], Loss: 0.0005, Test Loss: 0.0005\n"
          ]
        },
        {
          "output_type": "stream",
          "name": "stderr",
          "text": [
            "Training the model:  92%|█████████▏| 923/1000 [03:10<00:14,  5.32epoch/s]"
          ]
        },
        {
          "output_type": "stream",
          "name": "stdout",
          "text": [
            "Epoch [922/1000], Loss: 0.0005, Test Loss: 0.0005\n",
            "Epoch [923/1000], Loss: 0.0005, Test Loss: 0.0005\n"
          ]
        },
        {
          "output_type": "stream",
          "name": "stderr",
          "text": [
            "Training the model:  92%|█████████▎| 925/1000 [03:10<00:14,  5.28epoch/s]"
          ]
        },
        {
          "output_type": "stream",
          "name": "stdout",
          "text": [
            "Epoch [924/1000], Loss: 0.0005, Test Loss: 0.0005\n",
            "Epoch [925/1000], Loss: 0.0005, Test Loss: 0.0005\n"
          ]
        },
        {
          "output_type": "stream",
          "name": "stderr",
          "text": [
            "Training the model:  93%|█████████▎| 927/1000 [03:11<00:14,  5.21epoch/s]"
          ]
        },
        {
          "output_type": "stream",
          "name": "stdout",
          "text": [
            "Epoch [926/1000], Loss: 0.0005, Test Loss: 0.0005\n",
            "Epoch [927/1000], Loss: 0.0005, Test Loss: 0.0005\n"
          ]
        },
        {
          "output_type": "stream",
          "name": "stderr",
          "text": [
            "Training the model:  93%|█████████▎| 929/1000 [03:11<00:13,  5.29epoch/s]"
          ]
        },
        {
          "output_type": "stream",
          "name": "stdout",
          "text": [
            "Epoch [928/1000], Loss: 0.0005, Test Loss: 0.0005\n",
            "Epoch [929/1000], Loss: 0.0005, Test Loss: 0.0005\n"
          ]
        },
        {
          "output_type": "stream",
          "name": "stderr",
          "text": [
            "Training the model:  93%|█████████▎| 931/1000 [03:12<00:13,  5.30epoch/s]"
          ]
        },
        {
          "output_type": "stream",
          "name": "stdout",
          "text": [
            "Epoch [930/1000], Loss: 0.0005, Test Loss: 0.0005\n",
            "Epoch [931/1000], Loss: 0.0005, Test Loss: 0.0005\n"
          ]
        },
        {
          "output_type": "stream",
          "name": "stderr",
          "text": [
            "Training the model:  93%|█████████▎| 933/1000 [03:12<00:12,  5.30epoch/s]"
          ]
        },
        {
          "output_type": "stream",
          "name": "stdout",
          "text": [
            "Epoch [932/1000], Loss: 0.0005, Test Loss: 0.0005\n",
            "Epoch [933/1000], Loss: 0.0005, Test Loss: 0.0005\n"
          ]
        },
        {
          "output_type": "stream",
          "name": "stderr",
          "text": [
            "Training the model:  94%|█████████▎| 935/1000 [03:12<00:12,  5.31epoch/s]"
          ]
        },
        {
          "output_type": "stream",
          "name": "stdout",
          "text": [
            "Epoch [934/1000], Loss: 0.0005, Test Loss: 0.0005\n",
            "Epoch [935/1000], Loss: 0.0005, Test Loss: 0.0005\n"
          ]
        },
        {
          "output_type": "stream",
          "name": "stderr",
          "text": [
            "Training the model:  94%|█████████▎| 937/1000 [03:13<00:12,  5.17epoch/s]"
          ]
        },
        {
          "output_type": "stream",
          "name": "stdout",
          "text": [
            "Epoch [936/1000], Loss: 0.0005, Test Loss: 0.0005\n",
            "Epoch [937/1000], Loss: 0.0005, Test Loss: 0.0005\n"
          ]
        },
        {
          "output_type": "stream",
          "name": "stderr",
          "text": [
            "Training the model:  94%|█████████▍| 939/1000 [03:13<00:11,  5.27epoch/s]"
          ]
        },
        {
          "output_type": "stream",
          "name": "stdout",
          "text": [
            "Epoch [938/1000], Loss: 0.0005, Test Loss: 0.0005\n",
            "Epoch [939/1000], Loss: 0.0005, Test Loss: 0.0005\n"
          ]
        },
        {
          "output_type": "stream",
          "name": "stderr",
          "text": [
            "Training the model:  94%|█████████▍| 941/1000 [03:13<00:11,  5.34epoch/s]"
          ]
        },
        {
          "output_type": "stream",
          "name": "stdout",
          "text": [
            "Epoch [940/1000], Loss: 0.0005, Test Loss: 0.0005\n",
            "Epoch [941/1000], Loss: 0.0005, Test Loss: 0.0005\n"
          ]
        },
        {
          "output_type": "stream",
          "name": "stderr",
          "text": [
            "Training the model:  94%|█████████▍| 943/1000 [03:14<00:10,  5.31epoch/s]"
          ]
        },
        {
          "output_type": "stream",
          "name": "stdout",
          "text": [
            "Epoch [942/1000], Loss: 0.0005, Test Loss: 0.0005\n",
            "Epoch [943/1000], Loss: 0.0005, Test Loss: 0.0005\n"
          ]
        },
        {
          "output_type": "stream",
          "name": "stderr",
          "text": [
            "Training the model:  94%|█████████▍| 945/1000 [03:14<00:10,  5.29epoch/s]"
          ]
        },
        {
          "output_type": "stream",
          "name": "stdout",
          "text": [
            "Epoch [944/1000], Loss: 0.0005, Test Loss: 0.0005\n",
            "Epoch [945/1000], Loss: 0.0005, Test Loss: 0.0005\n"
          ]
        },
        {
          "output_type": "stream",
          "name": "stderr",
          "text": [
            "Training the model:  95%|█████████▍| 947/1000 [03:15<00:09,  5.33epoch/s]"
          ]
        },
        {
          "output_type": "stream",
          "name": "stdout",
          "text": [
            "Epoch [946/1000], Loss: 0.0005, Test Loss: 0.0005\n",
            "Epoch [947/1000], Loss: 0.0005, Test Loss: 0.0005\n"
          ]
        },
        {
          "output_type": "stream",
          "name": "stderr",
          "text": [
            "Training the model:  95%|█████████▍| 949/1000 [03:15<00:09,  5.32epoch/s]"
          ]
        },
        {
          "output_type": "stream",
          "name": "stdout",
          "text": [
            "Epoch [948/1000], Loss: 0.0005, Test Loss: 0.0005\n",
            "Epoch [949/1000], Loss: 0.0005, Test Loss: 0.0005\n"
          ]
        },
        {
          "output_type": "stream",
          "name": "stderr",
          "text": [
            "Training the model:  95%|█████████▌| 951/1000 [03:15<00:09,  5.33epoch/s]"
          ]
        },
        {
          "output_type": "stream",
          "name": "stdout",
          "text": [
            "Epoch [950/1000], Loss: 0.0005, Test Loss: 0.0005\n",
            "Epoch [951/1000], Loss: 0.0005, Test Loss: 0.0005\n"
          ]
        },
        {
          "output_type": "stream",
          "name": "stderr",
          "text": [
            "Training the model:  95%|█████████▌| 953/1000 [03:16<00:08,  5.37epoch/s]"
          ]
        },
        {
          "output_type": "stream",
          "name": "stdout",
          "text": [
            "Epoch [952/1000], Loss: 0.0005, Test Loss: 0.0005\n",
            "Epoch [953/1000], Loss: 0.0005, Test Loss: 0.0005\n"
          ]
        },
        {
          "output_type": "stream",
          "name": "stderr",
          "text": [
            "Training the model:  96%|█████████▌| 955/1000 [03:16<00:08,  5.26epoch/s]"
          ]
        },
        {
          "output_type": "stream",
          "name": "stdout",
          "text": [
            "Epoch [954/1000], Loss: 0.0005, Test Loss: 0.0005\n",
            "Epoch [955/1000], Loss: 0.0005, Test Loss: 0.0005\n"
          ]
        },
        {
          "output_type": "stream",
          "name": "stderr",
          "text": [
            "Training the model:  96%|█████████▌| 957/1000 [03:16<00:08,  5.32epoch/s]"
          ]
        },
        {
          "output_type": "stream",
          "name": "stdout",
          "text": [
            "Epoch [956/1000], Loss: 0.0005, Test Loss: 0.0005\n",
            "Epoch [957/1000], Loss: 0.0005, Test Loss: 0.0005\n"
          ]
        },
        {
          "output_type": "stream",
          "name": "stderr",
          "text": [
            "\rTraining the model:  96%|█████████▌| 958/1000 [03:17<00:07,  5.32epoch/s]"
          ]
        },
        {
          "output_type": "stream",
          "name": "stdout",
          "text": [
            "Epoch [958/1000], Loss: 0.0005, Test Loss: 0.0005\n"
          ]
        },
        {
          "output_type": "stream",
          "name": "stderr",
          "text": [
            "\rTraining the model:  96%|█████████▌| 959/1000 [03:17<00:07,  5.17epoch/s]"
          ]
        },
        {
          "output_type": "stream",
          "name": "stdout",
          "text": [
            "Epoch [959/1000], Loss: 0.0005, Test Loss: 0.0005\n"
          ]
        },
        {
          "output_type": "stream",
          "name": "stderr",
          "text": [
            "\rTraining the model:  96%|█████████▌| 960/1000 [03:17<00:08,  4.71epoch/s]"
          ]
        },
        {
          "output_type": "stream",
          "name": "stdout",
          "text": [
            "Epoch [960/1000], Loss: 0.0005, Test Loss: 0.0005\n"
          ]
        },
        {
          "output_type": "stream",
          "name": "stderr",
          "text": [
            "\rTraining the model:  96%|█████████▌| 961/1000 [03:17<00:08,  4.45epoch/s]"
          ]
        },
        {
          "output_type": "stream",
          "name": "stdout",
          "text": [
            "Epoch [961/1000], Loss: 0.0005, Test Loss: 0.0005\n"
          ]
        },
        {
          "output_type": "stream",
          "name": "stderr",
          "text": [
            "\rTraining the model:  96%|█████████▌| 962/1000 [03:18<00:08,  4.31epoch/s]"
          ]
        },
        {
          "output_type": "stream",
          "name": "stdout",
          "text": [
            "Epoch [962/1000], Loss: 0.0005, Test Loss: 0.0005\n"
          ]
        },
        {
          "output_type": "stream",
          "name": "stderr",
          "text": [
            "\rTraining the model:  96%|█████████▋| 963/1000 [03:18<00:09,  4.10epoch/s]"
          ]
        },
        {
          "output_type": "stream",
          "name": "stdout",
          "text": [
            "Epoch [963/1000], Loss: 0.0005, Test Loss: 0.0005\n"
          ]
        },
        {
          "output_type": "stream",
          "name": "stderr",
          "text": [
            "\rTraining the model:  96%|█████████▋| 964/1000 [03:18<00:08,  4.02epoch/s]"
          ]
        },
        {
          "output_type": "stream",
          "name": "stdout",
          "text": [
            "Epoch [964/1000], Loss: 0.0005, Test Loss: 0.0005\n"
          ]
        },
        {
          "output_type": "stream",
          "name": "stderr",
          "text": [
            "\rTraining the model:  96%|█████████▋| 965/1000 [03:18<00:08,  3.98epoch/s]"
          ]
        },
        {
          "output_type": "stream",
          "name": "stdout",
          "text": [
            "Epoch [965/1000], Loss: 0.0005, Test Loss: 0.0005\n"
          ]
        },
        {
          "output_type": "stream",
          "name": "stderr",
          "text": [
            "\rTraining the model:  97%|█████████▋| 966/1000 [03:19<00:08,  3.92epoch/s]"
          ]
        },
        {
          "output_type": "stream",
          "name": "stdout",
          "text": [
            "Epoch [966/1000], Loss: 0.0005, Test Loss: 0.0005\n"
          ]
        },
        {
          "output_type": "stream",
          "name": "stderr",
          "text": [
            "\rTraining the model:  97%|█████████▋| 967/1000 [03:19<00:08,  3.85epoch/s]"
          ]
        },
        {
          "output_type": "stream",
          "name": "stdout",
          "text": [
            "Epoch [967/1000], Loss: 0.0005, Test Loss: 0.0005\n"
          ]
        },
        {
          "output_type": "stream",
          "name": "stderr",
          "text": [
            "Training the model:  97%|█████████▋| 969/1000 [03:19<00:07,  4.30epoch/s]"
          ]
        },
        {
          "output_type": "stream",
          "name": "stdout",
          "text": [
            "Epoch [968/1000], Loss: 0.0005, Test Loss: 0.0005\n",
            "Epoch [969/1000], Loss: 0.0005, Test Loss: 0.0005\n"
          ]
        },
        {
          "output_type": "stream",
          "name": "stderr",
          "text": [
            "Training the model:  97%|█████████▋| 971/1000 [03:20<00:06,  4.76epoch/s]"
          ]
        },
        {
          "output_type": "stream",
          "name": "stdout",
          "text": [
            "Epoch [970/1000], Loss: 0.0005, Test Loss: 0.0005\n",
            "Epoch [971/1000], Loss: 0.0005, Test Loss: 0.0005\n"
          ]
        },
        {
          "output_type": "stream",
          "name": "stderr",
          "text": [
            "Training the model:  97%|█████████▋| 973/1000 [03:20<00:05,  5.02epoch/s]"
          ]
        },
        {
          "output_type": "stream",
          "name": "stdout",
          "text": [
            "Epoch [972/1000], Loss: 0.0005, Test Loss: 0.0005\n",
            "Epoch [973/1000], Loss: 0.0005, Test Loss: 0.0005\n"
          ]
        },
        {
          "output_type": "stream",
          "name": "stderr",
          "text": [
            "Training the model:  98%|█████████▊| 975/1000 [03:21<00:04,  5.24epoch/s]"
          ]
        },
        {
          "output_type": "stream",
          "name": "stdout",
          "text": [
            "Epoch [974/1000], Loss: 0.0005, Test Loss: 0.0005\n",
            "Epoch [975/1000], Loss: 0.0005, Test Loss: 0.0005\n"
          ]
        },
        {
          "output_type": "stream",
          "name": "stderr",
          "text": [
            "Training the model:  98%|█████████▊| 977/1000 [03:21<00:04,  5.32epoch/s]"
          ]
        },
        {
          "output_type": "stream",
          "name": "stdout",
          "text": [
            "Epoch [976/1000], Loss: 0.0005, Test Loss: 0.0005\n",
            "Epoch [977/1000], Loss: 0.0005, Test Loss: 0.0005\n"
          ]
        },
        {
          "output_type": "stream",
          "name": "stderr",
          "text": [
            "Training the model:  98%|█████████▊| 979/1000 [03:21<00:03,  5.28epoch/s]"
          ]
        },
        {
          "output_type": "stream",
          "name": "stdout",
          "text": [
            "Epoch [978/1000], Loss: 0.0005, Test Loss: 0.0005\n",
            "Epoch [979/1000], Loss: 0.0005, Test Loss: 0.0005\n"
          ]
        },
        {
          "output_type": "stream",
          "name": "stderr",
          "text": [
            "Training the model:  98%|█████████▊| 981/1000 [03:22<00:03,  5.30epoch/s]"
          ]
        },
        {
          "output_type": "stream",
          "name": "stdout",
          "text": [
            "Epoch [980/1000], Loss: 0.0005, Test Loss: 0.0005\n",
            "Epoch [981/1000], Loss: 0.0005, Test Loss: 0.0005\n"
          ]
        },
        {
          "output_type": "stream",
          "name": "stderr",
          "text": [
            "Training the model:  98%|█████████▊| 983/1000 [03:22<00:03,  5.24epoch/s]"
          ]
        },
        {
          "output_type": "stream",
          "name": "stdout",
          "text": [
            "Epoch [982/1000], Loss: 0.0005, Test Loss: 0.0005\n",
            "Epoch [983/1000], Loss: 0.0005, Test Loss: 0.0005\n"
          ]
        },
        {
          "output_type": "stream",
          "name": "stderr",
          "text": [
            "Training the model:  98%|█████████▊| 985/1000 [03:22<00:02,  5.35epoch/s]"
          ]
        },
        {
          "output_type": "stream",
          "name": "stdout",
          "text": [
            "Epoch [984/1000], Loss: 0.0005, Test Loss: 0.0005\n",
            "Epoch [985/1000], Loss: 0.0005, Test Loss: 0.0005\n"
          ]
        },
        {
          "output_type": "stream",
          "name": "stderr",
          "text": [
            "Training the model:  99%|█████████▊| 987/1000 [03:23<00:02,  5.39epoch/s]"
          ]
        },
        {
          "output_type": "stream",
          "name": "stdout",
          "text": [
            "Epoch [986/1000], Loss: 0.0005, Test Loss: 0.0005\n",
            "Epoch [987/1000], Loss: 0.0005, Test Loss: 0.0005\n"
          ]
        },
        {
          "output_type": "stream",
          "name": "stderr",
          "text": [
            "Training the model:  99%|█████████▉| 989/1000 [03:23<00:02,  5.38epoch/s]"
          ]
        },
        {
          "output_type": "stream",
          "name": "stdout",
          "text": [
            "Epoch [988/1000], Loss: 0.0005, Test Loss: 0.0005\n",
            "Epoch [989/1000], Loss: 0.0005, Test Loss: 0.0005\n"
          ]
        },
        {
          "output_type": "stream",
          "name": "stderr",
          "text": [
            "Training the model:  99%|█████████▉| 991/1000 [03:24<00:01,  5.34epoch/s]"
          ]
        },
        {
          "output_type": "stream",
          "name": "stdout",
          "text": [
            "Epoch [990/1000], Loss: 0.0005, Test Loss: 0.0005\n",
            "Epoch [991/1000], Loss: 0.0005, Test Loss: 0.0005\n"
          ]
        },
        {
          "output_type": "stream",
          "name": "stderr",
          "text": [
            "Training the model:  99%|█████████▉| 993/1000 [03:24<00:01,  5.30epoch/s]"
          ]
        },
        {
          "output_type": "stream",
          "name": "stdout",
          "text": [
            "Epoch [992/1000], Loss: 0.0005, Test Loss: 0.0005\n",
            "Epoch [993/1000], Loss: 0.0005, Test Loss: 0.0005\n"
          ]
        },
        {
          "output_type": "stream",
          "name": "stderr",
          "text": [
            "Training the model: 100%|█████████▉| 995/1000 [03:24<00:00,  5.29epoch/s]"
          ]
        },
        {
          "output_type": "stream",
          "name": "stdout",
          "text": [
            "Epoch [994/1000], Loss: 0.0005, Test Loss: 0.0005\n",
            "Epoch [995/1000], Loss: 0.0005, Test Loss: 0.0005\n"
          ]
        },
        {
          "output_type": "stream",
          "name": "stderr",
          "text": [
            "Training the model: 100%|█████████▉| 997/1000 [03:25<00:00,  5.37epoch/s]"
          ]
        },
        {
          "output_type": "stream",
          "name": "stdout",
          "text": [
            "Epoch [996/1000], Loss: 0.0005, Test Loss: 0.0005\n",
            "Epoch [997/1000], Loss: 0.0005, Test Loss: 0.0005\n"
          ]
        },
        {
          "output_type": "stream",
          "name": "stderr",
          "text": [
            "Training the model: 100%|█████████▉| 999/1000 [03:25<00:00,  5.33epoch/s]"
          ]
        },
        {
          "output_type": "stream",
          "name": "stdout",
          "text": [
            "Epoch [998/1000], Loss: 0.0005, Test Loss: 0.0005\n",
            "Epoch [999/1000], Loss: 0.0005, Test Loss: 0.0005\n"
          ]
        },
        {
          "output_type": "stream",
          "name": "stderr",
          "text": [
            "Training the model: 100%|██████████| 1000/1000 [03:25<00:00,  4.86epoch/s]\n"
          ]
        },
        {
          "output_type": "stream",
          "name": "stdout",
          "text": [
            "Epoch [1000/1000], Loss: 0.0005, Test Loss: 0.0005\n"
          ]
        },
        {
          "output_type": "display_data",
          "data": {
            "text/plain": [
              "<Figure size 640x480 with 1 Axes>"
            ],
            "image/png": "[encoded data removed]"
          },
          "metadata": {}
        }
      ],
      "source": [
        "# Set the input sequence length to one week (168 hours)\n",
        "input_seq_len = 24*7 # time steps\n",
        "output = 1  # predict one time step into the future\n",
        "# Initialize the encoder and decoder\n",
        "model = Model(input_size=1, output_size=output, hidden_dim=128, n_layers=3) # 3 layers, 128 hidden nodes each\n",
        "model = model.to(device)  # Move the model to the specified device\n",
        "# Set the number of training epochs and learning rate\n",
        "num_epochs = 1000\n",
        "learning_rate = 0.00001\n",
        "\n",
        "# Get the data loaders\n",
        "file_path = \"data/bilan-electrique.csv\"\n",
        "train_loader, test_loader, scaler = preprocess_data(file_path, sequence_length=input_seq_len, output_seq_len=output, batch_size=32)\n",
        "\n",
        "# Train the model\n",
        "model = train_model(model, train_loader, test_loader, num_epochs, learning_rate)"
      ]
    },
    {
      "cell_type": "code",
      "execution_count": 23,
      "metadata": {
        "id": "IA6vCgIHSHSD"
      },
      "outputs": [],
      "source": [
        "#save model to file\n",
        "torch.save(model.state_dict(), 'model/model_{}.pth'.format(datetime.now().strftime(\"%Y%m%d_%H%M%S\")))"
      ]
    },
    {
      "cell_type": "markdown",
      "metadata": {
        "id": "VShR3K8ySHSD"
      },
      "source": [
        "# Show the prediction of our model"
      ]
    },
    {
      "cell_type": "code",
      "execution_count": 19,
      "metadata": {
        "id": "RlN1pXcBSHSD"
      },
      "outputs": [],
      "source": [
        "from typing import Tuple, List\n",
        "def forecast(model: torch.nn.Module , df: pd.DataFrame , sequence_length : int , scaler , to_predict : int, device: torch.device) -> Tuple[List[float], List[float]]:\n",
        "    \"\"\"Forecast the next to_predict of consumption using the trained model and the last week of data.\n",
        "    It is assumed that the model was trained with the same sequence_length.\n",
        "    The predictions are done in a rolling manner, i.e. the first prediction is done using the last week of data, the second using the last week + the first prediction, etc.\n",
        "\n",
        "    Args:\n",
        "        model (torch.nn.Module): The trained model\n",
        "        df (pandas.DataFrame): The dataframe containing the data\n",
        "        sequence_length (int): The length of the input sequence used to predict the next value\n",
        "        scaler (sklearn.preprocessing.MinMaxScaler): The scaler used to scale the data\n",
        "        to_predict (int): The number of hours to predict\n",
        "        device (torch.device): The device (CPU or GPU) to use for computation\n",
        "    \n",
        "    Returns:\n",
        "        predicted (list): The predicted values\n",
        "        real (list): The real values to predict\n",
        "    \"\"\"\n",
        "    \n",
        "    # Extract the last week data and scale it\n",
        "    last_week = df['consommation_totale'].values[-(sequence_length+to_predict):].reshape(-1, 1)\n",
        "    last_week_scaled = scaler.transform(last_week)\n",
        "    model.eval()  # set the model to evaluation mode\n",
        "    predicted = []  # list to store the predicted values\n",
        "    real = []  # list to store the real values\n",
        "    first_seq = last_week_scaled[:-to_predict]\n",
        "    sequence = first_seq\n",
        "    with torch.no_grad():\n",
        "        # Start predicting the next week consumption hour by hour\n",
        "        for i in range(to_predict):  # 24 hours * 7 days = 168 hours\n",
        "            sequence = torch.FloatTensor(sequence).to(device)  # get the last sequence_length values and move to the device\n",
        "            sequence = sequence.unsqueeze(0)  # add a batch dimension\n",
        "            prediction = model(sequence)  # make a prediction\n",
        "            predicted_value = prediction[0, -1].item()  # get the last value (last hour prediction)\n",
        "            predicted.append(scaler.inverse_transform([[predicted_value]]))  # reverse the scaling and append the prediction to the list\n",
        "            \n",
        "            # Append the real value to the list\n",
        "            try:\n",
        "                real_value = df['consommation_totale'].values[i-(to_predict)]\n",
        "                real.append(real_value)\n",
        "            except IndexError:  # if we've stepped out of the dataset boundaries (means we're predicting the future values)\n",
        "                real.append(None)\n",
        "            \n",
        "            # replace in sequence the first value with the predicted value\n",
        "            sequence = sequence.squeeze(0).cpu()  # move the sequence back to CPU for numpy operations\n",
        "            sequence = sequence[1:]\n",
        "            sequence = torch.cat([sequence, torch.FloatTensor([[predicted_value]])], dim=0)\n",
        "            \n",
        "    # Flatten the predicted list to have 1D list\n",
        "    predicted = [item[0][0] for item in predicted]\n",
        "    \n",
        "    return predicted, real\n"
      ]
    },
    {
      "cell_type": "code",
      "execution_count": 20,
      "metadata": {
        "id": "Q81NgnGNSHSD",
        "outputId": "e23b6866-9c83-4fbb-b9cc-0fa1c699ff9c",
        "colab": {
          "base_uri": "https://localhost:8080/"
        }
      },
      "outputs": [
        {
          "output_type": "stream",
          "name": "stdout",
          "text": [
            "168\n",
            "168\n"
          ]
        }
      ],
      "source": [
        "time_to_predict = 24*7\n",
        "df = read_data(file_path)\n",
        "predicted, real = forecast(model, df, input_seq_len, scaler, to_predict = time_to_predict, device = device)\n",
        "print(len(predicted))\n",
        "print(len(real))"
      ]
    },
    {
      "cell_type": "code",
      "execution_count": 21,
      "metadata": {
        "id": "lEOOPfA5SHSD",
        "outputId": "ec3344d2-dcb6-4077-fe98-e46f68a2e7b3",
        "colab": {
          "base_uri": "https://localhost:8080/",
          "height": 641
        }
      },
      "outputs": [
        {
          "output_type": "display_data",
          "data": {
            "text/plain": [
              "<Figure size 1400x700 with 1 Axes>"
            ],
            "image/png": "[encoded data removed]"
          },
          "metadata": {}
        }
      ],
      "source": [
        "# Create the x axis. It represents the hour of the week from 0 to 168\n",
        "x = list(range(0, time_to_predict))\n",
        "# Plot the predicted and real values\n",
        "plt.figure(figsize=(14, 7))\n",
        "plt.plot(x, predicted, label='Predicted')\n",
        "plt.plot(x, real, label='Real')\n",
        "plt.title('Predicted vs Real Energy Consumption')\n",
        "plt.xlabel('Hour of the week')\n",
        "plt.ylabel('Energy Consumption')\n",
        "plt.legend()\n",
        "plt.show()\n"
      ]
    }
  ],
  "metadata": {
    "colab": {
      "name": "case_study_arima_group_n.ipynb",
      "provenance": [],
      "gpuType": "T4"
    },
    "kernelspec": {
      "display_name": "venv",
      "language": "python",
      "name": "python3"
    },
    "language_info": {
      "codemirror_mode": {
        "name": "ipython",
        "version": 3
      },
      "file_extension": ".py",
      "mimetype": "text/x-python",
      "name": "python",
      "nbconvert_exporter": "python",
      "pygments_lexer": "ipython3",
      "version": "3.9.13"
    },
    "toc": {
      "base_numbering": 1,
      "nav_menu": {},
      "number_sections": true,
      "sideBar": true,
      "skip_h1_title": false,
      "title_cell": "Table of Contents",
      "title_sidebar": "Contents",
      "toc_cell": false,
      "toc_position": {},
      "toc_section_display": true,
      "toc_window_display": false
    },
    "accelerator": "GPU",
    "gpuClass": "standard"
  },
  "nbformat": 4,
  "nbformat_minor": 0
}